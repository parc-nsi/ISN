{
 "cells": [
  {
   "cell_type": "code",
   "execution_count": 1,
   "metadata": {},
   "outputs": [
    {
     "name": "stdout",
     "output_type": "stream",
     "text": [
      "(512, 512) PNG L\n",
      "129\n",
      "[162 162 164 162 161 157 163 161 164 160 163 160 153 161 159 154 154 155\n",
      " 160 158]\n",
      "53\n"
     ]
    }
   ],
   "source": [
    "from PIL import Image\n",
    "import numpy\n",
    "\n",
    "\n",
    "#on ouvre l'image\n",
    "im = Image.open('lenagray.png')\n",
    "\n",
    "#on affiche les dimensions, le format de fichier et le mode de l'image (binaire, niveaux de gris (L), RGB)\n",
    "print(im.size,im.format, im.mode)\n",
    "\n",
    "#on transforme l'image en tableau numpy à 2 dimensions  de pixels    \n",
    "tab = numpy.asarray(im)\n",
    "\n",
    "#on affiche le pixel en première ligne et dernière colonne\n",
    "print(tab[0][511])\n",
    "\n",
    "#on affiche les vingt premiers pixels de la première ligne\n",
    "print(tab[0][:20])\n",
    "\n",
    "#on affiche le pixel en dernière ligne et première colonne\n",
    "print(tab[511][0])\n",
    "\n",
    "#un flop\n",
    "\n",
    "#on crée un tableau 2 de mêmes dimensions que tab et rempli de 0\n",
    "#Attention à bien créer un tableau numpy et à préciser le type 'uint8' qui correspond à un octer par pixel\n",
    "nblig, nbcol = len(tab), len(tab[0])\n",
    "tab2 = numpy.array([ [0] * nbcol for _ in range(nblig) ], dtype ='uint8')\n",
    "\n",
    "#on recopie tab dans tab 2 mais en inversant l'ordre des lignes  (flop)\n",
    "for lig in range(0, nblig):\n",
    "    for col in range(0, nbcol):\n",
    "        tab2[lig][col] = tab[nblig - 1 - lig][col]\n",
    "        \n",
    "#on transforme tab2 en image\n",
    "im2 = Image.fromarray(tab2)\n",
    "#on enregistre cette image sur le disque\n",
    "im2.save(\"lenagray-flop.png\")\n",
    "\n",
    "#Un flip \n",
    "\n",
    "#on crée un tableau 2 de mêmes dimensions que tab et rempli de 0\n",
    "#Attention à bien créer un tableau numpy et à préciser le type 'uint8' qui correspond à un octer par pixel\n",
    "nblig, nbcol = len(tab), len(tab[0])\n",
    "tab3 = numpy.array([ [0] * nbcol for _ in range(nblig) ], dtype ='uint8')\n",
    "\n",
    "#on recopie tab dans tab 2 mais en inversant l'ordre des lignes  (flop)\n",
    "for lig in range(0, nblig):\n",
    "    for col in range(0, nbcol):\n",
    "        tab3[lig][col] = tab[lig][nbcol - 1 - col]\n",
    "        \n",
    "#on transforme tab2 en image\n",
    "im3 = Image.fromarray(tab3)\n",
    "#on enregistre cette image sur le disque\n",
    "im3.save(\"lenagray-flip.png\")\n",
    "\n",
    "#passons au négatif\n",
    "def negatif_gris(source, but):\n",
    "    \"\"\"Enregistre sur le disque un négatif de l'image source en niveaux de gris\"\"\"\n",
    "    imsource= Image.open(source)\n",
    "    tab = numpy.asarray(imsource)\n",
    "    nbcol, nblig = len(tab[0]), len(tab)\n",
    "    tab2 = numpy.array([ [0] * nbcol for _ in range(nblig) ], dtype ='uint8')    \n",
    "    for lig in range(nblig):\n",
    "        for col in range(nbcol):\n",
    "            tab2[lig][col] = 255 - tab[lig][col]\n",
    "    imbut = Image.fromarray(tab2)\n",
    "    imbut.save(but)\n",
    "\n",
    "negatif_gris('lenagray.png', 'lenagray-negatif.png')"
   ]
  }
 ],
 "metadata": {
  "kernelspec": {
   "display_name": "Python 3",
   "language": "python",
   "name": "python3"
  },
  "language_info": {
   "codemirror_mode": {
    "name": "ipython",
    "version": 3
   },
   "file_extension": ".py",
   "mimetype": "text/x-python",
   "name": "python",
   "nbconvert_exporter": "python",
   "pygments_lexer": "ipython3",
   "version": "3.6.9"
  }
 },
 "nbformat": 4,
 "nbformat_minor": 2
}
