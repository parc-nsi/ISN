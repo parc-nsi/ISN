{
 "cells": [
  {
   "cell_type": "markdown",
   "metadata": {},
   "source": [
    "## Module `turtle`"
   ]
  },
  {
   "cell_type": "markdown",
   "metadata": {},
   "source": [
    "## Exercice 3 Spirales"
   ]
  },
  {
   "cell_type": "code",
   "execution_count": 13,
   "metadata": {},
   "outputs": [],
   "source": [
    "from turtle import *\n",
    "\n",
    "penup()\n",
    "goto(0,0)\n",
    "pendown()\n",
    "c = 5\n",
    "for i in range(4):\n",
    "    for j in range(4):\n",
    "        forward(c)\n",
    "        c = 10 + c\n",
    "        left(90)\n",
    "exitonclick()"
   ]
  },
  {
   "cell_type": "code",
   "execution_count": 17,
   "metadata": {},
   "outputs": [],
   "source": [
    "def spirale1(n):\n",
    "    \"\"\"Trace une spirale avec n boucles de 4 cotés\"\"\"\n",
    "    penup()\n",
    "    goto(0,0)\n",
    "    pendown()\n",
    "    c = 5\n",
    "    for i in range(n):\n",
    "        for j in range(4):\n",
    "            forward(c)\n",
    "            c = 10 + c\n",
    "            left(90)\n",
    "    exitonclick()"
   ]
  },
  {
   "cell_type": "code",
   "execution_count": 20,
   "metadata": {},
   "outputs": [],
   "source": [
    "def spirale2(n,m):\n",
    "    \"\"\"Trace une spirale avec n boucles de m cotés\"\"\"\n",
    "    penup()\n",
    "    goto(0,0)\n",
    "    pendown()\n",
    "    c = 5\n",
    "    for i in range(n):\n",
    "        for j in range(m):\n",
    "            forward(c)\n",
    "            c = 10 + c\n",
    "            left(360//m)\n",
    "    exitonclick()\n",
    "    "
   ]
  },
  {
   "cell_type": "code",
   "execution_count": 23,
   "metadata": {},
   "outputs": [],
   "source": [
    "spirale2(3, 5)"
   ]
  },
  {
   "cell_type": "code",
   "execution_count": 158,
   "metadata": {},
   "outputs": [],
   "source": [
    "from math import sin, pi\n",
    "\n",
    "def spirale3(n, m):\n",
    "    shape('turtle')\n",
    "    ecart = 10\n",
    "    rayon = 20\n",
    "    cote = 20\n",
    "    for i in range(n):\n",
    "        penup()\n",
    "        goto(0,0)\n",
    "        setheading(-90)\n",
    "        forward(rayon)\n",
    "        pendown()\n",
    "        setheading(180/m)\n",
    "        cote = 2 * rayon * sin(pi/m)\n",
    "        for j in range(m):\n",
    "            forward(cote)\n",
    "            left(360/m)\n",
    "        rayon = rayon + ecart\n",
    "    exitonclick()"
   ]
  },
  {
   "cell_type": "code",
   "execution_count": null,
   "metadata": {},
   "outputs": [],
   "source": [
    "spirale3(4,6)"
   ]
  },
  {
   "cell_type": "code",
   "execution_count": 120,
   "metadata": {},
   "outputs": [
    {
     "data": {
      "text/plain": [
       "-0.9880316240928618"
      ]
     },
     "execution_count": 120,
     "metadata": {},
     "output_type": "execute_result"
    }
   ],
   "source": [
    "sin(30)"
   ]
  }
 ],
 "metadata": {
  "kernelspec": {
   "display_name": "Python 3",
   "language": "python",
   "name": "python3"
  },
  "language_info": {
   "codemirror_mode": {
    "name": "ipython",
    "version": 3
   },
   "file_extension": ".py",
   "mimetype": "text/x-python",
   "name": "python",
   "nbconvert_exporter": "python",
   "pygments_lexer": "ipython3",
   "version": "3.7.3"
  }
 },
 "nbformat": 4,
 "nbformat_minor": 2
}
