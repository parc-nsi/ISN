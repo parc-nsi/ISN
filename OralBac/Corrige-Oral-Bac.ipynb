{
 "cells": [
  {
   "cell_type": "markdown",
   "metadata": {},
   "source": [
    "# Corrigés des exercices"
   ]
  },
  {
   "cell_type": "markdown",
   "metadata": {},
   "source": [
    "## Exercice 6"
   ]
  },
  {
   "cell_type": "markdown",
   "metadata": {},
   "source": [
    "**Exercice 6**\n",
    "\n",
    "Pour le diplôme du baccalauréat, si on note\n",
    "![m](https://latex.codecogs.com/png.latex?m \"m\") la moyenne du candidat,\n",
    "quatre mentions sont possibles : *Passable* si ![10 \\\\leqslant m\n",
    "\\< 12](https://latex.codecogs.com/png.latex?10%20%5Cleqslant%20m%20%3C%2012\n",
    "\"10 \\\\leqslant m \\< 12\"), *Assez bien* si ![12 \\\\leqslant m\n",
    "\\< 14](https://latex.codecogs.com/png.latex?12%20%5Cleqslant%20m%20%3C%2014\n",
    "\"12 \\\\leqslant m \\< 14\"), *Bien* si ![14 \\\\leqslant m\n",
    "\\< 16](https://latex.codecogs.com/png.latex?14%20%5Cleqslant%20m%20%3C%2016\n",
    "\"14 \\\\leqslant m \\< 16\") et *Très bien* sinon. Recopier et compléter le\n",
    "script Python ci-dessous pour qu’il affiche la mention d’un candidat\n",
    "admis (on suppose sa moyenne supérieure ou égale à 10).\n",
    "\n",
    "``` python\n",
    "m = float(input('Moyenne du candidat ? '))\n",
    "if 10 <= m < 12:\n",
    "    print(\"Passable\")\n",
    "#to be completed\n",
    "```\n",
    "\n"
   ]
  },
  {
   "cell_type": "code",
   "execution_count": 3,
   "metadata": {},
   "outputs": [
    {
     "name": "stdout",
     "output_type": "stream",
     "text": [
      "Moyenne du candidat ? 15\n",
      "Bien\n"
     ]
    }
   ],
   "source": [
    "m = float(input('Moyenne du candidat ? '))\n",
    "if 10 <= m < 12:\n",
    "    print(\"Passable\")\n",
    "elif 12 <= m < 14:\n",
    "    print(\"Assez Bien\")\n",
    "elif 14 <= m < 16:\n",
    "    print(\"Bien\")\n",
    "else:\n",
    "    print(\"Très Bien\")"
   ]
  },
  {
   "cell_type": "markdown",
   "metadata": {},
   "source": [
    "\n",
    "## Exercice 8\n",
    "\n",
    "*Auteur : Christophe Beasse*\n",
    "\n",
    "Que contient la variable `a` si on exécute ce script ?\n",
    "\n",
    "``` python\n",
    "def carre(val):\n",
    "  return val*val\n",
    "\n",
    "def inc(val):\n",
    "  return val + 1\n",
    "\n",
    "a = carre(inc(3.0))\n",
    "```\n",
    "\n",
    "1.  9.0\n",
    "2.  12.0\n",
    "3.  10.0\n",
    "4.  16.0\n",
    "\n",
    "\n"
   ]
  },
  {
   "cell_type": "markdown",
   "metadata": {},
   "source": [
    "__Réponse :__   4.  16"
   ]
  },
  {
   "cell_type": "markdown",
   "metadata": {},
   "source": [
    "**Exercice 7**\n",
    "\n",
    "*Auteur : Nicolas Revéret*\n",
    "\n",
    "On considère le code suivant :\n",
    "\n",
    "``` python\n",
    "def f(tab):\n",
    "  for i in range(len(tab)//2):\n",
    "    tab[i],tab[-i-1] = tab[-i-1],tab[i]\n",
    "```\n",
    "\n",
    "Après les lignes suivantes :\n",
    "\n",
    "``` python\n",
    "tab = [2,3,4,5,7,8]\n",
    "f(tab)\n",
    "```\n",
    "\n",
    "Quelle est la valeur de la variable `tab` ?\n",
    "\n",
    "Réponses :\n",
    "\n",
    "1.  `[2,3,4,5,7,8]`\n",
    "2.  `[5,7,8,2,3,4]`\n",
    "3.  `[8,7,5,4,3,2]`\n",
    "4.  `[4,3,2,8,7,5]`\n",
    "\n",
    "\n"
   ]
  },
  {
   "cell_type": "markdown",
   "metadata": {},
   "source": [
    "__Réponse__ : cette fonction retourne la liste et donc la réponse est la 3. "
   ]
  },
  {
   "cell_type": "markdown",
   "metadata": {},
   "source": [
    "**Exercice 9**\n",
    "\n",
    "*Auteur : Christophe Beasse*\n",
    "\n",
    "Soit la liste suivante : `liste_pays =\n",
    "[\"France\",\"Allemagne\",\"Italie\",\"Belgique\"]`\n",
    "\n",
    "Que renvoie : `liste_pays[2]` ?\n",
    "\n",
    "Réponses :\n",
    "\n",
    "1.  `\"France\"`\n",
    "2.  `\"Allemagne\"`\n",
    "3.  `\"Italie\"`\n",
    "4.  `\"Belgique\"`\n"
   ]
  },
  {
   "cell_type": "markdown",
   "metadata": {},
   "source": [
    "__Réponse__ : 3. \"Italie\""
   ]
  },
  {
   "cell_type": "markdown",
   "metadata": {},
   "source": [
    "## Exercice 12"
   ]
  },
  {
   "cell_type": "markdown",
   "metadata": {},
   "source": [
    "_Auteur : Nicolas Revéret_\n",
    "\n",
    "On dispose d'un tableau d'entiers, ordonné en ordre croissant.\n",
    "\n",
    "On désire connaître le nombre de valeurs distinctes contenues dans ce tableau.\n",
    "\n",
    "Quelle est la fonction qui ne convient pas ?\n",
    "\n",
    "Réponses :\n",
    "\n",
    "1. Réponse 1\n",
    "~~~python\n",
    "def compte(t):\n",
    "    cpt = 1\n",
    "    for i in range(1,len(t)):\n",
    "        if t[i] != t[i-1]:\n",
    "            cpt = cpt + 1\n",
    "    return cpt\n",
    "~~~\n",
    "\n",
    "2. Réponse 2\n",
    "~~~python\n",
    "    def compte(t):\n",
    "      cpt = 0\n",
    "      for i in range(0,len(t)-1):\n",
    "        cpt = cpt + int(t[i] != t[i+1])\n",
    "      return cpt\n",
    "~~~\n",
    "\n",
    "3. Réponse 3\n",
    "~~~python\n",
    "    def compte(t):\n",
    "      cpt = 0\n",
    "      for i in range(0,len(t)-1):\n",
    "        if t[i] != t[i+1]:\n",
    "          cpt = cpt + 1\n",
    "      return cpt+1\n",
    "~~~"
   ]
  },
  {
   "cell_type": "markdown",
   "metadata": {},
   "source": [
    "__Corrigé: la bonne réponse est  la 3__ "
   ]
  },
  {
   "cell_type": "code",
   "execution_count": 10,
   "metadata": {},
   "outputs": [],
   "source": [
    "def compte(t):\n",
    "    cpt = 1\n",
    "    for i in range(1,len(t)):       \n",
    "        if t[i] != t[i-1]:\n",
    "            cpt = cpt + 1\n",
    "        print(t[i], t[i-1], cpt)\n",
    "    return cpt\n",
    "\n",
    "\n",
    "def compte2(t):\n",
    "    cpt = 0\n",
    "    for i in range(0,len(t)-1):\n",
    "     #cpt = cpt + int(t[i] != t[i+1])\n",
    "     if t[i] != t[i+1]:\n",
    "        cpt = cpt + 1\n",
    "    return cpt\n",
    "\n",
    "def compte3(t):\n",
    "      cpt = 0\n",
    "      for i in range(0,len(t)-1):\n",
    "        if t[i] != t[i+1]:\n",
    "          cpt = cpt + 1\n",
    "      return cpt + 1\n"
   ]
  },
  {
   "cell_type": "code",
   "execution_count": 5,
   "metadata": {
    "scrolled": true
   },
   "outputs": [
    {
     "name": "stdout",
     "output_type": "stream",
     "text": [
      "1 1 1\n",
      "2 1 2\n",
      "3 2 3\n",
      "3 3 3\n",
      "4 3 4\n"
     ]
    },
    {
     "data": {
      "text/plain": [
       "4"
      ]
     },
     "execution_count": 5,
     "metadata": {},
     "output_type": "execute_result"
    }
   ],
   "source": [
    "compte([1,1,2,3,3,4])"
   ]
  },
  {
   "cell_type": "code",
   "execution_count": 6,
   "metadata": {},
   "outputs": [
    {
     "data": {
      "text/plain": [
       "True"
      ]
     },
     "execution_count": 6,
     "metadata": {},
     "output_type": "execute_result"
    }
   ],
   "source": [
    "0 != 2"
   ]
  },
  {
   "cell_type": "code",
   "execution_count": 7,
   "metadata": {},
   "outputs": [
    {
     "data": {
      "text/plain": [
       "False"
      ]
     },
     "execution_count": 7,
     "metadata": {},
     "output_type": "execute_result"
    }
   ],
   "source": [
    "0 == 2"
   ]
  },
  {
   "cell_type": "code",
   "execution_count": 8,
   "metadata": {},
   "outputs": [
    {
     "data": {
      "text/plain": [
       "1"
      ]
     },
     "execution_count": 8,
     "metadata": {},
     "output_type": "execute_result"
    }
   ],
   "source": [
    "int(0 != 2)"
   ]
  },
  {
   "cell_type": "code",
   "execution_count": 9,
   "metadata": {},
   "outputs": [
    {
     "data": {
      "text/plain": [
       "0"
      ]
     },
     "execution_count": 9,
     "metadata": {},
     "output_type": "execute_result"
    }
   ],
   "source": [
    "int( 0 == 2)"
   ]
  }
 ],
 "metadata": {
  "kernelspec": {
   "display_name": "Python 3",
   "language": "python",
   "name": "python3"
  },
  "language_info": {
   "codemirror_mode": {
    "name": "ipython",
    "version": 3
   },
   "file_extension": ".py",
   "mimetype": "text/x-python",
   "name": "python",
   "nbconvert_exporter": "python",
   "pygments_lexer": "ipython3",
   "version": "3.6.9"
  }
 },
 "nbformat": 4,
 "nbformat_minor": 2
}
