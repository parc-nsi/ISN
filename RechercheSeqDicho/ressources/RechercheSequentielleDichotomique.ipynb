{
 "cells": [
  {
   "cell_type": "markdown",
   "metadata": {},
   "source": [
    "## Recherche séquentielle"
   ]
  },
  {
   "cell_type": "code",
   "execution_count": 6,
   "metadata": {},
   "outputs": [],
   "source": [
    "\n",
    "\n",
    "def recherche_seq(L, e):\n",
    "    trouve = False\n",
    "    for element in L:\n",
    "        if element == e:\n",
    "            trouve = True\n",
    "    return trouve\t\n",
    "\n",
    "def recherche_seq2(L, e):\n",
    "    for element in L:\n",
    "        if element == e:\n",
    "            return True\n",
    "    return False\n",
    "    \n",
    "def recherche_seq3(L, e):\n",
    "    i = 0\n",
    "    n = len(L)\n",
    "    while i < n and L[i] != e:\n",
    "        i += 1\n",
    "    return i == n \n",
    "\n"
   ]
  },
  {
   "cell_type": "markdown",
   "metadata": {},
   "source": [
    "## Recherche dichotomique"
   ]
  },
  {
   "cell_type": "markdown",
   "metadata": {},
   "source": [
    "Pour commencer, traiter cet exercice du Concours Castor Informatique :    [exercice Tas de Graine  du Castor Informatique 2017](https://concours.castor-informatique.fr/index.php?team=castor2017)"
   ]
  },
  {
   "cell_type": "code",
   "execution_count": 7,
   "metadata": {},
   "outputs": [],
   "source": [
    "## Juste prix\n",
    "\n",
    "from random import randint\n",
    "\n",
    "\n",
    "def juste_prix(prix, prixInf, prixSup):\n",
    "    proposition = (prixInf + prixSup) // 2\n",
    "    essai = 1\n",
    "    while proposition != prix:\n",
    "        print(\"prixInf :\", prixInf, \"prixSup :\", prixSup,\n",
    "        \"proposition :\", proposition, )\n",
    "        if proposition > prix:\n",
    "            print(\"C'est moins.\")\n",
    "            prixSup = proposition - 1\n",
    "        else:\n",
    "            print(\"C'est plus.\")\n",
    "            prixInf = proposition + 1\n",
    "        proposition = (prixInf + prixSup) // 2\n",
    "        essai += 1\n",
    "    print(\"Juste prix\", prix, \"trouvé en\", essai, \"essais.\")\n",
    "            \n",
    "            \n",
    "## Recherche dichotomique\n",
    "\n",
    "def recherche_dicho(L, e):\n",
    "    debut = 0\n",
    "    fin = len(L) - 1\n",
    "    while debut <= fin:\n",
    "        milieu = (debut + fin) // 2\n",
    "        if L[milieu] == e:\n",
    "            return True\n",
    "        elif L[milieu] < e:\n",
    "            fin = milieu - 1\n",
    "        else:\n",
    "            debut = milieu + 1\n",
    "    return False\n",
    "    \n",
    "def recherche_dicho2(L, e):\n",
    "    x = 0\n",
    "    n = len(L)\n",
    "    pas = n // 2\n",
    "    while pas >= 1:\n",
    "        while x + pas < n and L[x + pas] <= e:\n",
    "            x = x + pas\n",
    "        pas = pas // 2\n",
    "    return L[x] == e"
   ]
  },
  {
   "cell_type": "markdown",
   "metadata": {},
   "source": [
    "## Comparaison entre recherche séquentielle et recherche dichotomique"
   ]
  },
  {
   "cell_type": "code",
   "execution_count": 8,
   "metadata": {},
   "outputs": [],
   "source": [
    "import numpy as np\n",
    "import matplotlib.pyplot as plt\n",
    "import time\n",
    "from random import randint\n",
    "\n",
    "def timetest(fonction):\n",
    "    \"\"\"exécute la fonction et affiche son temps d'exécution \"\"\"\n",
    "    \n",
    "    def fonction_modifiee(*args,**kargs):\n",
    "        debut = time.perf_counter()\n",
    "        fonction(*args,**kargs)\n",
    "        return time.perf_counter() - debut\n",
    "    \n",
    "    return fonction_modifiee\n",
    "    \n",
    "def graphique_comparaison_recherches(liste_recherches):\n",
    "    liste_taille = np.array(list(range(2, 100103, 100)))\n",
    "    liste_temps = np.array([[0 for _ in range(len(liste_taille))] for _ in range(len(liste_recherches))], dtype='float')\n",
    "    for i, taille in enumerate(liste_taille):\n",
    "        liste = [randint(0, taille) for _ in range(taille)]\n",
    "        element = taille + 1\n",
    "        for j, recherche in enumerate(liste_recherches):\n",
    "            liste_temps[j][i] = timetest(recherche)(liste, element) \n",
    "    plt.clf()\n",
    "    fonction_modele = [lambda u : u, lambda t : np.log(t)/np.log(2)]\n",
    "    for k, temps in enumerate(liste_temps):\n",
    "        constante = np.mean([t/fonction_modele[k](taille) for (t, taille) in zip(temps, liste_taille)])\n",
    "        plt.loglog(liste_taille, temps/constante, label=liste_recherches[k].__name__, marker='o')\n",
    "    x = np.arange(1, max(liste_taille) + 1, 100)\n",
    "    plt.loglog(x, np.log(x)/np.log(2))\n",
    "    plt.loglog([1, max(liste_taille)], [1, max(liste_taille)])\n",
    "    plt.title(\"Comparaison recherches séquentielle et dichotomique\")\n",
    "    plt.legend()\n",
    "    plt.xlabel(\"Taille de la liste\")\n",
    "    plt.ylabel(\"Temps d'exécution normalisé\")\n",
    "    plt.savefig('comparaison-recherches.pdf')"
   ]
  },
  {
   "cell_type": "code",
   "execution_count": 9,
   "metadata": {},
   "outputs": [],
   "source": [
    "%matplotlib inline"
   ]
  },
  {
   "cell_type": "code",
   "execution_count": 10,
   "metadata": {},
   "outputs": [
    {
     "data": {
      "image/png": "[encoded data removed]",
      "text/plain": [
       "<Figure size 432x288 with 1 Axes>"
      ]
     },
     "metadata": {
      "needs_background": "light"
     },
     "output_type": "display_data"
    }
   ],
   "source": [
    "graphique_comparaison_recherches([recherche_seq, recherche_dicho])"
   ]
  },
  {
   "cell_type": "markdown",
   "metadata": {},
   "source": [
    "## Reprogrammation des fonctions bisect_left et bisect_right du module bisect"
   ]
  },
  {
   "cell_type": "code",
   "execution_count": 11,
   "metadata": {},
   "outputs": [
    {
     "name": "stdout",
     "output_type": "stream",
     "text": [
      "[0, 0, 1, 1, 2, 2, 3, 3, 4, 4, 5, 5, 6, 6, 7, 7, 8, 8, 9, 9]\n",
      "14\n",
      "14\n",
      "14\n",
      "14\n",
      "16\n",
      "16\n",
      "16\n",
      "16\n"
     ]
    }
   ],
   "source": [
    "\n",
    "def dicho_gauche(L, x):\n",
    "    debut = 0\n",
    "    fin = len(L) - 1\n",
    "    if L[fin] < x:\n",
    "        return fin + 1\n",
    "    #invariant de boucle L[fin] >= x\n",
    "    while debut < fin:\n",
    "        milieu = (debut + fin) // 2\n",
    "        if L[milieu] >= x:\n",
    "            fin = milieu\n",
    "        else:\n",
    "            debut = milieu + 1\n",
    "    return fin\n",
    "    \n",
    "\n",
    "def dicho_droite(L, x):\n",
    "    debut = 0\n",
    "    fin = len(L) - 1\n",
    "    if L[fin] <= x:\n",
    "        return fin + 1\n",
    "    #invariant de boucle L[fin] > x\n",
    "    while debut < fin:\n",
    "        milieu = (debut + fin) // 2\n",
    "        if L[milieu] > x:\n",
    "            fin = milieu\n",
    "        else:\n",
    "            debut = milieu + 1\n",
    "    return fin\n",
    "    \n",
    "def bisect_right(t, x):\n",
    "    \"\"\"\n",
    "    Invariant conservé par la boucle : t[a] <= x < t[b]\n",
    "    En sortie de boucle, on a 3 cas :\n",
    "        invariant conservé : on retourne b\n",
    "        t[b] <= x : on retourne b + 1\n",
    "        t[a] > x : on retourne a\n",
    "    \"\"\"\n",
    "    a, b = 0, len(t) - 1\n",
    "    while b - a > 1:\n",
    "        m = (a + b) // 2\n",
    "        if t[m] > x:\n",
    "            b = m\n",
    "        else:\n",
    "            a = m\n",
    "    if t[b] <= x:\n",
    "        return b + 1\n",
    "    elif t[a] > x:\n",
    "        return a\n",
    "    else:\n",
    "        return b\n",
    "    \n",
    "def bisect_left(t, x):\n",
    "    \"\"\"\n",
    "    Invariant : t[a] < x <= t[b]\n",
    "    En sortie de boucle, on a 3 cas :\n",
    "        invariant conservé : on retourne b\n",
    "        t[b] < x : on retourne b + 1\n",
    "        t[a] >=  x : on retourne a\n",
    "    \"\"\"\n",
    "    a, b = 0, len(t) - 1\n",
    "    while b - a > 1:\n",
    "        m = (a + b) // 2\n",
    "        if t[m] >= x:\n",
    "            b = m\n",
    "        else:\n",
    "            a = m\n",
    "    if t[b] < x:\n",
    "        return b + 1\n",
    "    elif t[a] >= x:\n",
    "        return a\n",
    "    else:\n",
    "        return b\n",
    "        \n",
    "        \n",
    "def dicho_comptage(L, x):\n",
    "    return dicho_droite(L, x) - dicho_gauche(L, x)\n",
    "    \n",
    "# In [9]: dicho_gauche([1,2,2,2,4,5], 2)\n",
    "# Out[9]: 1\n",
    "# \n",
    "# In [10]: dicho_droite([1,2,2,2,4,5], 2)\n",
    "# Out[10]: 4\n",
    "# \n",
    "# In [11]: dicho_comptage([1,2,2,2,4,5], 2)\n",
    "# Out[11]: 3\n",
    "\n",
    "t = list(range(10)) * 2\n",
    "t.sort()\n",
    "print(t)\n",
    "print(bisect_left(t, 6.9))\n",
    "print(dicho_gauche(t, 6.9))\n",
    "print(bisect_left(t, 7))\n",
    "print(dicho_gauche(t, 7))\n",
    "print(bisect_right(t,7))\n",
    "print(dicho_droite(t, 7))\n",
    "print(bisect_right(t,7))\n",
    "print(dicho_droite(t, 7.1))"
   ]
  }
 ],
 "metadata": {
  "kernelspec": {
   "display_name": "Python 3",
   "language": "python",
   "name": "python3"
  },
  "language_info": {
   "codemirror_mode": {
    "name": "ipython",
    "version": 3
   },
   "file_extension": ".py",
   "mimetype": "text/x-python",
   "name": "python",
   "nbconvert_exporter": "python",
   "pygments_lexer": "ipython3",
   "version": "3.6.9"
  }
 },
 "nbformat": 4,
 "nbformat_minor": 2
}
