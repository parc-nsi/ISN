{
 "cells": [
  {
   "cell_type": "markdown",
   "metadata": {},
   "source": [
    "# Chapitre 3 : Boucles et fonctions"
   ]
  },
  {
   "cell_type": "markdown",
   "metadata": {},
   "source": [
    "# Boucle inconditionnelle"
   ]
  },
  {
   "cell_type": "markdown",
   "metadata": {},
   "source": [
    "### Définition\n",
    "\n",
    "Une boucle inconditionnelle permet de répéter un bloc d'instructions lorsqu'on connaît à l'avance le nombre de répétitions. \n",
    "\n",
    "La situation la plus courante est :\n",
    "    \n",
    "    Pour k allant de 1 à 10 répéter \n",
    "        Bloc d'instructions\n",
    "    FinPour\n",
    "\n",
    "Sa traduction en `Python` est :\n",
    "\n",
    "~~~python\n",
    "# flux parent\n",
    "for k in range(1, 11):\n",
    "    # bloc d'instructions\n",
    "# retour au flux parent\n",
    "~~~\n",
    "\n",
    "On remarque l'utilisation `range(1, 11)` alors qu'on attendrait `range(1, 10)`.\n",
    "\n",
    "En fait `range(1, 11)` retourne un _itérateur_, qui va parcourir avec un incrément de 1 tous les entiers $n$ tels que $1 \\leqslant n < 11$. \n",
    "\n",
    "Il faut bien se souvenir que la borne supérieure de `range(n, m)` est exclue mais il est facile de retenir que le nombre de tours de boucles est  $m - n$.\n",
    "\n",
    "Par exemple, pour calculer la somme des tous les entiers consécutifs de 100 à 200, on peut écrire :\n",
    "\n",
    "~~~python\n",
    "somme = 0\n",
    "for k in range(100, 201):\n",
    "    somme = somme + k\n",
    "print(\"La somme est \", somme)\n",
    "~~~\n",
    "\n",
    "S'il s'agit juste de répéter `n` fois un bloc d'instructions on utilise le raccourci `range(n)` au lieu de `range(0, n)` ou de `range(1, n + 1)`.\n",
    "\n",
    "Par exemple pour dire 100 fois \"Merci\", on peut écrire :\n",
    "\n",
    "~~~python\n",
    "for k in range(100):\n",
    "    print(\"Merci !\")\n",
    "print(\"Ouf!\")\n",
    "~~~\n",
    "\n",
    "La fonction range offre un troisième paramètre optionnel qui permet de changer l'incrément par défaut qui est 1.\n",
    "\n",
    "Par exemple, pour  calculer la somme des tous les entiers pairs consécutifs entre  100 et 200, on peut écrire :\n",
    "\n",
    "~~~python\n",
    "sommePair = 0\n",
    "for k in range(100, 201, 2):\n",
    "    sommePair = sommePair + k\n",
    "print(\"La somme est \", sommePair)\n",
    "~~~\n",
    "\n",
    "Enfin, la boucle `for` permet aussi de parcourir des objets itérables comme les chaînes de caractères, les listes, les fichiers etc ...\n",
    "\n",
    "Par exemple pour afficher les caractères consécutifs de la chaîne \"Bonjour\" avec un caractère par ligne, on peut écrire :\n",
    "\n",
    "~~~python\n",
    "chaine = \"Bonjour\"\n",
    "for c in chaine:\n",
    "    print(c)\n",
    "~~~\n",
    "\n",
    "Autre exemple, pour afficher des messages d'invitation personnalisés :\n",
    "\n",
    "~~~python\n",
    "for nom in [\"Jean-Luc\", \"Emmanuel\", \"François\", \"Marine\"]:\n",
    "    print(\"Salut\", nom, \"je t'invite à mon anniversaire samedi !\")\n",
    "~~~"
   ]
  },
  {
   "cell_type": "markdown",
   "metadata": {},
   "source": [
    "## Programme 1"
   ]
  },
  {
   "cell_type": "code",
   "execution_count": 32,
   "metadata": {},
   "outputs": [
    {
     "name": "stdout",
     "output_type": "stream",
     "text": [
      "0\n",
      "1\n",
      "2\n",
      "3\n"
     ]
    }
   ],
   "source": [
    "for k in range(4):\n",
    "    print(k)"
   ]
  },
  {
   "cell_type": "markdown",
   "metadata": {},
   "source": [
    "## Exercice 1\n",
    "\n",
    "Faire afficher les entiers de 10 à 0 de manière  décroissante"
   ]
  },
  {
   "cell_type": "code",
   "execution_count": 5,
   "metadata": {},
   "outputs": [
    {
     "name": "stdout",
     "output_type": "stream",
     "text": [
      "10\n",
      "9\n",
      "8\n",
      "7\n",
      "6\n",
      "5\n",
      "4\n",
      "3\n",
      "2\n",
      "1\n",
      "0\n"
     ]
    }
   ],
   "source": [
    "for n in range(10, -1, -1):\n",
    "    print(n)"
   ]
  },
  {
   "cell_type": "markdown",
   "metadata": {},
   "source": [
    "Faire afficher les entiers pairs compris entre 0 et 50 dans l'ordre croissant"
   ]
  },
  {
   "cell_type": "code",
   "execution_count": 1,
   "metadata": {},
   "outputs": [
    {
     "name": "stdout",
     "output_type": "stream",
     "text": [
      "0\n",
      "2\n",
      "4\n",
      "6\n",
      "8\n",
      "10\n",
      "12\n",
      "14\n",
      "16\n",
      "18\n",
      "20\n",
      "22\n",
      "24\n",
      "26\n",
      "28\n",
      "30\n",
      "32\n",
      "34\n",
      "36\n",
      "38\n",
      "40\n",
      "42\n",
      "44\n",
      "46\n",
      "48\n",
      "50\n"
     ]
    }
   ],
   "source": [
    "for n in range(0, 51, 2):\n",
    "    print(n)"
   ]
  },
  {
   "cell_type": "markdown",
   "metadata": {},
   "source": [
    "Faire afficher les entiers pairs compris entre 0 et 50 dans l'ordre décroissant"
   ]
  },
  {
   "cell_type": "code",
   "execution_count": 3,
   "metadata": {},
   "outputs": [
    {
     "name": "stdout",
     "output_type": "stream",
     "text": [
      "50\n",
      "48\n",
      "46\n",
      "44\n",
      "42\n",
      "40\n",
      "38\n",
      "36\n",
      "34\n",
      "32\n",
      "30\n",
      "28\n",
      "26\n",
      "24\n",
      "22\n",
      "20\n",
      "18\n",
      "16\n",
      "14\n",
      "12\n",
      "10\n",
      "8\n",
      "6\n",
      "4\n",
      "2\n",
      "0\n"
     ]
    }
   ],
   "source": [
    "for n in range(50, -1, -2):\n",
    "    print(n)"
   ]
  },
  {
   "cell_type": "markdown",
   "metadata": {},
   "source": [
    "Un exemple de boucles imbriquées"
   ]
  },
  {
   "cell_type": "code",
   "execution_count": 9,
   "metadata": {},
   "outputs": [
    {
     "name": "stdout",
     "output_type": "stream",
     "text": [
      "0 dizaines et  0  unités font  0\n",
      "0 dizaines et  1  unités font  1\n",
      "0 dizaines et  2  unités font  2\n",
      "0 dizaines et  3  unités font  3\n",
      "0 dizaines et  4  unités font  4\n",
      "0 dizaines et  5  unités font  5\n",
      "0 dizaines et  6  unités font  6\n",
      "0 dizaines et  7  unités font  7\n",
      "0 dizaines et  8  unités font  8\n",
      "0 dizaines et  9  unités font  9\n",
      "1 dizaines et  0  unités font  10\n",
      "1 dizaines et  1  unités font  11\n",
      "1 dizaines et  2  unités font  12\n",
      "1 dizaines et  3  unités font  13\n",
      "1 dizaines et  4  unités font  14\n",
      "1 dizaines et  5  unités font  15\n",
      "1 dizaines et  6  unités font  16\n",
      "1 dizaines et  7  unités font  17\n",
      "1 dizaines et  8  unités font  18\n",
      "1 dizaines et  9  unités font  19\n",
      "2 dizaines et  0  unités font  20\n",
      "2 dizaines et  1  unités font  21\n",
      "2 dizaines et  2  unités font  22\n",
      "2 dizaines et  3  unités font  23\n",
      "2 dizaines et  4  unités font  24\n",
      "2 dizaines et  5  unités font  25\n",
      "2 dizaines et  6  unités font  26\n",
      "2 dizaines et  7  unités font  27\n",
      "2 dizaines et  8  unités font  28\n",
      "2 dizaines et  9  unités font  29\n",
      "3 dizaines et  0  unités font  30\n",
      "3 dizaines et  1  unités font  31\n",
      "3 dizaines et  2  unités font  32\n",
      "3 dizaines et  3  unités font  33\n",
      "3 dizaines et  4  unités font  34\n",
      "3 dizaines et  5  unités font  35\n",
      "3 dizaines et  6  unités font  36\n",
      "3 dizaines et  7  unités font  37\n",
      "3 dizaines et  8  unités font  38\n",
      "3 dizaines et  9  unités font  39\n",
      "4 dizaines et  0  unités font  40\n",
      "4 dizaines et  1  unités font  41\n",
      "4 dizaines et  2  unités font  42\n",
      "4 dizaines et  3  unités font  43\n",
      "4 dizaines et  4  unités font  44\n",
      "4 dizaines et  5  unités font  45\n",
      "4 dizaines et  6  unités font  46\n",
      "4 dizaines et  7  unités font  47\n",
      "4 dizaines et  8  unités font  48\n",
      "4 dizaines et  9  unités font  49\n",
      "5 dizaines et  0  unités font  50\n",
      "5 dizaines et  1  unités font  51\n",
      "5 dizaines et  2  unités font  52\n",
      "5 dizaines et  3  unités font  53\n",
      "5 dizaines et  4  unités font  54\n",
      "5 dizaines et  5  unités font  55\n",
      "5 dizaines et  6  unités font  56\n",
      "5 dizaines et  7  unités font  57\n",
      "5 dizaines et  8  unités font  58\n",
      "5 dizaines et  9  unités font  59\n",
      "6 dizaines et  0  unités font  60\n",
      "6 dizaines et  1  unités font  61\n",
      "6 dizaines et  2  unités font  62\n",
      "6 dizaines et  3  unités font  63\n",
      "6 dizaines et  4  unités font  64\n",
      "6 dizaines et  5  unités font  65\n",
      "6 dizaines et  6  unités font  66\n",
      "6 dizaines et  7  unités font  67\n",
      "6 dizaines et  8  unités font  68\n",
      "6 dizaines et  9  unités font  69\n",
      "7 dizaines et  0  unités font  70\n",
      "7 dizaines et  1  unités font  71\n",
      "7 dizaines et  2  unités font  72\n",
      "7 dizaines et  3  unités font  73\n",
      "7 dizaines et  4  unités font  74\n",
      "7 dizaines et  5  unités font  75\n",
      "7 dizaines et  6  unités font  76\n",
      "7 dizaines et  7  unités font  77\n",
      "7 dizaines et  8  unités font  78\n",
      "7 dizaines et  9  unités font  79\n",
      "8 dizaines et  0  unités font  80\n",
      "8 dizaines et  1  unités font  81\n",
      "8 dizaines et  2  unités font  82\n",
      "8 dizaines et  3  unités font  83\n",
      "8 dizaines et  4  unités font  84\n",
      "8 dizaines et  5  unités font  85\n",
      "8 dizaines et  6  unités font  86\n",
      "8 dizaines et  7  unités font  87\n",
      "8 dizaines et  8  unités font  88\n",
      "8 dizaines et  9  unités font  89\n",
      "9 dizaines et  0  unités font  90\n",
      "9 dizaines et  1  unités font  91\n",
      "9 dizaines et  2  unités font  92\n",
      "9 dizaines et  3  unités font  93\n",
      "9 dizaines et  4  unités font  94\n",
      "9 dizaines et  5  unités font  95\n",
      "9 dizaines et  6  unités font  96\n",
      "9 dizaines et  7  unités font  97\n",
      "9 dizaines et  8  unités font  98\n",
      "9 dizaines et  9  unités font  99\n"
     ]
    }
   ],
   "source": [
    "for i in range (10) :\n",
    "    for j in range (10) :\n",
    "        print(i , 'dizaines et ', j, ' unités font ', 10 * i + j)"
   ]
  },
  {
   "cell_type": "markdown",
   "metadata": {},
   "source": [
    "## Exercice 2 Boucles imbriquées"
   ]
  },
  {
   "cell_type": "markdown",
   "metadata": {},
   "source": [
    "### Question 1"
   ]
  },
  {
   "cell_type": "code",
   "execution_count": 4,
   "metadata": {},
   "outputs": [
    {
     "name": "stdout",
     "output_type": "stream",
     "text": [
      "01234\n",
      "1234\n",
      "234\n",
      "34\n",
      "4\n"
     ]
    }
   ],
   "source": [
    "for i in range(5):\n",
    "    for j in range(i, 5):\n",
    "        print(j, end=\"\")\n",
    "    print()"
   ]
  },
  {
   "cell_type": "markdown",
   "metadata": {},
   "source": [
    "### Question 2"
   ]
  },
  {
   "cell_type": "code",
   "execution_count": 8,
   "metadata": {},
   "outputs": [
    {
     "name": "stdout",
     "output_type": "stream",
     "text": [
      "0\n",
      "01\n",
      "012\n",
      "0123\n",
      "01234\n"
     ]
    }
   ],
   "source": [
    "for i in range(1,6):\n",
    "    for j in range(0,i):\n",
    "        print(j, end=\"\")\n",
    "    print()"
   ]
  },
  {
   "cell_type": "markdown",
   "metadata": {},
   "source": [
    "### Question 3"
   ]
  },
  {
   "cell_type": "code",
   "execution_count": 9,
   "metadata": {},
   "outputs": [
    {
     "name": "stdout",
     "output_type": "stream",
     "text": [
      "01234\n",
      "12345\n",
      "23456\n",
      "34567\n",
      "45678\n"
     ]
    }
   ],
   "source": [
    "for i in range(0,5):\n",
    "    for j in range(i, i +5):\n",
    "        print(j, end=\"\")\n",
    "    print()"
   ]
  },
  {
   "cell_type": "markdown",
   "metadata": {},
   "source": [
    "## Entrainement 1\n",
    "\n",
    "En 2017, le mois de mai commence un lundi. \n",
    "\n",
    "À l’aide de deux boucles imbriquées, faire\n",
    "afficher les jours des quatre premières semaines du mois sous la forme :\n",
    "\n",
    "    lundi 1 mai\n",
    "    mardi 2 mai"
   ]
  },
  {
   "cell_type": "code",
   "execution_count": 1,
   "metadata": {},
   "outputs": [
    {
     "name": "stdout",
     "output_type": "stream",
     "text": [
      "lundi 1 juillet\n",
      "mardi 2 juillet\n",
      "mercredi 3 juillet\n",
      "jeudi 4 juillet\n",
      "vendredi 5 juillet\n",
      "samedi 6 juillet\n",
      "dimanche 7 juillet\n",
      "lundi 8 juillet\n",
      "mardi 9 juillet\n",
      "mercredi 10 juillet\n",
      "jeudi 11 juillet\n",
      "vendredi 12 juillet\n",
      "samedi 13 juillet\n",
      "dimanche 14 juillet\n",
      "lundi 15 juillet\n",
      "mardi 16 juillet\n",
      "mercredi 17 juillet\n",
      "jeudi 18 juillet\n",
      "vendredi 19 juillet\n",
      "samedi 20 juillet\n",
      "dimanche 21 juillet\n",
      "lundi 22 juillet\n",
      "mardi 23 juillet\n",
      "mercredi 24 juillet\n",
      "jeudi 25 juillet\n",
      "vendredi 26 juillet\n",
      "samedi 27 juillet\n",
      "dimanche 28 juillet\n"
     ]
    }
   ],
   "source": [
    "jour = ['lundi', 'mardi', 'mercredi', 'jeudi', 'vendredi', 'samedi', 'dimanche']\n",
    "for s in range(4):\n",
    "    for j in range(7):\n",
    "        print(jour[j], j + 1 + s * 7, 'juillet')        "
   ]
  },
  {
   "cell_type": "code",
   "execution_count": null,
   "metadata": {
    "collapsed": true
   },
   "outputs": [],
   "source": [
    "lundi 1 mai\n",
    "mardi 2 mai"
   ]
  },
  {
   "cell_type": "markdown",
   "metadata": {},
   "source": [
    "## Fonctions"
   ]
  },
  {
   "cell_type": "markdown",
   "metadata": {},
   "source": [
    "\n",
    "### Définition \n",
    "\n",
    "Lorsqu'on a besoin d'utiliser plusieurs fois un même bloc d'instructions, on peut l'encapsuler dans une _fonction_. On peut ainsi étendre le  langage avec une nouvelle instruction. \n",
    "\n",
    "Dans la définition d'une fonction, on précise son nom et en général des _paramètres formels_ d'entrée et une valeur de retour. En `Python` on définit une fonction ainsi :\n",
    "\n",
    "~~~python\n",
    "def mafonction(parametre1, parametre2):\n",
    "    #bloc d'instructions (optionnel)\n",
    "    return valeur\n",
    "~~~\n",
    "\n",
    "Par exemple une fonction `maximum` qui prend en _paramètres_ deux nombres `x` et `y` et qui retourne leur maximum,  s'écrira  :\n",
    "\n",
    "~~~python\n",
    "def maximum(x, y):\n",
    "    if x < y:\n",
    "        return y\n",
    "    else:\n",
    "        return x\n",
    "~~~\n",
    "\n",
    "En fait, l'exécution d'une instruction  `return` correspond à une sortie de la  fonction, toutes les instructions suivantes ne seront pas exécutées. Ainsi la fonction précédente peut s'écrire plus simplement :\n",
    "\n",
    "~~~python\n",
    "def maximum2(x, y):\n",
    "    if x < y:\n",
    "        return y\n",
    "    return x\n",
    "~~~ \n",
    "\n",
    "Nous venons de voir la définition d'une fonction. On exécute la fonction en substituant aux  _paramètres formels_  des valeurs particulières appelées _arguments_. Cette instruction se nomme un _appel de fonction_ :\n",
    "\n",
    "~~~python\n",
    "note1 = int(input('Entrez une note'))   #récupération d'un argument\n",
    "note2 = int(input('Entrez une note'))   #récupération d'un autre argument\n",
    "maxi = maximum2(note1, note2)           #affectation de la valeur retournée par un appel de fonction\n",
    "~~~\n",
    "\n",
    "Il existe aussi des fonctions sans paramètres d'entrée ou sans valeur de retour.\n",
    "Par exemple, une fonction qui affiche le nom complet d'un acronyme peut s'écrire :\n",
    "\n",
    "~~~python\n",
    "def icn():\n",
    "    print(\"Informatique et Création Numérique\")\n",
    "~~~\n",
    "\n",
    "Attention, `return valeur`  retourne `valeur` qu'on peut capturer dans une variable alors que  `print(valeur)` affiche `valeur` sur la sortie standard (l'écran par défaut) mais `valeur` ne peut alors être capturée dans une variable."
   ]
  },
  {
   "cell_type": "markdown",
   "metadata": {},
   "source": [
    "## Exercice 3"
   ]
  },
  {
   "cell_type": "markdown",
   "metadata": {},
   "source": [
    "### Question 1"
   ]
  },
  {
   "cell_type": "code",
   "execution_count": 13,
   "metadata": {
    "collapsed": true
   },
   "outputs": [],
   "source": [
    "def imc(m, t):\n",
    "    \"\"\"Retourne la classification selon l'IMC :\n",
    "        0 => sous-poids\n",
    "        1 => normal\n",
    "        2 => surpoids\n",
    "    \"\"\"\n",
    "    indice = m / t ** 2\n",
    "    if indice < 18.5:\n",
    "        return 0\n",
    "    elif indice <= 25:\n",
    "        return 1\n",
    "    else:\n",
    "        return 2"
   ]
  },
  {
   "cell_type": "markdown",
   "metadata": {},
   "source": [
    "### Question 2"
   ]
  },
  {
   "cell_type": "code",
   "execution_count": 12,
   "metadata": {
    "collapsed": true
   },
   "outputs": [],
   "source": [
    "def max2(a, b):\n",
    "    \"\"\"Retourne le maximum de deux nombres\"\"\"\n",
    "    if a > b:\n",
    "        return a\n",
    "    return b"
   ]
  },
  {
   "cell_type": "code",
   "execution_count": null,
   "metadata": {
    "collapsed": true
   },
   "outputs": [],
   "source": [
    "def max3(a, b, c):\n",
    "    \"\"\"Retourne le maximum de trois nombres\"\"\"\n",
    "    return max2(a, max2(b, c))"
   ]
  },
  {
   "cell_type": "markdown",
   "metadata": {},
   "source": [
    "## Exercice 4 : fonctions de tests"
   ]
  },
  {
   "cell_type": "code",
   "execution_count": 14,
   "metadata": {
    "collapsed": true
   },
   "outputs": [],
   "source": [
    "def aumoinsun(a, b, c):\n",
    "    \"\"\"Retourne un booléen indiquant si au moins des trois réels\n",
    "    a,b ou c est positif\"\"\"\n",
    "    return a >= 0 or b >= 0 or c >= 0"
   ]
  },
  {
   "cell_type": "code",
   "execution_count": null,
   "metadata": {
    "collapsed": true
   },
   "outputs": [],
   "source": [
    "def tous(a, b, c):\n",
    "    \"\"\"Retourne un booléen indiquant si tous les réels\n",
    "    a, b et c sont positifs\"\"\"\n",
    "    return a >= 0 and b >= 0 and c >= 0"
   ]
  },
  {
   "cell_type": "code",
   "execution_count": null,
   "metadata": {
    "collapsed": true
   },
   "outputs": [],
   "source": [
    "def croissant(a, b, c):\n",
    "    \"\"\"Retourne un booléen indiquant si a,b et c \n",
    "    sont dans l'ordre croissant\"\"\"\n",
    "    return a <= b and b <= c"
   ]
  },
  {
   "cell_type": "code",
   "execution_count": null,
   "metadata": {
    "collapsed": true
   },
   "outputs": [],
   "source": [
    "def croissant2(a, b, c):\n",
    "    \"\"\"Retourne un booléen indiquant si a,b et c \n",
    "    sont dans l'ordre croissant.\n",
    "    Python permet de chainer les opérateurs de comparaison\"\"\"\n",
    "    return a <= b <= c"
   ]
  },
  {
   "cell_type": "code",
   "execution_count": 16,
   "metadata": {
    "collapsed": true
   },
   "outputs": [],
   "source": [
    "def bissextile(a):\n",
    "    \"\"\"Une année est bissextile si elle est divisible par 400\n",
    "    ou pas divisible par 100 et divisible par 4\"\"\"\n",
    "    return a % 400 == 0 or (a % 100 != 0 and a % 4 == 0)"
   ]
  },
  {
   "cell_type": "markdown",
   "metadata": {},
   "source": [
    "## Entrainement 2"
   ]
  },
  {
   "cell_type": "code",
   "execution_count": 18,
   "metadata": {},
   "outputs": [],
   "source": [
    "def nombreRacinesTrinome(a, b, c):\n",
    "    delta = b ** 2 - 4 * a * c\n",
    "    if delta > 0:\n",
    "        return 2\n",
    "    elif delta < 0:\n",
    "        return 0\n",
    "    else:\n",
    "        return 1"
   ]
  },
  {
   "cell_type": "markdown",
   "metadata": {},
   "source": [
    "## Exercice 5"
   ]
  },
  {
   "cell_type": "code",
   "execution_count": 21,
   "metadata": {},
   "outputs": [],
   "source": [
    "from random import randint\n",
    "\n",
    "def sommeDe(n):\n",
    "    \"\"\"Retourne la somme des résultats obtenus en lançant n \n",
    "    dés à 6 faces\"\"\"\n",
    "    s = 0\n",
    "    for k in range(n):\n",
    "        de = randint(1, 6)\n",
    "        s = s + de\n",
    "    return s    "
   ]
  },
  {
   "cell_type": "code",
   "execution_count": 22,
   "metadata": {
    "collapsed": true
   },
   "outputs": [],
   "source": [
    "from random import randint\n",
    "\n",
    "def urne():\n",
    "    \"\"\"Retourne le numéro d'une boule choisie dans une urne\n",
    "    contenant 5 boules de numéro 1, 3 boules de numéro 2,\n",
    "    et deux boules de numéro3\"\"\"\n",
    "    choix = randint(1, 10)\n",
    "    if choix <= 5:\n",
    "        return 1\n",
    "    elif choix <= 8:\n",
    "        return 2\n",
    "    else:\n",
    "        return 3"
   ]
  },
  {
   "cell_type": "markdown",
   "metadata": {},
   "source": [
    "## Exercice 5"
   ]
  },
  {
   "cell_type": "code",
   "execution_count": 22,
   "metadata": {},
   "outputs": [],
   "source": [
    "from turtle import *\n",
    "\n",
    "def spirale1(n):\n",
    "    \"\"\"Trace une spirale constituée de n carrés déformés\"\"\"\n",
    "    penup()\n",
    "    goto(0,0)\n",
    "    pendown()\n",
    "    c = 5\n",
    "    for i in range(n):\n",
    "        for j in range(4):\n",
    "            forward(c)\n",
    "            c = c + 10 \n",
    "            left(90)\n",
    "    exitonclick()\n",
    "\n",
    "##Permet de capturer l'exception Terminator générée lorsqu'on ferme la fenêtre Turtle\n",
    "try:\n",
    "    reset()\n",
    "except Terminator:\n",
    "    pass\n",
    "\n",
    "spirale1(10)"
   ]
  },
  {
   "cell_type": "code",
   "execution_count": 28,
   "metadata": {},
   "outputs": [],
   "source": [
    "from turtle import *\n",
    "\n",
    "def spirale2(n, m):\n",
    "    \"\"\"Trace une spirale constituée de n polygones déformés\n",
    "    à m cotés\"\"\"\n",
    "    penup()\n",
    "    goto(0,0)\n",
    "    pendown()\n",
    "    c = 5\n",
    "    for i in range(n):\n",
    "        for j in range(m):\n",
    "            forward(c)\n",
    "            c = c + 10 \n",
    "            left(360/m)\n",
    "    exitonclick()\n",
    "    \n",
    "##Permet de capturer l'exception Terminator générée lorsqu'on ferme la fenêtre Turtle\n",
    "try:\n",
    "    reset()\n",
    "except Terminator:\n",
    "    pass\n",
    "\n",
    "spirale2(4, 6)"
   ]
  },
  {
   "cell_type": "markdown",
   "metadata": {},
   "source": [
    "## Entrainement 3"
   ]
  },
  {
   "cell_type": "code",
   "execution_count": 29,
   "metadata": {
    "collapsed": true
   },
   "outputs": [],
   "source": [
    "from turtle import *\n",
    "from math import sin, pi\n",
    "\n",
    "def spirale3(n, m):\n",
    "    shape('turtle')\n",
    "    ecart = 10\n",
    "    rayon = 20\n",
    "    cote = 20\n",
    "    for i in range(n):\n",
    "        penup()\n",
    "        goto(0,0)\n",
    "        setheading(-90)\n",
    "        forward(rayon)\n",
    "        pendown()\n",
    "        setheading(180/m)\n",
    "        cote = 2 * rayon * sin(pi/m)\n",
    "        for j in range(m):\n",
    "            forward(cote)\n",
    "            left(360/m)\n",
    "        rayon = rayon + ecart\n",
    "    exitonclick()"
   ]
  },
  {
   "cell_type": "code",
   "execution_count": 31,
   "metadata": {},
   "outputs": [],
   "source": [
    "##Permet de capturer l'exception Terminator générée lorsqu'on ferme la fenêtre Turtle\n",
    "try:\n",
    "    reset()\n",
    "except Terminator:\n",
    "    pass\n",
    "\n",
    "spirale3(4, 6)"
   ]
  },
  {
   "cell_type": "markdown",
   "metadata": {},
   "source": [
    "# Boucle inconditionnelle"
   ]
  },
  {
   "cell_type": "markdown",
   "metadata": {},
   "source": [
    "### Définition \n",
    "\n",
    "Généralement, on souhaite répéter un bloc d'instructions tant qu'une condition est réalisée mais on ne sait pas à l'avance combien de répétitions seront nécéssaires.\n",
    "\n",
    "La situation la plus courante est :\n",
    "\n",
    "    Tant Que Condition répéter\n",
    "        Bloc d'instructions\n",
    "    Fin Tant Que\n",
    "    \n",
    "Elle se traduit en `Python` par :\n",
    "\n",
    "~~~python\n",
    "# flux parent\n",
    "while condition:\n",
    "    # bloc d'instructions indenté\n",
    "# retour au flux parent\n",
    "~~~\n",
    "\n",
    "Par exemple, pour demander la saisie d'un login jusqu'à une saisie correcte, on peut écrire :\n",
    "\n",
    "~~~python\n",
    "login = 'moi'\n",
    "saisie = input('Login ?')     # initialisation de la condition d'entrée de boucle\n",
    "while saisie != login:        # test d'entrée de boucle\n",
    "    saisie = input('Login ?') # mise à jour de la condition de boucle\n",
    "print('Bienvenue ', login)    # sortie de boucle\n",
    "~~~\n",
    "Évidemment, on peut aboutir à une _boucle infinie_ si la condition d'entrée de boucle n'est jamais vérifiée. \n",
    "\n",
    "On peut prévoir des conditions plus complexes avec des opérateurs `booleens`.\n",
    "Par exemple si on veut limiter à 10 demandes de login, on peut écrire :\n",
    "~~~python\n",
    "login = 'moi'\n",
    "compteur = 1\n",
    "saisie = input('Login ?')     # intialisation de la condition d'entrée de boucle\n",
    "while compteur < 10 and saisie != login:        # test d'entrée de boucle\n",
    "    saisie = input('Login ?') # mise à jour de la condition de boucle\n",
    "    compteur = compteur + 1   # mise à jour du compteur\n",
    "if compteur == 10 and saisie != login:\n",
    "    print('10 tentatives de login échouées')\n",
    "else:\n",
    "    print('Bienvenue ', login)    # sortie de boucle\n",
    "~~~\n",
    "\n",
    "Enfin remarquons que toute boucle `for` peut s'écrire avec une boucle `while` :\n",
    "\n",
    "~~~python\n",
    "somme = 0\n",
    "for k in range(100, 201):\n",
    "    somme = somme + k\n",
    "print(\"La somme est \", somme)\n",
    "~~~\n",
    "\n",
    "peut ainsi s'écrire :\n",
    "\n",
    "~~~python\n",
    "somme = 0\n",
    "k = 100\n",
    "while k < 201:\n",
    "    somme = somme + k\n",
    "    k = k + 1\n",
    "print(\"La somme est \", somme)\n",
    "~~~\n"
   ]
  },
  {
   "cell_type": "markdown",
   "metadata": {},
   "source": [
    "## Exercice 7"
   ]
  },
  {
   "cell_type": "markdown",
   "metadata": {},
   "source": [
    "### Question 1"
   ]
  },
  {
   "cell_type": "markdown",
   "metadata": {},
   "source": [
    "Programme équivalent au programme 1 avec une boucle `while`:\n",
    "~~~python\n",
    "for k in range(4):\n",
    "    print(k)\n",
    "~~~"
   ]
  },
  {
   "cell_type": "code",
   "execution_count": 33,
   "metadata": {},
   "outputs": [
    {
     "name": "stdout",
     "output_type": "stream",
     "text": [
      "0\n",
      "1\n",
      "2\n",
      "3\n"
     ]
    }
   ],
   "source": [
    "k = 0\n",
    "while k < 4:\n",
    "    print(k)\n",
    "    k = k + 1"
   ]
  },
  {
   "cell_type": "markdown",
   "metadata": {},
   "source": [
    "### Question 2"
   ]
  },
  {
   "cell_type": "code",
   "execution_count": 36,
   "metadata": {
    "collapsed": true
   },
   "outputs": [],
   "source": [
    "def tempsvol(n):\n",
    "    \"\"\"Retourne le rang du premier terme de la suite de Syracuse\n",
    "    égal à 1 si le premier terme est n\"\"\"\n",
    "    syracuse = n\n",
    "    k = 0\n",
    "    while syracuse != 1:\n",
    "        if syracuse % 2 == 0:\n",
    "            syracuse = syracuse // 2\n",
    "        else:\n",
    "            syracuse = 3 * syracuse + 1\n",
    "        k = k + 1\n",
    "    return k"
   ]
  },
  {
   "cell_type": "code",
   "execution_count": 37,
   "metadata": {},
   "outputs": [
    {
     "data": {
      "text/plain": [
       "46"
      ]
     },
     "execution_count": 37,
     "metadata": {},
     "output_type": "execute_result"
    }
   ],
   "source": [
    "tempsvol(734)"
   ]
  },
  {
   "cell_type": "markdown",
   "metadata": {},
   "source": [
    "## Exercice 8 PGCD"
   ]
  },
  {
   "cell_type": "code",
   "execution_count": 3,
   "metadata": {},
   "outputs": [],
   "source": [
    "def euclide(a, b):\n",
    "    \"\"\"Retourne le PGCD de a et b par l'algorithme d'Euclide\"\"\"\n",
    "    while b != 0:\n",
    "        (a, b) = (b, a % b)\n",
    "    return a"
   ]
  },
  {
   "cell_type": "code",
   "execution_count": 4,
   "metadata": {},
   "outputs": [
    {
     "data": {
      "text/plain": [
       "105"
      ]
     },
     "execution_count": 4,
     "metadata": {},
     "output_type": "execute_result"
    }
   ],
   "source": [
    "euclide(1050, 315)"
   ]
  },
  {
   "cell_type": "markdown",
   "metadata": {},
   "source": [
    "## Entrainement 4"
   ]
  },
  {
   "cell_type": "markdown",
   "metadata": {},
   "source": [
    "### Question 1"
   ]
  },
  {
   "cell_type": "code",
   "execution_count": 5,
   "metadata": {},
   "outputs": [],
   "source": [
    "from random import randint\n",
    "\n",
    "def moyenneDe(n):\n",
    "    s = 0\n",
    "    for k in range(n):\n",
    "        s = s + randint(1, 6)\n",
    "    return s / n"
   ]
  },
  {
   "cell_type": "code",
   "execution_count": 6,
   "metadata": {},
   "outputs": [],
   "source": [
    "# Import de la bibliothèque graphique matplotlib\n",
    "import matplotlib.pyplot as plt"
   ]
  },
  {
   "cell_type": "markdown",
   "metadata": {},
   "source": [
    "Fluctuation d'échantillonnage"
   ]
  },
  {
   "cell_type": "code",
   "execution_count": 16,
   "metadata": {},
   "outputs": [
    {
     "data": {
      "image/png": "[encoded data removed]",
      "text/plain": [
       "<Figure size 432x288 with 5 Axes>"
      ]
     },
     "metadata": {
      "needs_background": "light"
     },
     "output_type": "display_data"
    }
   ],
   "source": [
    "%matplotlib inline\n",
    "\n",
    "for k in range(5):\n",
    "    n = 10 ** k\n",
    "    numero_echantillon = [k for k in range(1, 1001)]\n",
    "    liste_moyenne = [moyenneDe(n) for k in range(1000)]\n",
    "    plt.title('Moyenne sur 1000 échantillons de taille {}'.format(n))\n",
    "    plt.subplot(51 * 10 + (k+1))\n",
    "    plt.plot(numero_echantillon, liste_moyenne)\n",
    "plt.tight_layout()"
   ]
  },
  {
   "cell_type": "markdown",
   "metadata": {},
   "source": [
    "Loi faible des grands nombres"
   ]
  },
  {
   "cell_type": "code",
   "execution_count": 11,
   "metadata": {},
   "outputs": [
    {
     "data": {
      "text/plain": [
       "[<matplotlib.lines.Line2D at 0x7f473f599198>]"
      ]
     },
     "execution_count": 11,
     "metadata": {},
     "output_type": "execute_result"
    },
    {
     "data": {
      "image/png": "[encoded data removed]",
      "text/plain": [
       "<Figure size 432x288 with 1 Axes>"
      ]
     },
     "metadata": {
      "needs_background": "light"
     },
     "output_type": "display_data"
    }
   ],
   "source": [
    "%matplotlib inline\n",
    "\n",
    "taille_echantillon = [10 ** k for k in range(5)]\n",
    "moyenne_moyenne = [ sum(moyenneDe(n) for k in range(1000))/1000 for n in taille_echantillon]\n",
    "plt.title('Evolution de la moyenne sur 1000 échantillons de taille n')\n",
    "plt.plot(taille_echantillon, moyenne_moyenne)"
   ]
  },
  {
   "cell_type": "markdown",
   "metadata": {},
   "source": [
    "### Question 2"
   ]
  },
  {
   "cell_type": "code",
   "execution_count": 18,
   "metadata": {},
   "outputs": [],
   "source": [
    "def premier6():\n",
    "    \"\"\"Retourne le rang du premier 6\"\"\"\n",
    "    k = 1\n",
    "    while randint(1, 6) != 6:\n",
    "        k = k + 1\n",
    "    return k"
   ]
  },
  {
   "cell_type": "markdown",
   "metadata": {},
   "source": [
    "### Question 3"
   ]
  },
  {
   "cell_type": "code",
   "execution_count": 20,
   "metadata": {},
   "outputs": [],
   "source": [
    "def tempsAttente(n):\n",
    "    \"\"\"Retourne le temps d'attente moyen du premier 6\n",
    "    sur un échantillon de n lancers\"\"\"\n",
    "    t = 0\n",
    "    for k in range(n):\n",
    "        t = t + premier6()\n",
    "    return t / n"
   ]
  }
 ],
 "metadata": {
  "kernelspec": {
   "display_name": "Python 3",
   "language": "python",
   "name": "python3"
  },
  "language_info": {
   "codemirror_mode": {
    "name": "ipython",
    "version": 3
   },
   "file_extension": ".py",
   "mimetype": "text/x-python",
   "name": "python",
   "nbconvert_exporter": "python",
   "pygments_lexer": "ipython3",
   "version": "3.7.3"
  }
 },
 "nbformat": 4,
 "nbformat_minor": 2
}
