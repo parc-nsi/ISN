{
 "cells": [
  {
   "cell_type": "markdown",
   "metadata": {},
   "source": [
    "## Question 2"
   ]
  },
  {
   "cell_type": "code",
   "execution_count": 36,
   "metadata": {},
   "outputs": [],
   "source": [
    "from random import randint, random"
   ]
  },
  {
   "cell_type": "markdown",
   "metadata": {},
   "source": [
    "## Question 3"
   ]
  },
  {
   "cell_type": "code",
   "execution_count": 9,
   "metadata": {},
   "outputs": [],
   "source": [
    "def grille_remplie(val):\n",
    "    grille = []\n",
    "    for lig in range(4):\n",
    "        ligne = []\n",
    "        for col in range(4):\n",
    "            ligne.append(val)\n",
    "        grille.append(ligne)\n",
    "    return grille"
   ]
  },
  {
   "cell_type": "code",
   "execution_count": 67,
   "metadata": {},
   "outputs": [
    {
     "data": {
      "text/plain": [
       "[[734, 734, 734, 734],\n",
       " [734, 734, 734, 734],\n",
       " [734, 734, 734, 734],\n",
       " [734, 734, 734, 734]]"
      ]
     },
     "execution_count": 67,
     "metadata": {},
     "output_type": "execute_result"
    }
   ],
   "source": [
    "grille_remplie(734)"
   ]
  },
  {
   "cell_type": "code",
   "execution_count": 10,
   "metadata": {},
   "outputs": [],
   "source": [
    "def afficher_grille(grille):\n",
    "    for lig in range(4):\n",
    "        for col in range(4):\n",
    "            print('|{:^6d}'.format(grille[lig][col]),end='')\n",
    "        print('|')"
   ]
  },
  {
   "cell_type": "code",
   "execution_count": 69,
   "metadata": {},
   "outputs": [
    {
     "name": "stdout",
     "output_type": "stream",
     "text": [
      "| 2048 | 2048 | 2048 | 2048 |\n",
      "| 2048 | 2048 | 2048 | 2048 |\n",
      "| 2048 | 2048 | 2048 | 2048 |\n",
      "| 2048 | 2048 | 2048 | 2048 |\n"
     ]
    }
   ],
   "source": [
    "afficher_grille(grille_remplie(2048))"
   ]
  },
  {
   "cell_type": "code",
   "execution_count": 70,
   "metadata": {},
   "outputs": [
    {
     "name": "stdout",
     "output_type": "stream",
     "text": [
      "| 1955 | 846  | 1651 | 299  |\n",
      "| 373  | 764  | 1769 | 1009 |\n",
      "| 1995 | 895  | 1710 | 1729 |\n",
      "| 767  |  37  | 787  | 124  |\n"
     ]
    }
   ],
   "source": [
    "afficher_grille([[randint(0,2048) for _ in range(4)] for _ in range(4)])"
   ]
  },
  {
   "cell_type": "markdown",
   "metadata": {},
   "source": [
    "## Questions 4 et 5"
   ]
  },
  {
   "cell_type": "code",
   "execution_count": 8,
   "metadata": {},
   "outputs": [],
   "source": [
    "def deplacer_gauche(grille, nlig, verbose = True):\n",
    "    \"\"\"Décale vers la gauche tous les nombres non nuls\n",
    "    de la ligne nlig de grille\"\"\"\n",
    "    fin_zero = 0\n",
    "    debut_zero = 0\n",
    "    k = 1\n",
    "    while fin_zero < 4:\n",
    "        if verbose:\n",
    "            print(\"Tour \", k)\n",
    "            #Point d'arret 1\n",
    "            print(\"Point d'arret 1\", \"debut_zero=\", debut_zero, \"fin_zero=\", fin_zero)\n",
    "        while debut_zero < 4 and grille[nlig][debut_zero] != 0:\n",
    "            debut_zero = debut_zero + 1\n",
    "        if debut_zero == 4:\n",
    "            fin_zero = 4\n",
    "        else:\n",
    "            fin_zero = debut_zero + 1 \n",
    "        #Point d'arret 2\n",
    "        if verbose:\n",
    "            print(\"Point d'arret 2\", \"debut_zero=\", debut_zero, \"fin_zero=\", fin_zero)\n",
    "        while fin_zero < 4 and grille[nlig][fin_zero] == 0:\n",
    "            fin_zero = fin_zero + 1\n",
    "        if fin_zero < 4:\n",
    "            grille[nlig][fin_zero], grille[nlig][debut_zero] = grille[nlig][debut_zero], grille[nlig][fin_zero]\n",
    "        #Point d'arret 3\n",
    "        if verbose:\n",
    "            print(\"Point d'arret 3\", \"debut_zero=\", debut_zero, \"fin_zero=\", fin_zero)  \n",
    "        k = k + 1"
   ]
  },
  {
   "cell_type": "code",
   "execution_count": 72,
   "metadata": {},
   "outputs": [
    {
     "name": "stdout",
     "output_type": "stream",
     "text": [
      "Tour  1\n",
      "Point d'arret 1 debut_zero= 0 fin_zero= 0\n",
      "Point d'arret 2 debut_zero= 0 fin_zero= 1\n",
      "Point d'arret 3 debut_zero= 0 fin_zero= 1\n",
      "Tour  2\n",
      "Point d'arret 1 debut_zero= 0 fin_zero= 1\n",
      "Point d'arret 2 debut_zero= 1 fin_zero= 2\n",
      "Point d'arret 3 debut_zero= 1 fin_zero= 3\n",
      "Tour  3\n",
      "Point d'arret 1 debut_zero= 1 fin_zero= 3\n",
      "Point d'arret 2 debut_zero= 2 fin_zero= 3\n",
      "Point d'arret 3 debut_zero= 2 fin_zero= 4\n",
      "[[4, 2, 0, 0], [0, 0, 0, 0], [0, 0, 0, 0], [0, 0, 0, 0]]\n"
     ]
    }
   ],
   "source": [
    "# Test\n",
    "grille_test = [[0,4,0,2],[0,0,0,0,],[0,0,0,0], [0,0,0,0]]\n",
    "deplacer_gauche(grille_test, 0)\n",
    "print(grille_test)"
   ]
  },
  {
   "cell_type": "markdown",
   "metadata": {},
   "source": [
    "## Question 6"
   ]
  },
  {
   "cell_type": "code",
   "execution_count": 7,
   "metadata": {},
   "outputs": [],
   "source": [
    "def deplacer_droite(grille, nlig, verbose = True):\n",
    "    \"\"\"Décale vers la droite tous les nombres non nuls\n",
    "    de la ligne nlig de grille\"\"\"\n",
    "    fin_zero = 3\n",
    "    debut_zero = 3\n",
    "    k = 1\n",
    "    while fin_zero >= 0:\n",
    "        if verbose:\n",
    "            print(\"Tour \", k)\n",
    "            #Point d'arret 1\n",
    "            print(\"Point d'arret 1\", \"debut_zero=\", debut_zero, \"fin_zero=\", fin_zero)\n",
    "        while debut_zero >= 0 and grille[nlig][debut_zero] != 0:\n",
    "            debut_zero = debut_zero - 1\n",
    "        if debut_zero == -1:\n",
    "            fin_zero = -1\n",
    "        else:\n",
    "            fin_zero = debut_zero - 1 \n",
    "        #Point d'arret 2\n",
    "        if verbose:\n",
    "            print(\"Point d'arret 2\", \"debut_zero=\", debut_zero, \"fin_zero=\", fin_zero)\n",
    "        while fin_zero >= 0 and grille[nlig][fin_zero] == 0:\n",
    "            fin_zero = fin_zero - 1\n",
    "        if fin_zero >= 0:\n",
    "            grille[nlig][fin_zero], grille[nlig][debut_zero] = grille[nlig][debut_zero], grille[nlig][fin_zero]\n",
    "        #Point d'arret \n",
    "        if verbose:\n",
    "            print(\"Point d'arret 3\", \"debut_zero=\", debut_zero, \"fin_zero=\", fin_zero)  \n",
    "        k = k + 1"
   ]
  },
  {
   "cell_type": "code",
   "execution_count": 74,
   "metadata": {},
   "outputs": [
    {
     "name": "stdout",
     "output_type": "stream",
     "text": [
      "Tour  1\n",
      "Point d'arret 1 debut_zero= 3 fin_zero= 3\n",
      "Point d'arret 2 debut_zero= 3 fin_zero= 2\n",
      "Point d'arret 3 debut_zero= 3 fin_zero= 2\n",
      "Tour  2\n",
      "Point d'arret 1 debut_zero= 3 fin_zero= 2\n",
      "Point d'arret 2 debut_zero= 2 fin_zero= 1\n",
      "Point d'arret 3 debut_zero= 2 fin_zero= 0\n",
      "Tour  3\n",
      "Point d'arret 1 debut_zero= 2 fin_zero= 0\n",
      "Point d'arret 2 debut_zero= 1 fin_zero= 0\n",
      "Point d'arret 3 debut_zero= 1 fin_zero= -1\n",
      "[[0, 0, 4, 2], [0, 0, 0, 0], [0, 0, 0, 0], [0, 0, 0, 0]]\n"
     ]
    }
   ],
   "source": [
    "# Test\n",
    "grille_test = [[4,0,2,0],[0,0,0,0],[0,0,0,0], [0,0,0,0]]\n",
    "deplacer_droite(grille_test, 0)\n",
    "print(grille_test)"
   ]
  },
  {
   "cell_type": "markdown",
   "metadata": {},
   "source": [
    "## Question 7"
   ]
  },
  {
   "cell_type": "code",
   "execution_count": 6,
   "metadata": {},
   "outputs": [],
   "source": [
    "def transpose(grille):\n",
    "    grille_trans = grille_remplie(0)\n",
    "    for lig in range(4):\n",
    "        for col in range(4):\n",
    "            grille_trans[lig][col] = grille[col][lig]\n",
    "    return grille_trans"
   ]
  },
  {
   "cell_type": "markdown",
   "metadata": {},
   "source": [
    "## Question 8"
   ]
  },
  {
   "cell_type": "code",
   "execution_count": 5,
   "metadata": {},
   "outputs": [],
   "source": [
    "def decaler_haut(grille, ncol):\n",
    "    \"\"\"Retourne une nouvelle grille où tous les nombres non nuls \n",
    "    de la colonne ncol sont décalés versla haut\"\"\"\n",
    "    grille_trans = transpose(grille)\n",
    "    deplacer_gauche(grille_trans, ncol, verbose = False)\n",
    "    return transpose(grille_trans)"
   ]
  },
  {
   "cell_type": "code",
   "execution_count": 77,
   "metadata": {},
   "outputs": [
    {
     "name": "stdout",
     "output_type": "stream",
     "text": [
      "avant [[2, 0, 4, 4], [0, 2, 0, 0], [4, 2, 0, 4], [0, 4, 2, 8]]\n",
      "après décalage vers le haut de la colonne 0 [[2, 0, 4, 4], [4, 2, 0, 0], [0, 2, 0, 4], [0, 4, 2, 8]]\n"
     ]
    }
   ],
   "source": [
    "#Test\n",
    "grille1 = [[2,0,4,4], [0,2,0,0], [4,2,0,4], [0,4,2,8]]\n",
    "print(\"avant\", grille1)\n",
    "grille2 = decaler_haut(grille1, 0)\n",
    "print(\"après décalage vers le haut de la colonne 0\", grille2)"
   ]
  },
  {
   "cell_type": "markdown",
   "metadata": {},
   "source": [
    "## Question 9"
   ]
  },
  {
   "cell_type": "code",
   "execution_count": 4,
   "metadata": {},
   "outputs": [],
   "source": [
    "def decaler_bas(grille, ncol):\n",
    "    \"\"\"Retourne une nouvelle grille où tous les nombres non nuls \n",
    "    de la colonne ncol sont décalés versla haut\"\"\"\n",
    "    grille_trans = transpose(grille)\n",
    "    deplacer_droite(grille_trans, ncol, verbose = False)\n",
    "    return transpose(grille_trans)"
   ]
  },
  {
   "cell_type": "code",
   "execution_count": 79,
   "metadata": {},
   "outputs": [
    {
     "name": "stdout",
     "output_type": "stream",
     "text": [
      "avant [[2, 0, 4, 4], [0, 2, 0, 0], [4, 2, 0, 4], [0, 4, 2, 8]]\n",
      "après décalage vers le bas de la colonne 0 [[0, 0, 4, 4], [0, 2, 0, 0], [2, 2, 0, 4], [4, 4, 2, 8]]\n"
     ]
    }
   ],
   "source": [
    "#Test\n",
    "grille1 = [[2,0,4,4], [0,2,0,0], [4,2,0,4], [0,4,2,8]]\n",
    "print(\"avant\", grille1)\n",
    "grille2 = decaler_bas(grille1, 0)\n",
    "print(\"après décalage vers le bas de la colonne 0\", grille2)"
   ]
  },
  {
   "cell_type": "markdown",
   "metadata": {},
   "source": [
    "## Question 10"
   ]
  },
  {
   "cell_type": "code",
   "execution_count": 14,
   "metadata": {},
   "outputs": [],
   "source": [
    "def fusion_ligne_gauche(grille, nlig):\n",
    "    \"\"\"Balaie la ligne nlig de grille à partir de la dernière colonne à droite(position 3)\n",
    "    et fusionne les cases voisines identiques.\n",
    "    Travaille sur une ligne où les zéros et les autres valeurs sont déjà séparées\"\"\"\n",
    "    deplacer_gauche(grille, nlig, verbose = False)\n",
    "    ncol = 0\n",
    "    while ncol < 3:\n",
    "        if grille[nlig][ncol] != 0 and grille[nlig][ncol + 1] == grille[nlig][ncol]:       \n",
    "            grille[nlig][ncol + 1] = 2 * grille[nlig][ncol]\n",
    "            grille[nlig][ncol] = 0\n",
    "            ncol = ncol + 1        \n",
    "        ncol = ncol + 1   \n",
    "    deplacer_gauche(grille, nlig, verbose = False)"
   ]
  },
  {
   "cell_type": "code",
   "execution_count": 15,
   "metadata": {},
   "outputs": [
    {
     "name": "stdout",
     "output_type": "stream",
     "text": [
      "Grille initiale : [[4, 2, 2, 0], [8, 4, 4, 2], [8, 8, 8, 2], [4, 4, 2, 0]]\n",
      "Fusion ligne gauche 0\n",
      "[[4, 4, 0, 0], [8, 4, 4, 2], [8, 8, 8, 2], [4, 4, 2, 0]]\n",
      "Fusion ligne gauche 1\n",
      "[[4, 4, 0, 0], [8, 8, 2, 0], [8, 8, 8, 2], [4, 4, 2, 0]]\n",
      "Fusion ligne gauche 2\n",
      "[[4, 4, 0, 0], [8, 8, 2, 0], [16, 8, 2, 0], [4, 4, 2, 0]]\n",
      "Fusion ligne gauche 3\n",
      "[[4, 4, 0, 0], [8, 8, 2, 0], [16, 8, 2, 0], [8, 2, 0, 0]]\n"
     ]
    }
   ],
   "source": [
    "#Tests\n",
    "grille = [[4,2,2,0], [8,4,4,2], [8,8,8,2], [4,4,2,0]]\n",
    "print(\"Grille initiale :\", grille)\n",
    "for k in range(4):\n",
    "    print(\"Fusion ligne gauche\", k)\n",
    "    fusion_ligne_gauche(grille, k)\n",
    "    print(grille)"
   ]
  },
  {
   "cell_type": "markdown",
   "metadata": {},
   "source": [
    "## Question 11"
   ]
  },
  {
   "cell_type": "code",
   "execution_count": 21,
   "metadata": {},
   "outputs": [],
   "source": [
    "def fusion_ligne_droite(grille, nlig):\n",
    "    \"\"\"Balaie la ligne nlig de grille à partir de la dernière colonne à gauche (position 0)\n",
    "    et fusionne les cases voisines identiques.\n",
    "    Travaille sur une ligne où les zéros et les autres valeurs sont déjà séparées\"\"\"\n",
    "    ncol = 3\n",
    "    deplacer_droite(grille, nlig, verbose = False)\n",
    "    while ncol > 0:\n",
    "        if grille[nlig][ncol] != 0 and grille[nlig][ncol  - 1] == grille[nlig][ncol]:       \n",
    "            grille[nlig][ncol - 1] = 2 * grille[nlig][ncol]\n",
    "            grille[nlig][ncol] = 0\n",
    "            ncol = ncol - 1        \n",
    "        ncol = ncol - 1 \n",
    "    deplacer_droite(grille, nlig, verbose = False)"
   ]
  },
  {
   "cell_type": "code",
   "execution_count": 22,
   "metadata": {},
   "outputs": [
    {
     "name": "stdout",
     "output_type": "stream",
     "text": [
      "Grille initiale : [[0, 4, 2, 2], [0, 4, 4, 8], [0, 8, 8, 8], [0, 2, 4, 4]]\n",
      "Fusion ligne droite 0\n",
      "[[0, 0, 4, 4], [0, 4, 4, 8], [0, 8, 8, 8], [0, 2, 4, 4]]\n",
      "Fusion ligne droite 1\n",
      "[[0, 0, 4, 4], [0, 0, 8, 8], [0, 8, 8, 8], [0, 2, 4, 4]]\n",
      "Fusion ligne droite 2\n",
      "[[0, 0, 4, 4], [0, 0, 8, 8], [0, 0, 8, 16], [0, 2, 4, 4]]\n",
      "Fusion ligne droite 3\n",
      "[[0, 0, 4, 4], [0, 0, 8, 8], [0, 0, 8, 16], [0, 0, 2, 8]]\n"
     ]
    }
   ],
   "source": [
    "#Tests\n",
    "grille = [[0, 4,2,2], [0,4,4,8], [0, 8,8,8], [0, 2,4,4]]\n",
    "print(\"Grille initiale :\", grille)\n",
    "for k in range(4):\n",
    "    print(\"Fusion ligne droite\", k)\n",
    "    fusion_ligne_droite(grille, k)\n",
    "    print(grille)"
   ]
  },
  {
   "cell_type": "markdown",
   "metadata": {},
   "source": [
    "## Question 12"
   ]
  },
  {
   "cell_type": "code",
   "execution_count": 24,
   "metadata": {},
   "outputs": [],
   "source": [
    "def fusion_col_haut(grille, ncol):\n",
    "    \"\"\"Balaie la colonne ncol vers le haut\n",
    "    et fusionne les cases voisines identiques.\n",
    "    Travaille sur une colonne où les zéros et les autres valeurs sont déjà séparées.\n",
    "    Retourne une nouvelle grille\"\"\"\n",
    "    grille_trans = transpose(grille)\n",
    "    fusion_ligne_gauche(grille_trans, ncol)\n",
    "    return transpose(grille_trans)"
   ]
  },
  {
   "cell_type": "code",
   "execution_count": 26,
   "metadata": {},
   "outputs": [
    {
     "name": "stdout",
     "output_type": "stream",
     "text": [
      "Grille initiale : [[8, 8, 4, 8], [0, 2, 0, 8], [4, 2, 0, 8], [0, 4, 2, 0]]\n",
      "Fusion colonne 3 vers le haut [[8, 8, 4, 16], [0, 2, 0, 8], [4, 2, 0, 0], [0, 4, 2, 0]]\n"
     ]
    }
   ],
   "source": [
    "#Tests\n",
    "grille3 = [[8,8,4,8], [0,2,0,8], [4,2,0,8], [0,4,2,0]]\n",
    "print(\"Grille initiale :\", grille3)\n",
    "print(\"Fusion colonne 3 vers le haut\", fusion_col_haut(grille3, 3))"
   ]
  },
  {
   "cell_type": "code",
   "execution_count": 27,
   "metadata": {},
   "outputs": [],
   "source": [
    "def fusion_col_bas(grille, ncol):\n",
    "    \"\"\"Balaie la colonne ncol vers le haut\n",
    "    et fusionne les cases voisines identiques.\n",
    "    Travaille sur une colonne où les zéros et les autres valeurs sont déjà séparées.\n",
    "    Retourne une nouvelle grille\"\"\"\n",
    "    grille_trans = transpose(grille)\n",
    "    fusion_ligne_droite(grille_trans, ncol)\n",
    "    return transpose(grille_trans)"
   ]
  },
  {
   "cell_type": "code",
   "execution_count": 28,
   "metadata": {},
   "outputs": [
    {
     "name": "stdout",
     "output_type": "stream",
     "text": [
      "Grille initiale : [[8, 8, 4, 0], [0, 2, 0, 4], [4, 2, 0, 4], [0, 4, 2, 4]]\n",
      "Fusion colonne 3 vers le bas [[8, 8, 4, 0], [0, 2, 0, 0], [4, 2, 0, 4], [0, 4, 2, 8]]\n"
     ]
    }
   ],
   "source": [
    "#Tests\n",
    "grille4 = [[8,8,4,0], [0,2,0,4], [4,2,0,4], [0,4,2,4]]\n",
    "print(\"Grille initiale :\", grille4)\n",
    "print(\"Fusion colonne 3 vers le bas\", fusion_col_bas(grille4, 3))"
   ]
  },
  {
   "cell_type": "markdown",
   "metadata": {},
   "source": [
    "## Question 13"
   ]
  },
  {
   "cell_type": "code",
   "execution_count": 32,
   "metadata": {},
   "outputs": [],
   "source": [
    "def liste_case_vide(grille):\n",
    "    L = []\n",
    "    for lig in range(4):\n",
    "        for col in range(4):\n",
    "            if grille[lig][col] == 0:\n",
    "                L.append((lig, col))\n",
    "    return L"
   ]
  },
  {
   "cell_type": "markdown",
   "metadata": {},
   "source": [
    "## Question 14"
   ]
  },
  {
   "cell_type": "code",
   "execution_count": 33,
   "metadata": {},
   "outputs": [],
   "source": [
    "def maximum(grille):\n",
    "    maxi = 0\n",
    "    for lig in range(3):\n",
    "        for col in range(3):\n",
    "            n = grille[lig][col]\n",
    "            if n  > maxi:\n",
    "                maxi = n\n",
    "    return maxi                "
   ]
  },
  {
   "cell_type": "markdown",
   "metadata": {},
   "source": [
    "## Question 15"
   ]
  },
  {
   "cell_type": "code",
   "execution_count": 39,
   "metadata": {},
   "outputs": [],
   "source": [
    "def jeu_2048():\n",
    "    #initialisation\n",
    "    urne = [2, 4]\n",
    "    grille = grille_remplie(0)\n",
    "    case_vide = liste_case_vide(grille)    \n",
    "    while len(case_vide) > 0 and maximum(grille) < 2048:   \n",
    "        (lig, col) = case_vide[randint(0, len(case_vide) - 1)]\n",
    "        grille[lig][col] = urne[randint(0, 1)]\n",
    "        afficher_grille(grille)\n",
    "        print('-'*9 + 'Nouveau tour' + '-'*9)\n",
    "        deplacement = int(input(\"Déplacement 4 (gauche) 6 (droite)  8 (haut) 9 (bas) ?  \"))\n",
    "        #vérification sommaire de l'entrée\n",
    "        assert deplacement in [4,6,8,9]\n",
    "        if deplacement == 4:\n",
    "            for lig in range(4):\n",
    "                deplacer_gauche(grille, lig, verbose = False)\n",
    "                fusion_ligne_gauche(grille, lig)\n",
    "        elif deplacement == 6:\n",
    "            for lig in range(4):\n",
    "                deplacer_droite(grille, lig, verbose = False)\n",
    "                fusion_ligne_droite(grille, lig)\n",
    "        elif deplacement == 9:\n",
    "            for col in range(4):\n",
    "                grille = decaler_bas(grille, col)\n",
    "                grille = fusion_col_bas(grille, col)\n",
    "        else:\n",
    "            for col in range(4):\n",
    "                grille = decaler_haut(grille, col)\n",
    "                grille = fusion_col_haut(grille, col)        \n",
    "        case_vide = liste_case_vide(grille)\n",
    "    afficher_grille(grille)"
   ]
  },
  {
   "cell_type": "code",
   "execution_count": null,
   "metadata": {},
   "outputs": [
    {
     "name": "stdout",
     "output_type": "stream",
     "text": [
      "|  0   |  0   |  0   |  0   |\n",
      "|  0   |  2   |  0   |  0   |\n",
      "|  0   |  0   |  0   |  0   |\n",
      "|  0   |  0   |  0   |  0   |\n",
      "---------Nouveau tour---------\n",
      "Déplacement 4 (gauche) 6 (droite)  8 (haut) 9 (bas) ?  4\n",
      "|  0   |  0   |  0   |  2   |\n",
      "|  2   |  0   |  0   |  0   |\n",
      "|  0   |  0   |  0   |  0   |\n",
      "|  0   |  0   |  0   |  0   |\n",
      "---------Nouveau tour---------\n",
      "Déplacement 4 (gauche) 6 (droite)  8 (haut) 9 (bas) ?  9\n",
      "|  2   |  0   |  0   |  0   |\n",
      "|  0   |  0   |  0   |  0   |\n",
      "|  0   |  0   |  0   |  0   |\n",
      "|  2   |  0   |  0   |  2   |\n",
      "---------Nouveau tour---------\n",
      "Déplacement 4 (gauche) 6 (droite)  8 (haut) 9 (bas) ?  9\n",
      "|  0   |  0   |  4   |  0   |\n",
      "|  0   |  0   |  0   |  0   |\n",
      "|  0   |  0   |  0   |  0   |\n",
      "|  4   |  0   |  0   |  2   |\n",
      "---------Nouveau tour---------\n"
     ]
    }
   ],
   "source": [
    "jeu_2048()"
   ]
  }
 ],
 "metadata": {
  "kernelspec": {
   "display_name": "Python 3",
   "language": "python",
   "name": "python3"
  },
  "language_info": {
   "codemirror_mode": {
    "name": "ipython",
    "version": 3
   },
   "file_extension": ".py",
   "mimetype": "text/x-python",
   "name": "python",
   "nbconvert_exporter": "python",
   "pygments_lexer": "ipython3",
   "version": "3.5.2"
  }
 },
 "nbformat": 4,
 "nbformat_minor": 2
}
