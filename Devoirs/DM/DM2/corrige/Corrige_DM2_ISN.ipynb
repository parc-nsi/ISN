{
 "cells": [
  {
   "cell_type": "markdown",
   "metadata": {},
   "source": [
    "## DM numéro 2 ISN 2019/2020"
   ]
  },
  {
   "cell_type": "markdown",
   "metadata": {},
   "source": [
    "## Exercice 1"
   ]
  },
  {
   "cell_type": "markdown",
   "metadata": {},
   "source": [
    "### Question 1 : fonction retournant la somme des nombres contenus dans une liste"
   ]
  },
  {
   "cell_type": "code",
   "execution_count": 10,
   "metadata": {},
   "outputs": [],
   "source": [
    "def somme1(t):\n",
    "    s = 0\n",
    "    for k in t:\n",
    "        s = s + k\n",
    "    return s\n",
    "\n",
    "def somme2(t):\n",
    "    s = 0\n",
    "    for k in range(len(t)):\n",
    "        s = s + k\n",
    "    return s\n",
    "\n",
    "def somme3(t):\n",
    "    s = 0\n",
    "    for k in range(len(t)):\n",
    "        s = s + t[k]\n",
    "    return s\n",
    "\n",
    "def somme4(t):\n",
    "    s = 0\n",
    "    for k in range(1,len(t)+1):\n",
    "        s = s + t[k]\n",
    "    return s"
   ]
  },
  {
   "cell_type": "markdown",
   "metadata": {},
   "source": [
    "Faisons un petit test"
   ]
  },
  {
   "cell_type": "code",
   "execution_count": 11,
   "metadata": {},
   "outputs": [
    {
     "name": "stdout",
     "output_type": "stream",
     "text": [
      "15\n",
      "3\n",
      "15\n"
     ]
    },
    {
     "ename": "IndexError",
     "evalue": "list index out of range",
     "output_type": "error",
     "traceback": [
      "\u001b[0;31m---------------------------------------------------------------------------\u001b[0m",
      "\u001b[0;31mIndexError\u001b[0m                                Traceback (most recent call last)",
      "\u001b[0;32m<ipython-input-11-b2c2038a7405>\u001b[0m in \u001b[0;36m<module>\u001b[0;34m\u001b[0m\n\u001b[1;32m      1\u001b[0m \u001b[0;32mfor\u001b[0m \u001b[0mf\u001b[0m \u001b[0;32min\u001b[0m \u001b[0;34m[\u001b[0m\u001b[0msomme1\u001b[0m\u001b[0;34m,\u001b[0m \u001b[0msomme2\u001b[0m\u001b[0;34m,\u001b[0m \u001b[0msomme3\u001b[0m\u001b[0;34m,\u001b[0m \u001b[0msomme4\u001b[0m\u001b[0;34m]\u001b[0m\u001b[0;34m:\u001b[0m\u001b[0;34m\u001b[0m\u001b[0;34m\u001b[0m\u001b[0m\n\u001b[0;32m----> 2\u001b[0;31m     \u001b[0mprint\u001b[0m\u001b[0;34m(\u001b[0m\u001b[0mf\u001b[0m\u001b[0;34m(\u001b[0m\u001b[0;34m[\u001b[0m\u001b[0;36m4\u001b[0m\u001b[0;34m,\u001b[0m\u001b[0;36m5\u001b[0m\u001b[0;34m,\u001b[0m\u001b[0;36m6\u001b[0m\u001b[0;34m]\u001b[0m\u001b[0;34m)\u001b[0m\u001b[0;34m)\u001b[0m\u001b[0;34m\u001b[0m\u001b[0;34m\u001b[0m\u001b[0m\n\u001b[0m",
      "\u001b[0;32m<ipython-input-10-f0f0a58f9faf>\u001b[0m in \u001b[0;36msomme4\u001b[0;34m(t)\u001b[0m\n\u001b[1;32m     20\u001b[0m     \u001b[0ms\u001b[0m \u001b[0;34m=\u001b[0m \u001b[0;36m0\u001b[0m\u001b[0;34m\u001b[0m\u001b[0;34m\u001b[0m\u001b[0m\n\u001b[1;32m     21\u001b[0m     \u001b[0;32mfor\u001b[0m \u001b[0mk\u001b[0m \u001b[0;32min\u001b[0m \u001b[0mrange\u001b[0m\u001b[0;34m(\u001b[0m\u001b[0;36m1\u001b[0m\u001b[0;34m,\u001b[0m\u001b[0mlen\u001b[0m\u001b[0;34m(\u001b[0m\u001b[0mt\u001b[0m\u001b[0;34m)\u001b[0m\u001b[0;34m+\u001b[0m\u001b[0;36m1\u001b[0m\u001b[0;34m)\u001b[0m\u001b[0;34m:\u001b[0m\u001b[0;34m\u001b[0m\u001b[0;34m\u001b[0m\u001b[0m\n\u001b[0;32m---> 22\u001b[0;31m         \u001b[0ms\u001b[0m \u001b[0;34m=\u001b[0m \u001b[0ms\u001b[0m \u001b[0;34m+\u001b[0m \u001b[0mt\u001b[0m\u001b[0;34m[\u001b[0m\u001b[0mk\u001b[0m\u001b[0;34m]\u001b[0m\u001b[0;34m\u001b[0m\u001b[0;34m\u001b[0m\u001b[0m\n\u001b[0m\u001b[1;32m     23\u001b[0m     \u001b[0;32mreturn\u001b[0m \u001b[0ms\u001b[0m\u001b[0;34m\u001b[0m\u001b[0;34m\u001b[0m\u001b[0m\n",
      "\u001b[0;31mIndexError\u001b[0m: list index out of range"
     ]
    }
   ],
   "source": [
    "for f in [somme1, somme2, somme3, somme4]:\n",
    "    print(f([4,5,6]))"
   ]
  },
  {
   "cell_type": "markdown",
   "metadata": {},
   "source": [
    "Il faudrait le démontrer rigoureusement, mais on peut affirmer que les fonctions `somme1` et `somme3` retournent bien la somme des éléments de la liste de nombres qui leur est passée en argument."
   ]
  },
  {
   "cell_type": "markdown",
   "metadata": {},
   "source": [
    "### Question 2"
   ]
  },
  {
   "cell_type": "code",
   "execution_count": 13,
   "metadata": {},
   "outputs": [],
   "source": [
    "def produit(t):\n",
    "    \"\"\"Retourne le produit des éléments d'une liste de nombres\"\"\"\n",
    "    p = 1\n",
    "    for e in t:\n",
    "        p = p * e\n",
    "    return p"
   ]
  },
  {
   "cell_type": "markdown",
   "metadata": {},
   "source": [
    "### Question 3"
   ]
  },
  {
   "cell_type": "code",
   "execution_count": 14,
   "metadata": {},
   "outputs": [],
   "source": [
    "def memeTaille(t1, t2):\n",
    "    \"\"\"Retourne un booléen indiquant si les deux listes\n",
    "    t1 et t2 sont de même taille\"\"\"\n",
    "    return len(t1) == len(t2)"
   ]
  },
  {
   "cell_type": "markdown",
   "metadata": {},
   "source": [
    "### Question 4"
   ]
  },
  {
   "cell_type": "code",
   "execution_count": 16,
   "metadata": {},
   "outputs": [],
   "source": [
    "def somme2listes(t1, t2):\n",
    "    \"\"\"Retourne une liste t3 dont les éléments sont \n",
    "    la somme des éléments de t1 et t2 de même index\"\"\"\n",
    "    if memeTaille(t1, t2):\n",
    "        t3 = [0] * len(t1)\n",
    "        for k in range(len(t1)):\n",
    "            t3[k] = t1[k] + t2[k]\n",
    "        return t3\n",
    "    return None"
   ]
  },
  {
   "cell_type": "markdown",
   "metadata": {},
   "source": [
    "L'appel `somme2listes([4,5,6,7], [1,2,3])` retourne `None` car les deux listes `[1,2,3]` et `[4,5,6,7]` ne sont pas de même taille. La comparaison des tailles de `t1` et `t2` avec `memeTaille(t1, t2)` au début du bloc d'instruction de la fonction permet d'éviter la levée d'une exception en retournant `None` si les deux listes ne sont pas de même taille avec une liste `t1` plus longue que `t2`."
   ]
  },
  {
   "cell_type": "code",
   "execution_count": 24,
   "metadata": {},
   "outputs": [],
   "source": [
    "def somme2listesV2(t1, t2):\n",
    "    \"\"\"Retourne une liste t3 dont les éléments sont \n",
    "    la somme des éléments de t1 et t2 de même index\"\"\"\n",
    "    t3 = [0] * len(t1)\n",
    "    for k in range(len(t1)):\n",
    "        t3[k] = t1[k] + t2[k]\n",
    "    return t3"
   ]
  },
  {
   "cell_type": "code",
   "execution_count": 25,
   "metadata": {},
   "outputs": [
    {
     "ename": "IndexError",
     "evalue": "list index out of range",
     "output_type": "error",
     "traceback": [
      "\u001b[0;31m---------------------------------------------------------------------------\u001b[0m",
      "\u001b[0;31mIndexError\u001b[0m                                Traceback (most recent call last)",
      "\u001b[0;32m<ipython-input-25-f2d99b03c254>\u001b[0m in \u001b[0;36m<module>\u001b[0;34m\u001b[0m\n\u001b[0;32m----> 1\u001b[0;31m \u001b[0msomme2listesV2\u001b[0m\u001b[0;34m(\u001b[0m\u001b[0;34m[\u001b[0m\u001b[0;36m4\u001b[0m\u001b[0;34m,\u001b[0m\u001b[0;36m5\u001b[0m\u001b[0;34m,\u001b[0m\u001b[0;36m6\u001b[0m\u001b[0;34m,\u001b[0m\u001b[0;36m7\u001b[0m\u001b[0;34m]\u001b[0m\u001b[0;34m,\u001b[0m \u001b[0;34m[\u001b[0m\u001b[0;36m1\u001b[0m\u001b[0;34m,\u001b[0m\u001b[0;36m2\u001b[0m\u001b[0;34m,\u001b[0m\u001b[0;36m3\u001b[0m\u001b[0;34m]\u001b[0m\u001b[0;34m)\u001b[0m\u001b[0;34m\u001b[0m\u001b[0;34m\u001b[0m\u001b[0m\n\u001b[0m",
      "\u001b[0;32m<ipython-input-24-63172c10e710>\u001b[0m in \u001b[0;36msomme2listesV2\u001b[0;34m(t1, t2)\u001b[0m\n\u001b[1;32m      4\u001b[0m     \u001b[0mt3\u001b[0m \u001b[0;34m=\u001b[0m \u001b[0;34m[\u001b[0m\u001b[0;36m0\u001b[0m\u001b[0;34m]\u001b[0m \u001b[0;34m*\u001b[0m \u001b[0mlen\u001b[0m\u001b[0;34m(\u001b[0m\u001b[0mt1\u001b[0m\u001b[0;34m)\u001b[0m\u001b[0;34m\u001b[0m\u001b[0;34m\u001b[0m\u001b[0m\n\u001b[1;32m      5\u001b[0m     \u001b[0;32mfor\u001b[0m \u001b[0mk\u001b[0m \u001b[0;32min\u001b[0m \u001b[0mrange\u001b[0m\u001b[0;34m(\u001b[0m\u001b[0mlen\u001b[0m\u001b[0;34m(\u001b[0m\u001b[0mt1\u001b[0m\u001b[0;34m)\u001b[0m\u001b[0;34m)\u001b[0m\u001b[0;34m:\u001b[0m\u001b[0;34m\u001b[0m\u001b[0;34m\u001b[0m\u001b[0m\n\u001b[0;32m----> 6\u001b[0;31m         \u001b[0mt3\u001b[0m\u001b[0;34m[\u001b[0m\u001b[0mk\u001b[0m\u001b[0;34m]\u001b[0m \u001b[0;34m=\u001b[0m \u001b[0mt1\u001b[0m\u001b[0;34m[\u001b[0m\u001b[0mk\u001b[0m\u001b[0;34m]\u001b[0m \u001b[0;34m+\u001b[0m \u001b[0mt2\u001b[0m\u001b[0;34m[\u001b[0m\u001b[0mk\u001b[0m\u001b[0;34m]\u001b[0m\u001b[0;34m\u001b[0m\u001b[0;34m\u001b[0m\u001b[0m\n\u001b[0m\u001b[1;32m      7\u001b[0m     \u001b[0;32mreturn\u001b[0m \u001b[0mt3\u001b[0m\u001b[0;34m\u001b[0m\u001b[0;34m\u001b[0m\u001b[0m\n",
      "\u001b[0;31mIndexError\u001b[0m: list index out of range"
     ]
    }
   ],
   "source": [
    "somme2listesV2([4,5,6,7], [1,2,3])"
   ]
  },
  {
   "cell_type": "markdown",
   "metadata": {},
   "source": [
    "## Exercice 2 Récherche séquentielle"
   ]
  },
  {
   "cell_type": "markdown",
   "metadata": {},
   "source": [
    "### Question 1"
   ]
  },
  {
   "cell_type": "code",
   "execution_count": 28,
   "metadata": {},
   "outputs": [],
   "source": [
    "def rechercheMax(t):\n",
    "    \"\"\"Retourne le maximum d'une liste d'entiers\"\"\"\n",
    "    if len(t) == 0:\n",
    "        return None\n",
    "    maxi = t[0]\n",
    "    for k in range(1, len(t)):\n",
    "        if t[k] > maxi:\n",
    "            maxi = t[k]\n",
    "    return maxi"
   ]
  },
  {
   "cell_type": "markdown",
   "metadata": {},
   "source": [
    "### Question 2"
   ]
  },
  {
   "cell_type": "code",
   "execution_count": 27,
   "metadata": {},
   "outputs": [],
   "source": [
    "def rechercheMiniMaxi(t):\n",
    "    \"\"\"Retourne le couple (minimum, maximum) d'une liste d'entiers\"\"\"\n",
    "    if len(t) == 0:\n",
    "        return None\n",
    "    maxi = t[0]\n",
    "    mini = t[0]\n",
    "    for k in range(1, len(t)):\n",
    "        if t[k] > maxi:\n",
    "            maxi = t[k]\n",
    "        elif t[k] < mini:\n",
    "            mini = t[k]\n",
    "    return (mini, maxi)"
   ]
  },
  {
   "cell_type": "markdown",
   "metadata": {},
   "source": [
    "### Question 3"
   ]
  },
  {
   "cell_type": "code",
   "execution_count": 29,
   "metadata": {},
   "outputs": [],
   "source": [
    "def negatif1(t):\n",
    "    for e in t:\n",
    "        if e < 0:\n",
    "            return True\n",
    "        else:\n",
    "            return False\n",
    "        \n",
    "        \n",
    "def negatif2(t):\n",
    "    for e in t:\n",
    "        if e < 0:\n",
    "            return True\n",
    "    return False\n",
    "\n",
    "def negatif3(t):    \n",
    "    for k in range(len(t)):\n",
    "        if t[k] < 0:\n",
    "            return True\n",
    "    return False\n",
    "\n",
    "def negatif4(t):  \n",
    "    rep = False  \n",
    "    for k in range(len(t)):\n",
    "        if t[k] < 0:\n",
    "            rep = True\n",
    "    return rep"
   ]
  },
  {
   "cell_type": "markdown",
   "metadata": {},
   "source": [
    "Parmi les quatre fonctions précédentes, seule la fonction `negatif2` ne retournent pas `True` si l'un au moins des nombres contenus dans la liste `t` est négatif. En effet la fonction `negatif2` retourne `True` ou `False` dès le premier tour de boucle donc si la liste comporte deux nombres tels que le premier est strictement positif et le second négatif, elle retourne `False` ce qui correspond uniquement au signe du premier nombre."
   ]
  },
  {
   "cell_type": "markdown",
   "metadata": {},
   "source": [
    "### Question 4"
   ]
  },
  {
   "cell_type": "code",
   "execution_count": 30,
   "metadata": {},
   "outputs": [],
   "source": [
    "def listesEgales(t1, t2):\n",
    "    \"\"\"Retourne True si les listes sont de même taille avec les mêmes \n",
    "    éléments dans l'ordre et False sinon\"\"\"\n",
    "    if len(t1) != len(t2):\n",
    "        return False\n",
    "    for k in range(len(t1)):\n",
    "        if t1[k] != t2[k]:\n",
    "            return False\n",
    "    return True"
   ]
  },
  {
   "cell_type": "markdown",
   "metadata": {},
   "source": [
    "## Exercice 3"
   ]
  },
  {
   "cell_type": "markdown",
   "metadata": {},
   "source": [
    "### Question 1"
   ]
  },
  {
   "cell_type": "code",
   "execution_count": 46,
   "metadata": {},
   "outputs": [],
   "source": [
    "def mystere(n, debug = False):\n",
    "    t = []    \n",
    "    if debug:\n",
    "            print(\"Test n >= 10 : \", n >= 10, \" et t = \", t, \"et n = \", n)\n",
    "    while n >= 10:        \n",
    "        t.append(n % 10)\n",
    "        n = n // 10    \n",
    "        if debug:\n",
    "            print(\"Test n >= 10 : \", n >= 10, \" et t = \", t, \"et n = \", n)\n",
    "    t.append(n % 10)\n",
    "    if debug:\n",
    "        print(\"Test n >= 10 : \", n >= 10, \"et t = \", t, \" et n = \", n)\n",
    "    return t"
   ]
  },
  {
   "cell_type": "code",
   "execution_count": 47,
   "metadata": {},
   "outputs": [
    {
     "name": "stdout",
     "output_type": "stream",
     "text": [
      "Test n >= 10 :  True  et t =  [] et n =  842\n",
      "Test n >= 10 :  True  et t =  [2] et n =  84\n",
      "Test n >= 10 :  False  et t =  [2, 4] et n =  8\n",
      "Test n >= 10 :  False et t =  [2, 4, 8]  et n =  8\n"
     ]
    },
    {
     "data": {
      "text/plain": [
       "[2, 4, 8]"
      ]
     },
     "execution_count": 47,
     "metadata": {},
     "output_type": "execute_result"
    }
   ],
   "source": [
    "mystere(842, debug = True)"
   ]
  },
  {
   "cell_type": "markdown",
   "metadata": {},
   "source": [
    "### Question 2\n",
    "\n",
    "La liste retournée par `mystere(n)` représente la liste des chiffres de l'entier `n` dans l'ordre inverse de l'ordre habituel : les chiffres de poids faible d'abord."
   ]
  },
  {
   "cell_type": "markdown",
   "metadata": {},
   "source": [
    "### Question 3"
   ]
  },
  {
   "cell_type": "code",
   "execution_count": 98,
   "metadata": {},
   "outputs": [],
   "source": [
    "def est_palindrome(n):\n",
    "    \"\"\"teste si nombre est palindrome\"\"\"\n",
    "    chiffres = mystere(n)\n",
    "    return listesEgales(chiffres, chiffres[::-1])"
   ]
  },
  {
   "cell_type": "code",
   "execution_count": 50,
   "metadata": {},
   "outputs": [
    {
     "data": {
      "text/plain": [
       "(True, False)"
      ]
     },
     "execution_count": 50,
     "metadata": {},
     "output_type": "execute_result"
    }
   ],
   "source": [
    "(est_palindrome(353), est_palindrome(354))"
   ]
  },
  {
   "cell_type": "code",
   "execution_count": 115,
   "metadata": {},
   "outputs": [],
   "source": [
    "def chiffres2nombre(t):\n",
    "    \"\"\"Retourne le nombre à partir de la liste de ses \n",
    "    chiffres dans l'ordre inverse\"\"\"\n",
    "    n = 0\n",
    "    puissance = 1\n",
    "    for c in t:\n",
    "        n = n + c * puissance\n",
    "        puissance = puissance * 10\n",
    "    return n    "
   ]
  },
  {
   "cell_type": "code",
   "execution_count": 52,
   "metadata": {},
   "outputs": [
    {
     "data": {
      "text/plain": [
       "842"
      ]
     },
     "execution_count": 52,
     "metadata": {},
     "output_type": "execute_result"
    }
   ],
   "source": [
    "chiffres2nombre(mystere(842))"
   ]
  },
  {
   "cell_type": "code",
   "execution_count": 79,
   "metadata": {},
   "outputs": [
    {
     "data": {
      "text/plain": [
       "248"
      ]
     },
     "execution_count": 79,
     "metadata": {},
     "output_type": "execute_result"
    }
   ],
   "source": [
    "chiffres2nombre([8,4,2])"
   ]
  },
  {
   "cell_type": "code",
   "execution_count": 116,
   "metadata": {},
   "outputs": [],
   "source": [
    "def est_lychrel(n):\n",
    "    \"\"\"Retourne True si n est un pseudo-nombre de Lychrel\n",
    "    c'est-à-dire qu'on n'aboutit pas à un palindrome en \n",
    "    moins de 50 itérations\"\"\"\n",
    "    k = 1\n",
    "    #au moins une itération\n",
    "    chiffres = mystere(n)\n",
    "    n = n + chiffres2nombre(chiffres[::-1])\n",
    "    while k <= 50 and not est_palindrome(n):\n",
    "        chiffres = mystere(n)\n",
    "        n = n + chiffres2nombre(chiffres[::-1])\n",
    "        k = k + 1\n",
    "    return  k == 51"
   ]
  },
  {
   "cell_type": "code",
   "execution_count": 117,
   "metadata": {},
   "outputs": [
    {
     "data": {
      "text/plain": [
       "True"
      ]
     },
     "execution_count": 117,
     "metadata": {},
     "output_type": "execute_result"
    }
   ],
   "source": [
    "est_lychrel(9999)"
   ]
  },
  {
   "cell_type": "code",
   "execution_count": 118,
   "metadata": {},
   "outputs": [
    {
     "name": "stdout",
     "output_type": "stream",
     "text": [
      "[196, 295, 394, 493, 592, 689, 691, 788, 790, 879, 887, 978, 986, 1495, 1497, 1585, 1587, 1675, 1677, 1765, 1767, 1855, 1857, 1945, 1947, 1997, 2494, 2496, 2584, 2586, 2674, 2676, 2764, 2766, 2854, 2856, 2944, 2946, 2996, 3493, 3495, 3583, 3585, 3673, 3675, 3763, 3765, 3853, 3855, 3943, 3945, 3995, 4079, 4169, 4259, 4349, 4439, 4492, 4494, 4529, 4582, 4584, 4619, 4672, 4674, 4709, 4762, 4764, 4799, 4852, 4854, 4889, 4942, 4944, 4979, 4994, 5078, 5168, 5258, 5348, 5438, 5491, 5493, 5528, 5581, 5583, 5618, 5671, 5673, 5708, 5761, 5763, 5798, 5851, 5853, 5888, 5941, 5943, 5978, 5993, 6077, 6167, 6257, 6347, 6437, 6490, 6492, 6527, 6580, 6582, 6617, 6670, 6672, 6707, 6760, 6762, 6797, 6850, 6852, 6887, 6940, 6942, 6977, 6992, 7059, 7076, 7149, 7166, 7239, 7256, 7329, 7346, 7419, 7436, 7491, 7509, 7526, 7581, 7599, 7616, 7671, 7689, 7706, 7761, 7779, 7796, 7851, 7869, 7886, 7941, 7959, 7976, 7991, 8058, 8075, 8079, 8089, 8148, 8165, 8169, 8179, 8238, 8255, 8259, 8269, 8328, 8345, 8349, 8359, 8418, 8435, 8439, 8449, 8490, 8508, 8525, 8529, 8539, 8580, 8598, 8615, 8619, 8629, 8670, 8688, 8705, 8709, 8719, 8760, 8778, 8795, 8799, 8809, 8850, 8868, 8885, 8889, 8899, 8940, 8958, 8975, 8979, 8989, 8990, 9057, 9074, 9078, 9088, 9147, 9164, 9168, 9178, 9237, 9254, 9258, 9268, 9327, 9344, 9348, 9358, 9417, 9434, 9438, 9448, 9507, 9524, 9528, 9538, 9597, 9614, 9618, 9628, 9687, 9704, 9708, 9718, 9777, 9794, 9798, 9808, 9867, 9884, 9888, 9898, 9957, 9974, 9978, 9988, 9999]\n"
     ]
    }
   ],
   "source": [
    "lychrel = []\n",
    "for n in range(1, 10000):\n",
    "    if est_lychrel(n):\n",
    "        lychrel.append(n)\n",
    "print(lychrel)"
   ]
  },
  {
   "cell_type": "code",
   "execution_count": 119,
   "metadata": {},
   "outputs": [
    {
     "name": "stdout",
     "output_type": "stream",
     "text": [
      "249\n"
     ]
    }
   ],
   "source": [
    "print(len(lychrel))"
   ]
  }
 ],
 "metadata": {
  "kernelspec": {
   "display_name": "Python 3",
   "language": "python",
   "name": "python3"
  },
  "language_info": {
   "codemirror_mode": {
    "name": "ipython",
    "version": 3
   },
   "file_extension": ".py",
   "mimetype": "text/x-python",
   "name": "python",
   "nbconvert_exporter": "python",
   "pygments_lexer": "ipython3",
   "version": "3.7.3"
  }
 },
 "nbformat": 4,
 "nbformat_minor": 2
}
