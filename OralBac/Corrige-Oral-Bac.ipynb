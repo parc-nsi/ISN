{
 "cells": [
  {
   "cell_type": "markdown",
   "metadata": {},
   "source": [
    "<div class = \"alert alert-danger\">\n",
    "\n",
    "# Corrigés des exercices de préparation à l'oral du Bac\n",
    "\n",
    "Les énoncés des exercices se trouvent sur :\n",
    "\n",
    "-[version pdf](OralBac/Preparation-oral-bac-.pdf)\n",
    "\n",
    "-[version Github markdown](OralBac/Preparation-oral-bac-git.md)\n",
    "\n",
    "-[version diaporama HTML](OralBac/Preparation-oral-bac-slidy.html)\n",
    "\n",
    "-[version simple HTML](OralBac/Preparation-oral-bac-.html)\n",
    "\n",
    "-[corrigé mis à jour régulièrement](https://mybinder.org/v2/gh/frederic-junier/ISN/master?filepath=OralBac/Corrige-Oral-Bac.ipynb)\n"
   ]
  },
  {
   "cell_type": "markdown",
   "metadata": {},
   "source": [
    "<div class = \"alert alert-info\">\n",
    "\n",
    "## Exercice 6\n",
    "\n",
    "Pour le diplôme du baccalauréat, si on note $m$ la moyenne du candidat, quatre mentions sont possibles :\n",
    "_Passable_ si $10 \\leqslant m <  12$, _Assez bien_ si $12 \\leqslant m < 14$, _Bien_ si $14 \\leqslant  m < 16$ et _Très bien_ sinon.\n",
    "Recopier et compléter le script Python ci-dessous pour qu’il affiche la mention d’un candidat admis (on suppose sa moyenne supérieure ou égale à 10).\n",
    "\n",
    "~~~python\n",
    "m = float(input('Moyenne du candidat ? '))\n",
    "if 10 <= m < 12:\n",
    "    print(\"Passable\")\n",
    "#to be completed\n",
    "~~~\n"
   ]
  },
  {
   "cell_type": "markdown",
   "metadata": {},
   "source": [
    "<div class=\"alert alert-warning\">\n",
    "\n",
    "__Réponse ci-dessous :__"
   ]
  },
  {
   "cell_type": "code",
   "execution_count": 3,
   "metadata": {},
   "outputs": [
    {
     "name": "stdout",
     "output_type": "stream",
     "text": [
      "Moyenne du candidat ? 15\n",
      "Bien\n"
     ]
    }
   ],
   "source": [
    "m = float(input('Moyenne du candidat ? '))\n",
    "if 10 <= m < 12:\n",
    "    print(\"Passable\")\n",
    "elif 12 <= m < 14:\n",
    "    print(\"Assez Bien\")\n",
    "elif 14 <= m < 16:\n",
    "    print(\"Bien\")\n",
    "else:\n",
    "    print(\"Très Bien\")"
   ]
  },
  {
   "cell_type": "markdown",
   "metadata": {},
   "source": [
    "<div class = \"alert alert-info\">\n",
    "\n",
    "## Exercice 8\n",
    "\n",
    "*Auteur : Christophe Beasse*\n",
    "\n",
    "Que contient la variable `a` si on exécute ce script ?\n",
    "\n",
    "``` python\n",
    "def carre(val):\n",
    "  return val*val\n",
    "\n",
    "def inc(val):\n",
    "  return val + 1\n",
    "\n",
    "a = carre(inc(3.0))\n",
    "```\n",
    "\n",
    "1.  9.0\n",
    "2.  12.0\n",
    "3.  10.0\n",
    "4.  16.0\n",
    "\n",
    "\n"
   ]
  },
  {
   "cell_type": "markdown",
   "metadata": {},
   "source": [
    "<div class=\"alert alert-warning\">\n",
    "\n",
    "__Réponse :__   4.  16"
   ]
  },
  {
   "cell_type": "markdown",
   "metadata": {},
   "source": [
    "<div class=\"alert alert-info\">\n",
    "\n",
    "\n",
    "## Exercice 7\n",
    "\n",
    "*Auteur : Nicolas Revéret*\n",
    "\n",
    "On considère le code suivant :\n",
    "\n",
    "``` python\n",
    "def f(tab):\n",
    "  for i in range(len(tab)//2):\n",
    "    tab[i],tab[-i-1] = tab[-i-1],tab[i]\n",
    "```\n",
    "\n",
    "Après les lignes suivantes :\n",
    "\n",
    "``` python\n",
    "tab = [2,3,4,5,7,8]\n",
    "f(tab)\n",
    "```\n",
    "\n",
    "Quelle est la valeur de la variable `tab` ?\n",
    "\n",
    "Réponses :\n",
    "\n",
    "1.  `[2,3,4,5,7,8]`\n",
    "2.  `[5,7,8,2,3,4]`\n",
    "3.  `[8,7,5,4,3,2]`\n",
    "4.  `[4,3,2,8,7,5]`\n",
    "\n",
    "\n"
   ]
  },
  {
   "cell_type": "markdown",
   "metadata": {},
   "source": [
    "<div class=\"alert alert-warning\">\n",
    "\n",
    "\n",
    "__Réponse__ : cette fonction retourne la liste inversée `[8,7,5,4,3,2]` et donc la réponse est la 3. "
   ]
  },
  {
   "cell_type": "markdown",
   "metadata": {},
   "source": [
    "<div class=\"alert alert-info\">\n",
    "\n",
    "\n",
    "## Exercice 9\n",
    "\n",
    "*Auteur : Christophe Beasse*\n",
    "\n",
    "Soit la liste suivante : `liste_pays =[\"France\",\"Allemagne\",\"Italie\",\"Belgique\"]`\n",
    "\n",
    "Que renvoie : `liste_pays[2]` ?\n",
    "\n",
    "Réponses :\n",
    "\n",
    "1.  `\"France\"`\n",
    "2.  `\"Allemagne\"`\n",
    "3.  `\"Italie\"`\n",
    "4.  `\"Belgique\"`\n"
   ]
  },
  {
   "cell_type": "markdown",
   "metadata": {},
   "source": [
    "<div class=\"alert alert-warning\">\n",
    "\n",
    "__Réponse__ : 3. \"Italie\""
   ]
  },
  {
   "cell_type": "markdown",
   "metadata": {},
   "source": [
    "<div class=\"alert alert-info\">\n",
    "\n",
    "\n",
    "## Exercice 12\n",
    "\n",
    "_Auteur : Nicolas Revéret_\n",
    "\n",
    "On dispose d'un tableau d'entiers, ordonné en ordre croissant.\n",
    "\n",
    "On désire connaître le nombre de valeurs distinctes contenues dans ce tableau.\n",
    "\n",
    "Quelle est la fonction qui ne convient pas ?\n",
    "\n",
    "Réponses :\n",
    "\n",
    "1. Réponse 1\n",
    "~~~python\n",
    "def compte(t):\n",
    "    cpt = 1\n",
    "    for i in range(1,len(t)):\n",
    "        if t[i] != t[i-1]:\n",
    "            cpt = cpt + 1\n",
    "    return cpt\n",
    "~~~\n",
    "\n",
    "2. Réponse 2\n",
    "~~~python\n",
    "    def compte(t):\n",
    "      cpt = 0\n",
    "      for i in range(0,len(t)-1):\n",
    "        cpt = cpt + int(t[i] != t[i+1])\n",
    "      return cpt\n",
    "~~~\n",
    "\n",
    "3. Réponse 3\n",
    "~~~python\n",
    "    def compte(t):\n",
    "      cpt = 0\n",
    "      for i in range(0,len(t)-1):\n",
    "        if t[i] != t[i+1]:\n",
    "          cpt = cpt + 1\n",
    "      return cpt+1\n",
    "~~~"
   ]
  },
  {
   "cell_type": "markdown",
   "metadata": {},
   "source": [
    "<div class=\"alert alert-warning\">\n",
    "\n",
    "\n",
    "__Corrigé: la bonne réponse est  la 3, voir ci-dessous__ "
   ]
  },
  {
   "cell_type": "code",
   "execution_count": 10,
   "metadata": {},
   "outputs": [],
   "source": [
    "def compte(t):\n",
    "    cpt = 1\n",
    "    for i in range(1,len(t)):       \n",
    "        if t[i] != t[i-1]:\n",
    "            cpt = cpt + 1\n",
    "        print(t[i], t[i-1], cpt)\n",
    "    return cpt\n",
    "\n",
    "\n",
    "def compte2(t):\n",
    "    cpt = 0\n",
    "    for i in range(0,len(t)-1):\n",
    "     #cpt = cpt + int(t[i] != t[i+1])\n",
    "     if t[i] != t[i+1]:\n",
    "        cpt = cpt + 1\n",
    "    return cpt\n",
    "\n",
    "def compte3(t):\n",
    "      cpt = 0\n",
    "      for i in range(0,len(t)-1):\n",
    "        if t[i] != t[i+1]:\n",
    "          cpt = cpt + 1\n",
    "      return cpt + 1\n"
   ]
  },
  {
   "cell_type": "code",
   "execution_count": 5,
   "metadata": {
    "scrolled": true
   },
   "outputs": [
    {
     "name": "stdout",
     "output_type": "stream",
     "text": [
      "1 1 1\n",
      "2 1 2\n",
      "3 2 3\n",
      "3 3 3\n",
      "4 3 4\n"
     ]
    },
    {
     "data": {
      "text/plain": [
       "4"
      ]
     },
     "execution_count": 5,
     "metadata": {},
     "output_type": "execute_result"
    }
   ],
   "source": [
    "compte([1,1,2,3,3,4])"
   ]
  },
  {
   "cell_type": "code",
   "execution_count": 6,
   "metadata": {},
   "outputs": [
    {
     "data": {
      "text/plain": [
       "True"
      ]
     },
     "execution_count": 6,
     "metadata": {},
     "output_type": "execute_result"
    }
   ],
   "source": [
    "0 != 2"
   ]
  },
  {
   "cell_type": "code",
   "execution_count": 7,
   "metadata": {},
   "outputs": [
    {
     "data": {
      "text/plain": [
       "False"
      ]
     },
     "execution_count": 7,
     "metadata": {},
     "output_type": "execute_result"
    }
   ],
   "source": [
    "0 == 2"
   ]
  },
  {
   "cell_type": "code",
   "execution_count": 8,
   "metadata": {},
   "outputs": [
    {
     "data": {
      "text/plain": [
       "1"
      ]
     },
     "execution_count": 8,
     "metadata": {},
     "output_type": "execute_result"
    }
   ],
   "source": [
    "int(0 != 2)"
   ]
  },
  {
   "cell_type": "code",
   "execution_count": 9,
   "metadata": {},
   "outputs": [
    {
     "data": {
      "text/plain": [
       "0"
      ]
     },
     "execution_count": 9,
     "metadata": {},
     "output_type": "execute_result"
    }
   ],
   "source": [
    "int( 0 == 2)"
   ]
  },
  {
   "cell_type": "markdown",
   "metadata": {},
   "source": [
    "<div class=\"alert alert-info\">\n",
    "\n",
    "## Exercice 13\n",
    "\n",
    "*Auteur : Eric Rougier*\n",
    "\n",
    "Quel est le résultat de l’évaluation de l’expression Python suivante ?\n",
    "\n",
    "`[2 ** n for n in range(4)]`\n",
    "\n",
    "Réponses :\n",
    "\n",
    "1.  `[0, 2, 4, 6, 8]`\n",
    "2.  `[1, 2, 4, 8]`\n",
    "3.  `[0, 1, 4, 9]`\n",
    "4.  `[1, 2, 4, 8, 16]`"
   ]
  },
  {
   "cell_type": "markdown",
   "metadata": {},
   "source": [
    "<div class=\"alert alert-warning\">\n",
    "__Corrigé__ : La réponse est la 2."
   ]
  },
  {
   "cell_type": "code",
   "execution_count": 3,
   "metadata": {},
   "outputs": [
    {
     "data": {
      "text/plain": [
       "[1, 2, 4, 8]"
      ]
     },
     "execution_count": 3,
     "metadata": {},
     "output_type": "execute_result"
    }
   ],
   "source": [
    "[2 ** n for n in range(4)]"
   ]
  },
  {
   "cell_type": "markdown",
   "metadata": {},
   "source": [
    "<div class=\"alert alert-info\">\n",
    "\n",
    "## Exercice 14\n",
    "\n",
    "*Auteur : Germain Becker, question n°326 Genumsi* \n",
    "\n",
    "Quel est le tableau\n",
    "`t` construit par les instructions suivantes ?\n",
    "\n",
    "``` python\n",
    "tab = [1, 2, -3, 7, 4, 10, -1, 0]\n",
    "t = [e for e in tab if e >= 0]\n",
    "```\n",
    "\n",
    "Réponses :\n",
    "\n",
    "1.  `t = [1, 2, 7, 4, 10, 0]`\n",
    "2.  `t = [e, e, e, e, e, e]`\n",
    "3.  `t = [1, 2, 7, 4, 10]`\n",
    "4.  `t = [-3, -1, 0]`"
   ]
  },
  {
   "cell_type": "markdown",
   "metadata": {},
   "source": [
    "<div class=\"alert alert-warning\">\n",
    "__Corrigé__ : La réponse est la 3."
   ]
  },
  {
   "cell_type": "code",
   "execution_count": 5,
   "metadata": {},
   "outputs": [
    {
     "data": {
      "text/plain": [
       "[1, 2, 7, 4, 10, 0]"
      ]
     },
     "execution_count": 5,
     "metadata": {},
     "output_type": "execute_result"
    }
   ],
   "source": [
    "tab = [1, 2, -3, 7, 4, 10, -1, 0]\n",
    "t = [e for e in tab if e >= 0]\n",
    "t"
   ]
  },
  {
   "cell_type": "markdown",
   "metadata": {},
   "source": [
    "<div class=\"alert alert-info\">\n",
    "\n",
    "## Exercice 15\n",
    "\n",
    "\n",
    "\n",
    "*Auteur : Germain Becker, question n°339 Genumsi*\n",
    "\n",
    "On considère le tableau t suivant.\n",
    "\n",
    "`t = [[1, 2, 3], [2, 3, 4], [3, 4, 5], [4, 5, 6]]`\n",
    "\n",
    "Quelle est la valeur de t\\[1\\]\\[2\\] ?\n",
    "\n",
    "Réponses :\n",
    "\n",
    "1.  1\n",
    "2.  3\n",
    "3.  4\n",
    "4.  2"
   ]
  },
  {
   "cell_type": "markdown",
   "metadata": {},
   "source": [
    "<div class=\"alert alert-warning\">\n",
    "__Corrigé__ : La réponse est la 3."
   ]
  },
  {
   "cell_type": "code",
   "execution_count": 8,
   "metadata": {},
   "outputs": [
    {
     "data": {
      "text/plain": [
       "4"
      ]
     },
     "execution_count": 8,
     "metadata": {},
     "output_type": "execute_result"
    }
   ],
   "source": [
    "t = [[1, 2, 3], [2, 3, 4], [3, 4, 5], [4, 5, 6]]\n",
    "t[1][2] "
   ]
  },
  {
   "cell_type": "markdown",
   "metadata": {},
   "source": [
    " <div class=\"alert alert-info\">\n",
    "    \n",
    "## Exercice 28\n",
    "\n",
    "Le codage en base deux de l’entier 26 en base dix est :\n",
    "\n",
    "1.  11010\n",
    "2.  10010\n",
    "3.  11001\n",
    "4.  110010\n"
   ]
  },
  {
   "cell_type": "markdown",
   "metadata": {},
   "source": [
    "<div class=\"alert alert-warning\">\n",
    "__Corrigé__ : La réponse est la 1."
   ]
  },
  {
   "cell_type": "code",
   "execution_count": 10,
   "metadata": {},
   "outputs": [
    {
     "data": {
      "text/plain": [
       "'0b11010'"
      ]
     },
     "execution_count": 10,
     "metadata": {},
     "output_type": "execute_result"
    }
   ],
   "source": [
    "bin(26)"
   ]
  },
  {
   "cell_type": "markdown",
   "metadata": {},
   "source": [
    " <div class=\"alert alert-info\">\n",
    "## Exercice 29  \n",
    "\n",
    "Le résultat de la somme $\\overline{101101}^{2} + \\overline{101111}^{2}$ est :\n",
    "\n",
    "1. $\\overline{1100100}^{2}$\n",
    "2. $\\overline{1110101}^{2}$\n",
    "3. $\\overline{1011100}^{2}$\n",
    "4. $\\overline{1111100}^{2}$\n"
   ]
  },
  {
   "cell_type": "markdown",
   "metadata": {},
   "source": [
    "<div class=\"alert alert-warning\">\n",
    "__Corrigé__ : La réponse est la 3."
   ]
  },
  {
   "cell_type": "code",
   "execution_count": 12,
   "metadata": {},
   "outputs": [
    {
     "data": {
      "text/plain": [
       "92"
      ]
     },
     "execution_count": 12,
     "metadata": {},
     "output_type": "execute_result"
    }
   ],
   "source": [
    "0b101101 + 0b101111"
   ]
  },
  {
   "cell_type": "code",
   "execution_count": 13,
   "metadata": {},
   "outputs": [
    {
     "data": {
      "text/plain": [
       "'0b1011100'"
      ]
     },
     "execution_count": 13,
     "metadata": {},
     "output_type": "execute_result"
    }
   ],
   "source": [
    "bin(92)"
   ]
  },
  {
   "cell_type": "markdown",
   "metadata": {},
   "source": [
    " <div class=\"alert alert-info\">\n",
    "## Exercice 50\n",
    "\n",
    "\n",
    "\n",
    "Parmi les quatre expressions suivantes, laquelle s'évalue en True ?\n",
    "\n",
    "Réponses :\n",
    "\n",
    "1.  **Réponse 1 :** `False and (True and False)`\n",
    "\n",
    "2.  **Réponse 2 :** `False or (True and False)`\n",
    "\n",
    "3.  **Réponse 3 :** `True and (True and False)`\n",
    "\n",
    "4.  **Réponse 4 :** `True or (True and False)`\n"
   ]
  },
  {
   "cell_type": "markdown",
   "metadata": {},
   "source": [
    "<div class=\"alert alert-warning\">\n",
    "__Corrigé__ : La réponse est la 4."
   ]
  },
  {
   "cell_type": "code",
   "execution_count": 17,
   "metadata": {},
   "outputs": [
    {
     "name": "stdout",
     "output_type": "stream",
     "text": [
      "Valeur booléenne de  False and (True and False)  =  False\n",
      "Valeur booléenne de  False or (True and False)  =  False\n",
      "Valeur booléenne de  True and (True and False)  =  False\n",
      "Valeur booléenne de  True or (True and False)  =  True\n"
     ]
    }
   ],
   "source": [
    "for exp in ['False and (True and False)', 'False or (True and False)','True and (True and False)','True or (True and False)']:\n",
    "    print(\"Valeur booléenne de \", exp, \" = \", eval(exp))"
   ]
  },
  {
   "cell_type": "markdown",
   "metadata": {},
   "source": [
    " <div class=\"alert alert-info\">\n",
    "\n",
    "T est un tableau de nombres entiers non vide. Que représente la valeur\n",
    "de s renvoyée par cette fonction ?\n",
    "\n",
    "``` python\n",
    "def mystere(T):\n",
    "    s = 0\n",
    "    for k in T:\n",
    "        if k % 2 == 0:\n",
    "            s = s+k\n",
    "    return s\n",
    "```\n",
    "\n",
    "Réponses :\n",
    "\n",
    "1.  **Réponse 1 :** la somme des valeurs du tableau T\n",
    "\n",
    "2.  **Réponse 2 :** la somme des valeurs positives du tableau T\n",
    "\n",
    "3.  **Réponse 3 :** la somme des valeurs impaires du tableau T\n",
    "\n",
    "4.  **Réponse 4 :** la somme des valeurs paires du tableau T"
   ]
  },
  {
   "cell_type": "markdown",
   "metadata": {},
   "source": [
    "<div class=\"alert alert-warning\">\n",
    "__Corrigé__ : La réponse est la 4."
   ]
  },
  {
   "cell_type": "code",
   "execution_count": 21,
   "metadata": {},
   "outputs": [],
   "source": [
    "def mystere(T):\n",
    "    s = 0\n",
    "    for k in T:\n",
    "        if k % 2 == 0:\n",
    "            s = s+k\n",
    "    return s\n",
    "\n",
    "assert mystere([1, 2, 5, 4]) == 6, \"mystere([1, 2,5, 4]) doit être égal à 6\""
   ]
  }
 ],
 "metadata": {
  "kernelspec": {
   "display_name": "Python 3",
   "language": "python",
   "name": "python3"
  },
  "language_info": {
   "codemirror_mode": {
    "name": "ipython",
    "version": 3
   },
   "file_extension": ".py",
   "mimetype": "text/x-python",
   "name": "python",
   "nbconvert_exporter": "python",
   "pygments_lexer": "ipython3",
   "version": "3.6.9"
  }
 },
 "nbformat": 4,
 "nbformat_minor": 2
}
