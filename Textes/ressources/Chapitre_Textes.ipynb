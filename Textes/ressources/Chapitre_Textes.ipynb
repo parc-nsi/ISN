{
 "cells": [
  {
   "cell_type": "markdown",
   "metadata": {},
   "source": [
    "## Exercice 165 du Défi Turing"
   ]
  },
  {
   "cell_type": "code",
   "execution_count": 1,
   "metadata": {},
   "outputs": [
    {
     "name": "stdout",
     "output_type": "stream",
     "text": [
      "(50, 2160)\n"
     ]
    }
   ],
   "source": [
    "from functools import reduce\n",
    "\n",
    "f = open('dico.txt')\n",
    "histo = [0] * 1000\n",
    "for mot in f:\n",
    "    valeur = reduce(lambda a, b : a * b, map(lambda c : ord(c) - 96, mot.rstrip()))\n",
    "    if 2000 <= valeur < 3000:\n",
    "        histo[valeur - 2000] += 1\n",
    "print(max((occ, 2000 + i) for (i, occ) in enumerate(histo)))\n",
    "f.close()\n",
    "\n",
    "# In [13]: reduce(lambda a, b : a * b, map(lambda c : ord(c) - 96, \"chaud\".rstrip()))\n",
    "# Out[13]: 2016\n",
    "\n",
    "# ##Réponse\n",
    "# In [20]: (executing cell \"\" (line 1 of \"DefiTuring165.py\"))\n",
    "# (50, 2160)\n",
    "#\n",
    "# In [22]: 50 * 2160\n",
    "# Out[22]: 108000"
   ]
  },
  {
   "cell_type": "markdown",
   "metadata": {},
   "source": [
    "## Exercices du manuel NSI Ellipses"
   ]
  },
  {
   "cell_type": "markdown",
   "metadata": {},
   "source": [
    "## Exercice 5"
   ]
  },
  {
   "cell_type": "code",
   "execution_count": 45,
   "metadata": {},
   "outputs": [],
   "source": [
    "def unicode(s):\n",
    "    \"\"\"Affiche les caractères d'une chaine, leur point de code et leurs octets codants en hexadécimal\n",
    "    et en binaire\"\"\"\n",
    "    for caractere in s:\n",
    "        octets = caractere.encode(\"utf-8\")\n",
    "        octets_hexa = list(map(hex, octets))\n",
    "        octets_bin = list(map(bin, octets))\n",
    "        print(\"Caractère : {} | Point de code  : {} | Octets (hexa) : {} | Octets (binaire) : {}\".format(caractere,ord(caractere),octets_hexa, octets_bin))\n",
    "\n",
    "def unicode2(s):\n",
    "    print(\"Caractères : \")\n",
    "    for c in s:\n",
    "        print(c, end=\",\")\n",
    "    print(\"\\n\\nPoints de code : \")\n",
    "    for c in s:\n",
    "        print(ord(c),end=\",\")\n",
    "    octets = s.encode(\"utf-8\")\n",
    "    print(\"\\n\\nOctets codants en hexadécimal : \")\n",
    "    for c in octets:\n",
    "        print(hex(c), end=',')\n",
    "    print(\"\\n\\nOctets codants en binaire : \")\n",
    "    for c in octets:\n",
    "        print(bin(c), end=',')\n",
    "        \n",
    "def unicode3(s):\n",
    "    \"\"\"Affiche les caractères d'une chaine, leur point de code et leurs octets codants en hexadécimal\n",
    "    et en binaire\"\"\"\n",
    "    for caractere in s:\n",
    "        octets = caractere.encode(\"utf-8\")\n",
    "        octets_hexa = [format(b,'x') for b in octets]\n",
    "        octets_bin = [format(b,'08b') for b in octets]\n",
    "        print(\"Caractère : {} | Point de code  : {} | Octets (hexa) : {} | Octets (binaire) : {}\".format(caractere,ord(caractere),octets_hexa, octets_bin))\n",
    "\n",
    "    \n",
    "        "
   ]
  },
  {
   "cell_type": "code",
   "execution_count": 25,
   "metadata": {},
   "outputs": [
    {
     "name": "stdout",
     "output_type": "stream",
     "text": [
      "Caractère : l | Point de code  : 108 | Octets (hexa) : ['0x6c'] | Octets (binaire) : ['0b1101100']\n",
      "Caractère : y | Point de code  : 121 | Octets (hexa) : ['0x79'] | Octets (binaire) : ['0b1111001']\n",
      "Caractère : c | Point de code  : 99 | Octets (hexa) : ['0x63'] | Octets (binaire) : ['0b1100011']\n",
      "Caractère : é | Point de code  : 233 | Octets (hexa) : ['0xc3', '0xa9'] | Octets (binaire) : ['0b11000011', '0b10101001']\n",
      "Caractère : e | Point de code  : 101 | Octets (hexa) : ['0x65'] | Octets (binaire) : ['0b1100101']\n"
     ]
    }
   ],
   "source": [
    "unicode(\"lycée\")"
   ]
  },
  {
   "cell_type": "code",
   "execution_count": 39,
   "metadata": {},
   "outputs": [
    {
     "name": "stdout",
     "output_type": "stream",
     "text": [
      "Caractères : \n",
      "l,y,c,é,e,\n",
      "\n",
      "Points de code : \n",
      "108,121,99,233,101,\n",
      "\n",
      "Octets codants en hexadécimal : \n",
      "0x6c,0x79,0x63,0xc3,0xa9,0x65,\n",
      "\n",
      "Octets codants en binaire : \n",
      "0b1101100,0b1111001,0b1100011,0b11000011,0b10101001,0b1100101,"
     ]
    }
   ],
   "source": [
    "unicode2(\"lycée\")"
   ]
  },
  {
   "cell_type": "code",
   "execution_count": 46,
   "metadata": {},
   "outputs": [
    {
     "name": "stdout",
     "output_type": "stream",
     "text": [
      "Caractère : l | Point de code  : 108 | Octets (hexa) : ['6c'] | Octets (binaire) : ['01101100']\n",
      "Caractère : y | Point de code  : 121 | Octets (hexa) : ['79'] | Octets (binaire) : ['01111001']\n",
      "Caractère : c | Point de code  : 99 | Octets (hexa) : ['63'] | Octets (binaire) : ['01100011']\n",
      "Caractère : é | Point de code  : 233 | Octets (hexa) : ['c3', 'a9'] | Octets (binaire) : ['11000011', '10101001']\n",
      "Caractère : e | Point de code  : 101 | Octets (hexa) : ['65'] | Octets (binaire) : ['01100101']\n"
     ]
    }
   ],
   "source": [
    "unicode3(\"lycée\")"
   ]
  },
  {
   "cell_type": "markdown",
   "metadata": {},
   "source": [
    "### Exercice 228 page 273"
   ]
  },
  {
   "cell_type": "markdown",
   "metadata": {},
   "source": [
    "Encodage UTF-8 d'un caractère en hexadécimal, décimal et binaire"
   ]
  },
  {
   "cell_type": "code",
   "execution_count": 4,
   "metadata": {},
   "outputs": [],
   "source": [
    "etoile = chr(8902)"
   ]
  },
  {
   "cell_type": "code",
   "execution_count": 6,
   "metadata": {},
   "outputs": [],
   "source": [
    "etoile_octet = etoile.encode('utf8')"
   ]
  },
  {
   "cell_type": "code",
   "execution_count": 7,
   "metadata": {},
   "outputs": [
    {
     "data": {
      "text/plain": [
       "b'\\xe2\\x8b\\x86'"
      ]
     },
     "execution_count": 7,
     "metadata": {},
     "output_type": "execute_result"
    }
   ],
   "source": [
    "etoile_octet"
   ]
  },
  {
   "cell_type": "code",
   "execution_count": 19,
   "metadata": {},
   "outputs": [
    {
     "name": "stdout",
     "output_type": "stream",
     "text": [
      "['0b11100010', '0b10001011', '0b10000110']\n"
     ]
    }
   ],
   "source": [
    "etoile_liste_octet = [bin(octet) for octet in etoile_octet]\n",
    "print(etoile_liste_octet)"
   ]
  },
  {
   "cell_type": "code",
   "execution_count": 21,
   "metadata": {},
   "outputs": [
    {
     "name": "stdout",
     "output_type": "stream",
     "text": [
      "[226, 139, 134]\n"
     ]
    }
   ],
   "source": [
    "etoile_liste_decimal = [octet for octet in etoile_octet]\n",
    "print(etoile_liste_decimal)"
   ]
  },
  {
   "cell_type": "markdown",
   "metadata": {},
   "source": [
    "### Exercice 230 page 273"
   ]
  },
  {
   "cell_type": "code",
   "execution_count": 71,
   "metadata": {},
   "outputs": [],
   "source": [
    "def longueur(b):\n",
    "    \"\"\"Retourne le nombre de caractères encodé par une \n",
    "    chaine d'octets en utf8\"\"\"\n",
    "    k = 0\n",
    "    long = 0\n",
    "    while k < len(b):\n",
    "        #attention les représentations binaires des octets ne sont pas remplies par des 0 à gauche\n",
    "        binaire = bin(b[k]).lstrip('0b').zfill(8)\n",
    "        #decimal = b[k]\n",
    "        long += 1\n",
    "        if binaire[0] == '0':\n",
    "            k += 1\n",
    "        elif binaire[:3] == '110':\n",
    "            k += 2\n",
    "        elif binaire[:4] == '1110':\n",
    "            k += 3\n",
    "        else:\n",
    "            k += 4\n",
    "    return long     "
   ]
  },
  {
   "cell_type": "code",
   "execution_count": 48,
   "metadata": {},
   "outputs": [
    {
     "name": "stdout",
     "output_type": "stream",
     "text": [
      "3\n",
      "11100010\n",
      "trois\n"
     ]
    },
    {
     "data": {
      "text/plain": [
       "1"
      ]
     },
     "execution_count": 48,
     "metadata": {},
     "output_type": "execute_result"
    }
   ],
   "source": [
    "longueur(etoile.encode('utf8'))"
   ]
  },
  {
   "cell_type": "code",
   "execution_count": 73,
   "metadata": {},
   "outputs": [],
   "source": [
    "chaine = 'élémentaire mon cher Watson'.encode('utf8')"
   ]
  },
  {
   "cell_type": "code",
   "execution_count": 75,
   "metadata": {},
   "outputs": [
    {
     "data": {
      "text/plain": [
       "27"
      ]
     },
     "execution_count": 75,
     "metadata": {},
     "output_type": "execute_result"
    }
   ],
   "source": [
    "longueur('élémentaire mon cher Watson'.encode('utf8'))"
   ]
  },
  {
   "cell_type": "code",
   "execution_count": 76,
   "metadata": {},
   "outputs": [
    {
     "data": {
      "text/plain": [
       "27"
      ]
     },
     "execution_count": 76,
     "metadata": {},
     "output_type": "execute_result"
    }
   ],
   "source": [
    "len('élémentaire mon cher Watson')"
   ]
  },
  {
   "cell_type": "code",
   "execution_count": 51,
   "metadata": {},
   "outputs": [],
   "source": [
    "chaine = 'élémentaire mon cher Watson'.encode('utf8')"
   ]
  },
  {
   "cell_type": "code",
   "execution_count": 52,
   "metadata": {},
   "outputs": [
    {
     "data": {
      "text/plain": [
       "bytes"
      ]
     },
     "execution_count": 52,
     "metadata": {},
     "output_type": "execute_result"
    }
   ],
   "source": [
    "type(chaine)"
   ]
  },
  {
   "cell_type": "code",
   "execution_count": 54,
   "metadata": {
    "scrolled": true
   },
   "outputs": [
    {
     "data": {
      "text/plain": [
       "29"
      ]
     },
     "execution_count": 54,
     "metadata": {},
     "output_type": "execute_result"
    }
   ],
   "source": [
    "len(chaine)"
   ]
  },
  {
   "cell_type": "code",
   "execution_count": 56,
   "metadata": {},
   "outputs": [
    {
     "data": {
      "text/plain": [
       "b'\\xc3\\xa9l\\xc3\\xa9mentaire mon cher Watson'"
      ]
     },
     "execution_count": 56,
     "metadata": {},
     "output_type": "execute_result"
    }
   ],
   "source": [
    "chaine"
   ]
  },
  {
   "cell_type": "code",
   "execution_count": 66,
   "metadata": {},
   "outputs": [
    {
     "data": {
      "text/plain": [
       "'00001110'"
      ]
     },
     "execution_count": 66,
     "metadata": {},
     "output_type": "execute_result"
    }
   ],
   "source": [
    "'1110'.zfill(8)"
   ]
  }
 ],
 "metadata": {
  "kernelspec": {
   "display_name": "Python 3",
   "language": "python",
   "name": "python3"
  },
  "language_info": {
   "codemirror_mode": {
    "name": "ipython",
    "version": 3
   },
   "file_extension": ".py",
   "mimetype": "text/x-python",
   "name": "python",
   "nbconvert_exporter": "python",
   "pygments_lexer": "ipython3",
   "version": "3.6.9"
  }
 },
 "nbformat": 4,
 "nbformat_minor": 2
}
