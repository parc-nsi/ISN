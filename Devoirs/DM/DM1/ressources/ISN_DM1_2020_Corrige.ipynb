{
 "cells": [
  {
   "cell_type": "markdown",
   "metadata": {},
   "source": [
    "# ISN Lycée du Parc 2019/2020 Corrigé du DM n°1"
   ]
  },
  {
   "cell_type": "markdown",
   "metadata": {},
   "source": [
    "## Exercice 1"
   ]
  },
  {
   "cell_type": "markdown",
   "metadata": {},
   "source": [
    "__Question 1__ Écrire un programme `Python` qui affiche les entiers pairs compris entre $0$ et $100$ inclus dans l'ordre croissant."
   ]
  },
  {
   "cell_type": "code",
   "execution_count": null,
   "metadata": {},
   "outputs": [],
   "source": [
    "for n in range(0, 101, 2):\n",
    "    print(n)"
   ]
  },
  {
   "cell_type": "markdown",
   "metadata": {},
   "source": [
    "__Question 2__ Écrire un programme `Python` qui affiche les entiers pairs compris entre $0$ et $100$ inclus dans l'ordre décroissant."
   ]
  },
  {
   "cell_type": "code",
   "execution_count": null,
   "metadata": {},
   "outputs": [],
   "source": [
    "for n in range(100, -1, -2):\n",
    "    print(n)"
   ]
  },
  {
   "cell_type": "markdown",
   "metadata": {},
   "source": [
    "__Question 3__ Écrire un programme `Python` qui calcule dans une variable `s` la somme des puissances 4 des  entiers  compris entre $1$ et $100$ inclus."
   ]
  },
  {
   "cell_type": "code",
   "execution_count": 5,
   "metadata": {},
   "outputs": [],
   "source": [
    "s = 0\n",
    "for n in range(1, 101):\n",
    "    s = s + n ** 4"
   ]
  },
  {
   "cell_type": "code",
   "execution_count": 6,
   "metadata": {},
   "outputs": [
    {
     "data": {
      "text/plain": [
       "2050333330"
      ]
     },
     "execution_count": 6,
     "metadata": {},
     "output_type": "execute_result"
    }
   ],
   "source": [
    "s"
   ]
  },
  {
   "cell_type": "markdown",
   "metadata": {},
   "source": [
    "__Question 4__ Si on liste tous les entiers naturels inférieurs à 20 qui sont multiples de 5 ou de 7, on obtient 5, 7, 10, 14\n",
    "et 15. La somme de ces nombres est 51. Écrire un programme Python qui détermine la somme de tous\n",
    "les multiples de 5 ou de 7 inférieurs à 42455."
   ]
  },
  {
   "cell_type": "code",
   "execution_count": 13,
   "metadata": {},
   "outputs": [
    {
     "name": "stdout",
     "output_type": "stream",
     "text": [
      "283259760\n"
     ]
    }
   ],
   "source": [
    "s = 0\n",
    "for n in range(1, 42456):\n",
    "    if n % 5 == 0 or n % 7 == 0:\n",
    "        s = s + n\n",
    "print(s)"
   ]
  },
  {
   "cell_type": "markdown",
   "metadata": {},
   "source": [
    "## Exercice 2"
   ]
  },
  {
   "cell_type": "markdown",
   "metadata": {},
   "source": [
    "__Question 1__ Parmi les fonctions ci-dessous déterminer celles qui retournent le terme de rang  \\texttt{n} de la suite définie par $$\\begin{cases} u_{0}=734 \\\\ \\forall n \\in \\mathbb{N}, \\quad u_{n+1}=\\frac{2}{3}u_{n}+100\\end{cases}$$"
   ]
  },
  {
   "cell_type": "code",
   "execution_count": 15,
   "metadata": {},
   "outputs": [],
   "source": [
    "#NON\n",
    "def suiteU1(n):\n",
    "    u = 734\n",
    "    for k in range(n):\n",
    "        u = 2 / 3 * u + 100\n",
    "        return u"
   ]
  },
  {
   "cell_type": "code",
   "execution_count": 16,
   "metadata": {},
   "outputs": [],
   "source": [
    "#Oui\n",
    "def suiteU2(n):\n",
    "    u = 734\n",
    "    for k in range(n):\n",
    "        u = 2 / 3 * u + 100\n",
    "    return u"
   ]
  },
  {
   "cell_type": "code",
   "execution_count": 17,
   "metadata": {},
   "outputs": [],
   "source": [
    "#OUI\n",
    "def suiteU3(n):\n",
    "    u = 734\n",
    "    for k in range(1, n + 1):\n",
    "        u = 2 / 3 * u\n",
    "        u = u + 100\n",
    "    return u"
   ]
  },
  {
   "cell_type": "code",
   "execution_count": 18,
   "metadata": {},
   "outputs": [],
   "source": [
    "#NON\n",
    "def suiteU4(n):\n",
    "    u = 734\n",
    "    for k in range(1, n + 1):\n",
    "        u = u + 100\n",
    "        u = 2 / 3 * u        \n",
    "    return u"
   ]
  },
  {
   "cell_type": "markdown",
   "metadata": {},
   "source": [
    "__Question 2__ Écrire une  fonction `suiteV(n)` pour qu'elle retourne le terme de rang  `n` de la suite définie par $$\\begin{cases} v_{0}=10\\\\ \\forall n \\in \\mathbb{N}, \\quad v_{n+1}=\\frac{2}{3}v_{n}+ n + 1\\end{cases}$$"
   ]
  },
  {
   "cell_type": "code",
   "execution_count": 25,
   "metadata": {},
   "outputs": [],
   "source": [
    "#Version 1\n",
    "def suiteV(n):\n",
    "    v = 10\n",
    "    for k in range(n):\n",
    "        v = 2 / 3 * v + k + 1\n",
    "    return v\n",
    "\n",
    "#Version 2\n",
    "def suiteV1(n):\n",
    "    v = 10\n",
    "    for k in range(1, n+1):\n",
    "        v = 2 / 3 * v + k \n",
    "    return v"
   ]
  },
  {
   "cell_type": "markdown",
   "metadata": {},
   "source": [
    "## Exercice 3"
   ]
  },
  {
   "cell_type": "markdown",
   "metadata": {},
   "source": [
    "__Question 1__  Fonction `mystere`"
   ]
  },
  {
   "cell_type": "code",
   "execution_count": 27,
   "metadata": {},
   "outputs": [],
   "source": [
    "def mystere(n):\n",
    "    s = 0\n",
    "    print(\"n=\",n,\"s=\",s)\n",
    "    while n > 0:\n",
    "        s = s + n % 10\n",
    "        n = n // 10\n",
    "        print(\"n=\",n,\"s=\",s)\n",
    "    return s"
   ]
  },
  {
   "cell_type": "code",
   "execution_count": 28,
   "metadata": {},
   "outputs": [
    {
     "name": "stdout",
     "output_type": "stream",
     "text": [
      "n= 734 s= 0\n",
      "n= 73 s= 4\n",
      "n= 7 s= 7\n",
      "n= 0 s= 14\n"
     ]
    },
    {
     "data": {
      "text/plain": [
       "14"
      ]
     },
     "execution_count": 28,
     "metadata": {},
     "output_type": "execute_result"
    }
   ],
   "source": [
    "mystere(734)"
   ]
  },
  {
   "cell_type": "markdown",
   "metadata": {},
   "source": [
    "La fonction `mystere(n)` retourne la somme des chiffres de l'entier naturel `n`"
   ]
  },
  {
   "cell_type": "markdown",
   "metadata": {},
   "source": [
    "__Question 2__  Fonction `miroir`"
   ]
  },
  {
   "cell_type": "code",
   "execution_count": 31,
   "metadata": {},
   "outputs": [],
   "source": [
    "def miroir(n):\n",
    "    m = 0\n",
    "    while n > 0:\n",
    "        m = m * 10 + n % 10\n",
    "        n = n // 10\n",
    "    return m"
   ]
  },
  {
   "cell_type": "code",
   "execution_count": 32,
   "metadata": {},
   "outputs": [
    {
     "data": {
      "text/plain": [
       "437"
      ]
     },
     "execution_count": 32,
     "metadata": {},
     "output_type": "execute_result"
    }
   ],
   "source": [
    "miroir(734)"
   ]
  },
  {
   "cell_type": "markdown",
   "metadata": {},
   "source": [
    "Écrire un programme qui déterminer le grand grand entier naturel n inférieur à 10 millions ayant\n",
    "la propriété : miroir(n) = 4 x n"
   ]
  },
  {
   "cell_type": "code",
   "execution_count": 35,
   "metadata": {},
   "outputs": [
    {
     "name": "stdout",
     "output_type": "stream",
     "text": [
      "2199978\n"
     ]
    }
   ],
   "source": [
    "miroirmax = 0\n",
    "for n in range(1, 10**7):\n",
    "    if miroir(n) == 4 * n:\n",
    "        miroirmax = n\n",
    "print(miroirmax)"
   ]
  },
  {
   "cell_type": "code",
   "execution_count": 36,
   "metadata": {},
   "outputs": [
    {
     "data": {
      "text/plain": [
       "True"
      ]
     },
     "execution_count": 36,
     "metadata": {},
     "output_type": "execute_result"
    }
   ],
   "source": [
    "miroir(2199978) == 4 * 2199978"
   ]
  },
  {
   "cell_type": "markdown",
   "metadata": {},
   "source": [
    "__Question 3__  Suite de Fibonacci"
   ]
  },
  {
   "cell_type": "code",
   "execution_count": 37,
   "metadata": {},
   "outputs": [],
   "source": [
    "def fibo(n):\n",
    "    u = 1\n",
    "    v = 1\n",
    "    for k in range(2, n + 1):\n",
    "        w = u\n",
    "        u = v\n",
    "        v = w + v\n",
    "    return u"
   ]
  },
  {
   "cell_type": "code",
   "execution_count": 41,
   "metadata": {},
   "outputs": [
    {
     "data": {
      "text/plain": [
       "[1, 1, 2, 3, 5, 8, 13, 21, 34, 55]"
      ]
     },
     "execution_count": 41,
     "metadata": {},
     "output_type": "execute_result"
    }
   ],
   "source": [
    "#10 premiers termes de la suite de Fibonacci\n",
    "[fibo(n) for n in range(1, 11)]"
   ]
  },
  {
   "cell_type": "code",
   "execution_count": 52,
   "metadata": {},
   "outputs": [],
   "source": [
    "def sommeImpairFibo(m):\n",
    "    \"\"\"Somme des termes impairs de la suite de Fibonacci dont \n",
    "    la valeur ne dépasse pas m\"\"\"\n",
    "    u = 1\n",
    "    v = 1\n",
    "    s = 1\n",
    "    while v < m:\n",
    "        w = u\n",
    "        u = v\n",
    "        v = w + v\n",
    "        if u % 2 == 1:\n",
    "            s = s + u\n",
    "    return s"
   ]
  },
  {
   "cell_type": "code",
   "execution_count": 53,
   "metadata": {},
   "outputs": [
    {
     "data": {
      "text/plain": [
       "4613732"
      ]
     },
     "execution_count": 53,
     "metadata": {},
     "output_type": "execute_result"
    }
   ],
   "source": [
    "sommeImpairFibo(4000000)"
   ]
  }
 ],
 "metadata": {
  "kernelspec": {
   "display_name": "Python 3",
   "language": "python",
   "name": "python3"
  },
  "language_info": {
   "codemirror_mode": {
    "name": "ipython",
    "version": 3
   },
   "file_extension": ".py",
   "mimetype": "text/x-python",
   "name": "python",
   "nbconvert_exporter": "python",
   "pygments_lexer": "ipython3",
   "version": "3.7.3"
  }
 },
 "nbformat": 4,
 "nbformat_minor": 2
}
