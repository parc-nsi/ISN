{
 "cells": [
  {
   "cell_type": "markdown",
   "metadata": {},
   "source": [
    "### Représentation des nombres"
   ]
  },
  {
   "cell_type": "markdown",
   "metadata": {},
   "source": [
    "## Encodage des entiers naturels"
   ]
  },
  {
   "cell_type": "markdown",
   "metadata": {},
   "source": [
    "### Exemple 1"
   ]
  },
  {
   "cell_type": "code",
   "execution_count": 3,
   "metadata": {},
   "outputs": [],
   "source": [
    "def chiffres2nombre(t):\n",
    "    \"\"\"Retourne l'écriture en base 10 d'un entier à partir de \n",
    "    la liste de ses chiffres\"\"\"\n",
    "    n = 0\n",
    "    expomax = len(t) - 1\n",
    "    for k in range(expomax + 1):\n",
    "        n = n + 10 ** (expomax - k) * t[k]\n",
    "    return n"
   ]
  },
  {
   "cell_type": "code",
   "execution_count": 4,
   "metadata": {},
   "outputs": [
    {
     "data": {
      "text/plain": [
       "734"
      ]
     },
     "execution_count": 4,
     "metadata": {},
     "output_type": "execute_result"
    }
   ],
   "source": [
    "chiffres2nombre([7,3,4])"
   ]
  },
  {
   "cell_type": "markdown",
   "metadata": {},
   "source": [
    "## Exercice 3"
   ]
  },
  {
   "cell_type": "code",
   "execution_count": 6,
   "metadata": {},
   "outputs": [],
   "source": [
    "def bits2nombre(t):\n",
    "    \"\"\"Retourne l'entier en base dix représenté\n",
    "    par une liste de bits t avec bits de poids fort\n",
    "    à gauche\"\"\"\n",
    "    n = 0\n",
    "    for bit in t:\n",
    "        n = n * 2 + bit\n",
    "    return n"
   ]
  },
  {
   "cell_type": "markdown",
   "metadata": {},
   "source": [
    "## Exercice 4"
   ]
  },
  {
   "cell_type": "code",
   "execution_count": 8,
   "metadata": {},
   "outputs": [],
   "source": [
    "def additionBinaire8bits(t1, t2):\n",
    "    t3 = [0]  * 8\n",
    "    retenue = 0\n",
    "    for k in range(7, -1 , -1):\n",
    "        s = t1[k] + t2[k] + retenue\n",
    "        t3[k] =  s % 2\n",
    "        retenue = s // 2\n",
    "    return t3"
   ]
  },
  {
   "cell_type": "code",
   "execution_count": 10,
   "metadata": {},
   "outputs": [
    {
     "data": {
      "text/plain": [
       "[1, 0, 1, 1, 1, 1, 0, 1]"
      ]
     },
     "execution_count": 10,
     "metadata": {},
     "output_type": "execute_result"
    }
   ],
   "source": [
    "additionBinaire8bits([1,0,1,0,1,1,1,0],[0,0,0,0,1,1,1,1])"
   ]
  },
  {
   "cell_type": "code",
   "execution_count": 2,
   "metadata": {},
   "outputs": [
    {
     "data": {
      "text/plain": [
       "('0b100101', '0b10010')"
      ]
     },
     "execution_count": 2,
     "metadata": {},
     "output_type": "execute_result"
    }
   ],
   "source": [
    "bin(37), bin(18)"
   ]
  },
  {
   "cell_type": "code",
   "execution_count": 3,
   "metadata": {},
   "outputs": [],
   "source": [
    "import numpy as np"
   ]
  },
  {
   "cell_type": "code",
   "execution_count": 5,
   "metadata": {},
   "outputs": [
    {
     "name": "stderr",
     "output_type": "stream",
     "text": [
      "/home/fjunier/.local/lib/python3.6/site-packages/ipykernel_launcher.py:1: RuntimeWarning: overflow encountered in byte_scalars\n",
      "  \"\"\"Entry point for launching an IPython kernel.\n"
     ]
    },
    {
     "data": {
      "text/plain": [
       "-128"
      ]
     },
     "execution_count": 5,
     "metadata": {},
     "output_type": "execute_result"
    }
   ],
   "source": [
    "np.int8(127) + np.int8(1)"
   ]
  },
  {
   "cell_type": "markdown",
   "metadata": {},
   "source": [
    "## Représentation des réels"
   ]
  },
  {
   "cell_type": "code",
   "execution_count": 3,
   "metadata": {},
   "outputs": [],
   "source": [
    "def decomposition_fraction_egyptienneV1(x):\n",
    "    \"\"\"Retourne une liste de dénominateurs entiers p1,, p2, ..., pn\n",
    "    tels que x = 1/p1 + 1/ p2 + .... + 1 / pn\"\"\"\n",
    "    decomp = []\n",
    "    while x != 0:\n",
    "        n = 1\n",
    "        while 1/n > x:            \n",
    "            n += 1\n",
    "        decomp.append(n)\n",
    "        x = x - 1 / n\n",
    "        print(x, decomp)  #pour le débogage\n",
    "    return decomp"
   ]
  },
  {
   "cell_type": "code",
   "execution_count": 4,
   "metadata": {},
   "outputs": [],
   "source": [
    "import math \n",
    "\n",
    "def decomposition_fraction_egyptienneV2(x):\n",
    "    \"\"\"Retourne une liste de dénominateurs entiers p1,, p2, ..., pn\n",
    "    tels que x = 1/p1 + 1/ p2 + .... + 1 / pn\"\"\"\n",
    "    decomp = []\n",
    "    while x != 0:        \n",
    "        n = math.ceil(1/x)\n",
    "        decomp.append(n)\n",
    "        x = x - 1 / n\n",
    "        print(x, decomp)  #pour le débogage\n",
    "    return decomp"
   ]
  },
  {
   "cell_type": "code",
   "execution_count": 9,
   "metadata": {},
   "outputs": [
    {
     "name": "stdout",
     "output_type": "stream",
     "text": [
      "0.25 [2]\n",
      "0.0 [2, 4]\n"
     ]
    },
    {
     "data": {
      "text/plain": [
       "[2, 4]"
      ]
     },
     "execution_count": 9,
     "metadata": {},
     "output_type": "execute_result"
    }
   ],
   "source": [
    "decomposition_fraction_egyptienneV1(3/4)"
   ]
  }
 ],
 "metadata": {
  "kernelspec": {
   "display_name": "Python 3",
   "language": "python",
   "name": "python3"
  },
  "language_info": {
   "codemirror_mode": {
    "name": "ipython",
    "version": 3
   },
   "file_extension": ".py",
   "mimetype": "text/x-python",
   "name": "python",
   "nbconvert_exporter": "python",
   "pygments_lexer": "ipython3",
   "version": "3.6.8"
  }
 },
 "nbformat": 4,
 "nbformat_minor": 2
}
