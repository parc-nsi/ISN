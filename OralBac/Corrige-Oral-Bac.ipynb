{
 "cells": [
  {
   "cell_type": "markdown",
   "metadata": {},
   "source": [
    "<div class = \"alert alert-danger\">\n",
    "\n",
    "# Corrigés des exercices de préparation à l'oral du Bac\n",
    "\n",
    "Les énoncés des exercices se trouvent sur :\n",
    "\n",
    "-[version pdf](OralBac/Preparation-oral-bac-.pdf)\n",
    "\n",
    "-[version Github markdown](OralBac/Preparation-oral-bac-git.md)\n",
    "\n",
    "-[version diaporama HTML](OralBac/Preparation-oral-bac-slidy.html)\n",
    "\n",
    "-[version simple HTML](OralBac/Preparation-oral-bac-.html)\n",
    "\n",
    "-[corrigé mis à jour régulièrement](https://mybinder.org/v2/gh/frederic-junier/ISN/master?filepath=OralBac/Corrige-Oral-Bac.ipynb)\n"
   ]
  },
  {
   "cell_type": "markdown",
   "metadata": {},
   "source": [
    "<div class = \"alert alert-info\">\n",
    "\n",
    "## Exercice 1\n",
    "\n",
    "*Auteur : Aude Durand Senter, question n°178 Genumsi*\n",
    "\n",
    "On a saisi le code suivant :\n",
    "\n",
    "``` python\n",
    "def mystere(nombre) :\n",
    "    while nombre > 5 :\n",
    "        nombre = nombre - 5\n",
    "return nombre\n",
    "```\n",
    "\n",
    "Quelle affirmation est vraie dans celles proposées ci-dessous ?\n",
    "\n",
    "Réponses :\n",
    "\n",
    "1.  On sort de la boucle while dès que `nombre > 5`\n",
    "2.  On sort de la boucle while dès que `nombre < 5`\n",
    "3.  On sort de la boucle while dès que `nombre <= 5`\n",
    "4.  On continue la boucle tant que `nombre <= 5`"
   ]
  },
  {
   "cell_type": "markdown",
   "metadata": {},
   "source": [
    "<div class=\"alert alert-warning\">\n",
    "\n",
    "__Réponse  :__ 3.  On sort de la boucle while dès que `nombre <= 5`"
   ]
  },
  {
   "cell_type": "markdown",
   "metadata": {},
   "source": [
    "<div class = \"alert alert-info\">\n",
    "\n",
    "## Exercice 2\n",
    "\n",
    "*Auteur : Nicolas Revéret*\n",
    "\n",
    "On considère le programme ci-dessous :\n",
    "\n",
    "``` python\n",
    "a = 8\n",
    "b = 5\n",
    "a = a + b\n",
    "b = a - b\n",
    "a = a - b\n",
    "```\n",
    "\n",
    "Quelles sont les valeurs des variables `a` et `b` à la fin du programme\n",
    "?"
   ]
  },
  {
   "cell_type": "markdown",
   "metadata": {},
   "source": [
    "<div class=\"alert alert-warning\">\n",
    "\n",
    "__Réponse :__ 3.  En sortie de boucle, les valeurs de `a` et `b` sont échangées"
   ]
  },
  {
   "cell_type": "code",
   "execution_count": 1,
   "metadata": {},
   "outputs": [
    {
     "name": "stdout",
     "output_type": "stream",
     "text": [
      "a = 8 et b = 8\n",
      "a = 13 et b = 13\n",
      "a = 13 et b = 13\n",
      "a = 5 et b = 5\n"
     ]
    }
   ],
   "source": [
    "a = 8\n",
    "b = 5\n",
    "print(f'a = {a} et b = {a}')\n",
    "a = a + b\n",
    "print(f'a = {a} et b = {a}')\n",
    "b = a - b\n",
    "print(f'a = {a} et b = {a}')\n",
    "a = a - b\n",
    "print(f'a = {a} et b = {a}')"
   ]
  },
  {
   "cell_type": "markdown",
   "metadata": {},
   "source": [
    "<div class = \"alert alert-info\">\n",
    "\n",
    "## Exercice 3\n",
    "\n",
    "Auteur : Nicolas Revéret*\n",
    "\n",
    "On souhaite que l’utilisateur saisisse une valeur entière comprise entre\n",
    "1 et 20 (inclus).\n",
    "\n",
    "Quel code est correct ?\n",
    "\n",
    "Réponses :\n",
    "\n",
    "1.  Réponse 1\n",
    "\n",
    "    ``` python\n",
    "    a = int ( input(\"Saisir un nombre entre 1 et 20\") )\n",
    "    while (a < 1 and a > 20) :\n",
    "          a = int ( input(\"Saisir un nombre entre 1 et 20\") )\n",
    "    ```\n",
    "\n",
    "2.  Réponse 2\n",
    "\n",
    "    ``` python\n",
    "    while (a < 1 and a > 20) :\n",
    "        a = int ( input(\"Saisir un nombre entre 1 et 20\") )\n",
    "    ```\n",
    "\n",
    "3.  Réponse 3\n",
    "\n",
    "    ``` python\n",
    "    a = int ( input(\"Saisir un nombre entre 1 et 20\") )\n",
    "    while (a < 1 or a > 20) :\n",
    "        a = int ( input(\"Saisir un nombre entre 1 et 20\") )\n",
    "    ```\n"
   ]
  },
  {
   "cell_type": "markdown",
   "metadata": {},
   "source": [
    "<div class=\"alert alert-warning\">\n",
    "\n",
    "__Réponse :__ 3.  \n",
    "    \n",
    "```python\n",
    "a = int ( input(\"Saisir un nombre entre 1 et 20\") )\n",
    "while (a < 1 or a > 20) :\n",
    "    a = int ( input(\"Saisir un nombre entre 1 et 20\") )\n",
    "```"
   ]
  },
  {
   "cell_type": "markdown",
   "metadata": {},
   "source": [
    "<div class = \"alert alert-info\">\n",
    "\n",
    "## Exercice 4\n",
    "\n",
    "*Auteur : Nicolas Revéret*\n",
    "\n",
    "On a saisi le code suivant :\n",
    "\n",
    "``` python\n",
    "a = 12\n",
    "for i in range(3) :\n",
    "  a = a * 2\n",
    "  a = a - 10\n",
    "```\n",
    "\n",
    "Quelle est la valeur de la variable `a` après l’exécution du code ?\n"
   ]
  },
  {
   "cell_type": "markdown",
   "metadata": {},
   "source": [
    "<div class=\"alert alert-warning\">\n",
    "\n",
    "__Réponse :__ En sortie de boucle `a = 26`.\n"
   ]
  },
  {
   "cell_type": "code",
   "execution_count": 3,
   "metadata": {},
   "outputs": [
    {
     "name": "stdout",
     "output_type": "stream",
     "text": [
      "26\n"
     ]
    }
   ],
   "source": [
    "a = 12\n",
    "for i in range(3) :\n",
    "  a = a * 2\n",
    "  a = a - 10\n",
    "print(a)"
   ]
  },
  {
   "cell_type": "markdown",
   "metadata": {},
   "source": [
    "<div class = \"alert alert-info\">\n",
    "\n",
    "## Exercice 5\n",
    "\n",
    "Pour les questions suivantes, il faut utiliser obligatoirement deux\n",
    "boucles imbriquées et au maximum deux fois la fonction `print`.\n",
    "\n",
    "1.  Ecrire un script Python qui produit l’affichage 1 ci-dessous.\n",
    "2.  Ecrire un script Python qui produit l’affichage 2 ci-dessous.\n",
    "\n",
    "**Affichage 1**\n",
    "\n",
    "```python\n",
    "0\n",
    "01\n",
    "012\n",
    "0123\n",
    "01234\n",
    "```\n",
    "\n",
    "**Affichage 2**\n",
    "\n",
    "``` python\n",
    "01234\n",
    "12345\n",
    "23456\n",
    "34567\n",
    "45678\n",
    "```"
   ]
  },
  {
   "cell_type": "markdown",
   "metadata": {},
   "source": [
    "<div class=\"alert alert-warning\">\n",
    "\n",
    "__Réponse Affichage 1 :__"
   ]
  },
  {
   "cell_type": "code",
   "execution_count": 6,
   "metadata": {},
   "outputs": [
    {
     "name": "stdout",
     "output_type": "stream",
     "text": [
      "0\n",
      "01\n",
      "012\n",
      "0123\n",
      "01234\n"
     ]
    }
   ],
   "source": [
    "for i in range(5):\n",
    "    for j in range(0, i + 1):\n",
    "        print(j, end='')\n",
    "    print()"
   ]
  },
  {
   "cell_type": "markdown",
   "metadata": {},
   "source": [
    "<div class=\"alert alert-warning\">\n",
    "\n",
    "__Réponse Affichage 2 :__"
   ]
  },
  {
   "cell_type": "code",
   "execution_count": 7,
   "metadata": {},
   "outputs": [
    {
     "name": "stdout",
     "output_type": "stream",
     "text": [
      "01234\n",
      "12345\n",
      "23456\n",
      "34567\n",
      "45678\n"
     ]
    }
   ],
   "source": [
    "for i in range(5):\n",
    "    for j in range(i, i + 5):\n",
    "        print(j, end='')\n",
    "    print()"
   ]
  },
  {
   "cell_type": "markdown",
   "metadata": {},
   "source": [
    "<div class = \"alert alert-info\">\n",
    "\n",
    "## Exercice 6\n",
    "\n",
    "Pour le diplôme du baccalauréat, si on note $m$ la moyenne du candidat, quatre mentions sont possibles :\n",
    "_Passable_ si $10 \\leqslant m <  12$, _Assez bien_ si $12 \\leqslant m < 14$, _Bien_ si $14 \\leqslant  m < 16$ et _Très bien_ sinon.\n",
    "Recopier et compléter le script Python ci-dessous pour qu’il affiche la mention d’un candidat admis (on suppose sa moyenne supérieure ou égale à 10).\n",
    "\n",
    "~~~python\n",
    "m = float(input('Moyenne du candidat ? '))\n",
    "if 10 <= m < 12:\n",
    "    print(\"Passable\")\n",
    "#to be completed\n",
    "~~~\n"
   ]
  },
  {
   "cell_type": "markdown",
   "metadata": {},
   "source": [
    "<div class=\"alert alert-warning\">\n",
    "\n",
    "__Réponse  :__"
   ]
  },
  {
   "cell_type": "code",
   "execution_count": 3,
   "metadata": {},
   "outputs": [
    {
     "name": "stdout",
     "output_type": "stream",
     "text": [
      "Moyenne du candidat ? 15\n",
      "Bien\n"
     ]
    }
   ],
   "source": [
    "m = float(input('Moyenne du candidat ? '))\n",
    "if 10 <= m < 12:\n",
    "    print(\"Passable\")\n",
    "elif 12 <= m < 14:\n",
    "    print(\"Assez Bien\")\n",
    "elif 14 <= m < 16:\n",
    "    print(\"Bien\")\n",
    "else:\n",
    "    print(\"Très Bien\")"
   ]
  },
  {
   "cell_type": "markdown",
   "metadata": {},
   "source": [
    "<div class = \"alert alert-info\">\n",
    "\n",
    "## Exercice 7\n",
    "\n",
    "On considère le code suivant :\n",
    "\n",
    "``` python\n",
    "def f(tab):\n",
    "  for i in range(len(tab)//2):\n",
    "    tab[i],tab[-i-1] = tab[-i-1],tab[i]\n",
    "```\n",
    "\n",
    "Après les lignes suivantes :\n",
    "\n",
    "``` python\n",
    "tab = [2,3,4,5,7,8]\n",
    "f(tab)\n",
    "```\n",
    "\n",
    "Quelle est la valeur de la variable `tab` ?\n",
    "\n",
    "\n"
   ]
  },
  {
   "cell_type": "markdown",
   "metadata": {},
   "source": [
    "<div class=\"alert alert-warning\">\n",
    "\n",
    "__Réponse :__   La fonction `f` modifie sur place la liste `tab` et inverse l'ordre des éléments. Après `f(tab)`, `tab` contient la liste `[8,7,5,4,3,2]`"
   ]
  },
  {
   "cell_type": "markdown",
   "metadata": {},
   "source": [
    "<div class=\"alert alert-info\">\n",
    "\n",
    "\n",
    "## Exercice 7\n",
    "\n",
    "*Auteur : Nicolas Revéret*\n",
    "\n",
    "On considère le code suivant :\n",
    "\n",
    "``` python\n",
    "def f(tab):\n",
    "  for i in range(len(tab)//2):\n",
    "    tab[i],tab[-i-1] = tab[-i-1],tab[i]\n",
    "```\n",
    "\n",
    "Après les lignes suivantes :\n",
    "\n",
    "``` python\n",
    "tab = [2,3,4,5,7,8]\n",
    "f(tab)\n",
    "```\n",
    "\n",
    "Quelle est la valeur de la variable `tab` ?\n",
    "\n",
    "Réponses :\n",
    "\n",
    "1.  `[2,3,4,5,7,8]`\n",
    "2.  `[5,7,8,2,3,4]`\n",
    "3.  `[8,7,5,4,3,2]`\n",
    "4.  `[4,3,2,8,7,5]`\n",
    "\n",
    "\n"
   ]
  },
  {
   "cell_type": "markdown",
   "metadata": {},
   "source": [
    "<div class=\"alert alert-warning\">\n",
    "\n",
    "\n",
    "__Réponse__ : cette fonction retourne la liste inversée `[8,7,5,4,3,2]` et donc la réponse est la 3. "
   ]
  },
  {
   "cell_type": "markdown",
   "metadata": {},
   "source": [
    "<div class = \"alert alert-info\">\n",
    "\n",
    "## Exercice 8\n",
    "\n",
    "*Auteur : Christophe Beasse*\n",
    "\n",
    "Que contient la variable `a` si on exécute ce script ?\n",
    "\n",
    "``` python\n",
    "def carre(val):\n",
    "  return val*val\n",
    "\n",
    "def inc(val):\n",
    "  return val + 1\n",
    "\n",
    "a = carre(inc(3.0))\n",
    "```\n",
    "\n",
    "1.  9.0\n",
    "2.  12.0\n",
    "3.  10.0\n",
    "4.  16.0\n",
    "\n",
    "\n"
   ]
  },
  {
   "cell_type": "markdown",
   "metadata": {},
   "source": [
    "<div class=\"alert alert-warning\">\n",
    "\n",
    "__Réponse :__   4.  16"
   ]
  },
  {
   "cell_type": "markdown",
   "metadata": {},
   "source": [
    "<div class=\"alert alert-info\">\n",
    "\n",
    "\n",
    "## Exercice 9\n",
    "\n",
    "*Auteur : Christophe Beasse*\n",
    "\n",
    "Soit la liste suivante : `liste_pays =[\"France\",\"Allemagne\",\"Italie\",\"Belgique\"]`\n",
    "\n",
    "Que renvoie : `liste_pays[2]` ?\n",
    "\n",
    "Réponses :\n",
    "\n",
    "1.  `\"France\"`\n",
    "2.  `\"Allemagne\"`\n",
    "3.  `\"Italie\"`\n",
    "4.  `\"Belgique\"`\n"
   ]
  },
  {
   "cell_type": "markdown",
   "metadata": {},
   "source": [
    "<div class=\"alert alert-warning\">\n",
    "\n",
    "__Réponse__ : 3. \"Italie\""
   ]
  },
  {
   "cell_type": "markdown",
   "metadata": {},
   "source": [
    "<div class=\"alert alert-info\">\n",
    "\n",
    "\n",
    "## Exercice 10\n",
    "\n",
    "_\n",
    "*Auteur : Christophe Beasse*\n",
    "\n",
    "Quelle est le résultat de : `[ (a,b) for a in range(3) for b in range(a)]` ?\n",
    "\n",
    "Réponses :\n",
    "\n",
    "1.  `[(1,0),(2,1),(2,1)]`\n",
    "2.  `[(1,0),(2,1),(3,2)]`\n",
    "3.  `[(1,0),(2,0),(2,1)]`\n",
    "4.  `[(0,0),(1,1),(2,2)]`\n"
   ]
  },
  {
   "cell_type": "markdown",
   "metadata": {},
   "source": [
    "<div class=\"alert alert-warning\">\n",
    "\n",
    "__Réponse__ : 3. `[(1,0),(2,0),(2,1)]`"
   ]
  },
  {
   "cell_type": "code",
   "execution_count": 8,
   "metadata": {},
   "outputs": [
    {
     "data": {
      "text/plain": [
       "[(1, 0), (2, 0), (2, 1)]"
      ]
     },
     "execution_count": 8,
     "metadata": {},
     "output_type": "execute_result"
    }
   ],
   "source": [
    "[ (a,b) for a in range(3) for b in range(a)]"
   ]
  },
  {
   "cell_type": "markdown",
   "metadata": {},
   "source": [
    "<div class=\"alert alert-info\">\n",
    "\n",
    "\n",
    "## Exercice 11\n",
    "\n",
    "Ecrire une fonction `moyenne(t)` qui prend en argument un tableau de\n",
    "nombres t et qui retourne sa moyenne arithmétique."
   ]
  },
  {
   "cell_type": "markdown",
   "metadata": {},
   "source": [
    "<div class=\"alert alert-warning\">\n",
    "\n",
    "__Réponse__ : ci-dessous"
   ]
  },
  {
   "cell_type": "code",
   "execution_count": 9,
   "metadata": {},
   "outputs": [],
   "source": [
    "def moyenne(t):\n",
    "    s = 0\n",
    "    for e in t:\n",
    "        s = s + e\n",
    "    return s/ len(t)"
   ]
  },
  {
   "cell_type": "markdown",
   "metadata": {},
   "source": [
    "<div class=\"alert alert-info\">\n",
    "\n",
    "\n",
    "## Exercice 12\n",
    "\n",
    "_Auteur : Nicolas Revéret_\n",
    "\n",
    "On dispose d'un tableau d'entiers, ordonné en ordre croissant.\n",
    "\n",
    "On désire connaître le nombre de valeurs distinctes contenues dans ce tableau.\n",
    "\n",
    "Quelle est la fonction qui ne convient pas ?\n",
    "\n",
    "Réponses :\n",
    "\n",
    "1. Réponse 1\n",
    "~~~python\n",
    "def compte(t):\n",
    "    cpt = 1\n",
    "    for i in range(1,len(t)):\n",
    "        if t[i] != t[i-1]:\n",
    "            cpt = cpt + 1\n",
    "    return cpt\n",
    "~~~\n",
    "\n",
    "2. Réponse 2\n",
    "~~~python\n",
    "    def compte(t):\n",
    "      cpt = 0\n",
    "      for i in range(0,len(t)-1):\n",
    "        cpt = cpt + int(t[i] != t[i+1])\n",
    "      return cpt\n",
    "~~~\n",
    "\n",
    "3. Réponse 3\n",
    "~~~python\n",
    "    def compte(t):\n",
    "      cpt = 0\n",
    "      for i in range(0,len(t)-1):\n",
    "        if t[i] != t[i+1]:\n",
    "          cpt = cpt + 1\n",
    "      return cpt+1\n",
    "~~~"
   ]
  },
  {
   "cell_type": "markdown",
   "metadata": {},
   "source": [
    "<div class=\"alert alert-warning\">\n",
    "\n",
    "\n",
    "__Corrigé: la bonne réponse est  la 3, voir ci-dessous__ "
   ]
  },
  {
   "cell_type": "code",
   "execution_count": 4,
   "metadata": {},
   "outputs": [],
   "source": [
    "def compte(t):\n",
    "    cpt = 1\n",
    "    for i in range(1,len(t)):       \n",
    "        if t[i] != t[i-1]:\n",
    "            cpt = cpt + 1\n",
    "        print(t[i], t[i-1], cpt)\n",
    "    return cpt\n",
    "\n",
    "\n",
    "def compte2(t):\n",
    "    cpt = 0\n",
    "    for i in range(0,len(t)-1):\n",
    "     #cpt = cpt + int(t[i] != t[i+1])\n",
    "     if t[i] != t[i+1]:\n",
    "        cpt = cpt + 1\n",
    "    return cpt\n",
    "\n",
    "def compte3(t):\n",
    "      cpt = 0\n",
    "      for i in range(0,len(t)-1):\n",
    "        if t[i] != t[i+1]:\n",
    "          cpt = cpt + 1\n",
    "      return cpt + 1\n"
   ]
  },
  {
   "cell_type": "code",
   "execution_count": 5,
   "metadata": {
    "scrolled": true
   },
   "outputs": [
    {
     "name": "stdout",
     "output_type": "stream",
     "text": [
      "1 1 1\n",
      "2 1 2\n",
      "3 2 3\n",
      "3 3 3\n",
      "4 3 4\n"
     ]
    },
    {
     "data": {
      "text/plain": [
       "4"
      ]
     },
     "execution_count": 5,
     "metadata": {},
     "output_type": "execute_result"
    }
   ],
   "source": [
    "compte([1,1,2,3,3,4])"
   ]
  },
  {
   "cell_type": "code",
   "execution_count": 6,
   "metadata": {},
   "outputs": [
    {
     "data": {
      "text/plain": [
       "True"
      ]
     },
     "execution_count": 6,
     "metadata": {},
     "output_type": "execute_result"
    }
   ],
   "source": [
    "0 != 2"
   ]
  },
  {
   "cell_type": "code",
   "execution_count": 7,
   "metadata": {},
   "outputs": [
    {
     "data": {
      "text/plain": [
       "False"
      ]
     },
     "execution_count": 7,
     "metadata": {},
     "output_type": "execute_result"
    }
   ],
   "source": [
    "0 == 2"
   ]
  },
  {
   "cell_type": "code",
   "execution_count": 8,
   "metadata": {},
   "outputs": [
    {
     "data": {
      "text/plain": [
       "1"
      ]
     },
     "execution_count": 8,
     "metadata": {},
     "output_type": "execute_result"
    }
   ],
   "source": [
    "int(0 != 2)"
   ]
  },
  {
   "cell_type": "code",
   "execution_count": 9,
   "metadata": {},
   "outputs": [
    {
     "data": {
      "text/plain": [
       "0"
      ]
     },
     "execution_count": 9,
     "metadata": {},
     "output_type": "execute_result"
    }
   ],
   "source": [
    "int( 0 == 2)"
   ]
  },
  {
   "cell_type": "markdown",
   "metadata": {},
   "source": [
    "<div class=\"alert alert-info\">\n",
    "\n",
    "## Exercice 13\n",
    "\n",
    "*Auteur : Eric Rougier*\n",
    "\n",
    "Quel est le résultat de l’évaluation de l’expression Python suivante ?\n",
    "\n",
    "`[2 ** n for n in range(4)]`\n",
    "\n",
    "Réponses :\n",
    "\n",
    "1.  `[0, 2, 4, 6, 8]`\n",
    "2.  `[1, 2, 4, 8]`\n",
    "3.  `[0, 1, 4, 9]`\n",
    "4.  `[1, 2, 4, 8, 16]`"
   ]
  },
  {
   "cell_type": "markdown",
   "metadata": {},
   "source": [
    "<div class=\"alert alert-warning\">\n",
    "__Corrigé__ : La réponse est la 2."
   ]
  },
  {
   "cell_type": "code",
   "execution_count": 3,
   "metadata": {},
   "outputs": [
    {
     "data": {
      "text/plain": [
       "[1, 2, 4, 8]"
      ]
     },
     "execution_count": 3,
     "metadata": {},
     "output_type": "execute_result"
    }
   ],
   "source": [
    "[2 ** n for n in range(4)]"
   ]
  },
  {
   "cell_type": "markdown",
   "metadata": {},
   "source": [
    "<div class=\"alert alert-info\">\n",
    "\n",
    "## Exercice 14\n",
    "\n",
    "*Auteur : Germain Becker, question n°326 Genumsi* \n",
    "\n",
    "Quel est le tableau\n",
    "`t` construit par les instructions suivantes ?\n",
    "\n",
    "``` python\n",
    "tab = [1, 2, -3, 7, 4, 10, -1, 0]\n",
    "t = [e for e in tab if e >= 0]\n",
    "```\n",
    "\n",
    "Réponses :\n",
    "\n",
    "1.  `t = [1, 2, 7, 4, 10, 0]`\n",
    "2.  `t = [e, e, e, e, e, e]`\n",
    "3.  `t = [1, 2, 7, 4, 10]`\n",
    "4.  `t = [-3, -1, 0]`"
   ]
  },
  {
   "cell_type": "markdown",
   "metadata": {},
   "source": [
    "<div class=\"alert alert-warning\">\n",
    "__Corrigé__ : La réponse est la 3."
   ]
  },
  {
   "cell_type": "code",
   "execution_count": 5,
   "metadata": {},
   "outputs": [
    {
     "data": {
      "text/plain": [
       "[1, 2, 7, 4, 10, 0]"
      ]
     },
     "execution_count": 5,
     "metadata": {},
     "output_type": "execute_result"
    }
   ],
   "source": [
    "tab = [1, 2, -3, 7, 4, 10, -1, 0]\n",
    "t = [e for e in tab if e >= 0]\n",
    "t"
   ]
  },
  {
   "cell_type": "markdown",
   "metadata": {},
   "source": [
    "<div class=\"alert alert-info\">\n",
    "\n",
    "## Exercice 15\n",
    "\n",
    "\n",
    "\n",
    "*Auteur : Germain Becker, question n°339 Genumsi*\n",
    "\n",
    "On considère le tableau t suivant.\n",
    "\n",
    "`t = [[1, 2, 3], [2, 3, 4], [3, 4, 5], [4, 5, 6]]`\n",
    "\n",
    "Quelle est la valeur de t\\[1\\]\\[2\\] ?\n",
    "\n",
    "Réponses :\n",
    "\n",
    "1.  1\n",
    "2.  3\n",
    "3.  4\n",
    "4.  2"
   ]
  },
  {
   "cell_type": "markdown",
   "metadata": {},
   "source": [
    "<div class=\"alert alert-warning\">\n",
    "__Corrigé__ : La réponse est la 3."
   ]
  },
  {
   "cell_type": "code",
   "execution_count": 8,
   "metadata": {},
   "outputs": [
    {
     "data": {
      "text/plain": [
       "4"
      ]
     },
     "execution_count": 8,
     "metadata": {},
     "output_type": "execute_result"
    }
   ],
   "source": [
    "t = [[1, 2, 3], [2, 3, 4], [3, 4, 5], [4, 5, 6]]\n",
    "t[1][2] "
   ]
  },
  {
   "cell_type": "markdown",
   "metadata": {},
   "source": [
    " <div class=\"alert alert-info\">\n",
    "    \n",
    "## Exercice 16\n",
    "\n",
    "*Auteur : Eric Rougier, question n°150 Genumsi*\n",
    "\n",
    "Quelle est la valeur de la variable image après exécution du script\n",
    "Python suivant ?\n",
    "\n",
    "``` python\n",
    "image = [[0, 0, 0, 0], [0, 0, 0, 0], [0, 0, 0, 0], [0, 0, 0, 0]]\n",
    "for i in range(4):\n",
    "    for j in range(4):\n",
    "        if (i+j) == 3:\n",
    "            image[i][j] = 1\n",
    "```\n",
    "\n",
    "Réponses :\n",
    "\n",
    "1.  `[[0, 0, 0, 0], [0, 0, 0, 0], [0, 0, 0, 0], [1, 1, 1, 1]]`\n",
    "\n",
    "2.  `[[0, 0, 0, 1], [0, 0, 0, 1], [0, 0, 0, 1], [0, 0, 0, 1]]`\n",
    "\n",
    "3.  `[[0, 0, 0, 1], [0, 0, 1, 0], [0, 1, 0, 0], [1, 0, 0, 0]]`\n",
    "\n",
    "4.  `[[0, 0, 0, 1], [0, 0, 1, 1], [0, 1, 1, 1], [1, 1, 1, 1]]`\n",
    "\n"
   ]
  },
  {
   "cell_type": "markdown",
   "metadata": {},
   "source": [
    "<div class=\"alert alert-warning\">\n",
    "__Corrigé__ : La réponse est la 3."
   ]
  },
  {
   "cell_type": "code",
   "execution_count": 11,
   "metadata": {},
   "outputs": [
    {
     "name": "stdout",
     "output_type": "stream",
     "text": [
      "[[0, 0, 0, 1], [0, 0, 1, 0], [0, 1, 0, 0], [1, 0, 0, 0]]\n"
     ]
    }
   ],
   "source": [
    "image = [[0, 0, 0, 0], [0, 0, 0, 0], [0, 0, 0, 0], [0, 0, 0, 0]]\n",
    "for i in range(4):\n",
    "    for j in range(4):\n",
    "        if (i+j) == 3:\n",
    "            image[i][j] = 1\n",
    "print(image)"
   ]
  },
  {
   "cell_type": "markdown",
   "metadata": {},
   "source": [
    " <div class=\"alert alert-info\">\n",
    "    \n",
    "## Exercice 17\n",
    "\n",
    "*Auteur : Nicolas Réveret, question n°379 Genumsi*\n",
    "\n",
    "On a saisi le code suivant :\n",
    "\n",
    "``` python\n",
    "liste = [0, 1, 2, 3]\n",
    "compteur = 0\n",
    "for i in range(len(liste)-1) :\n",
    "    for j in range(i,len(liste)) :\n",
    "        compteur += 1\n",
    "```\n",
    "\n",
    "Que contient la variable compteur à la fin de l’exécution de ce script ?"
   ]
  },
  {
   "cell_type": "markdown",
   "metadata": {},
   "source": [
    "<div class=\"alert alert-warning\">\n",
    "__Corrigé__ : La variable `compteur` contient $4+3+2=9$"
   ]
  },
  {
   "cell_type": "code",
   "execution_count": 13,
   "metadata": {},
   "outputs": [
    {
     "name": "stdout",
     "output_type": "stream",
     "text": [
      "9\n"
     ]
    }
   ],
   "source": [
    "liste = [0, 1, 2, 3]\n",
    "compteur = 0\n",
    "for i in range(len(liste)-1) :\n",
    "    for j in range(i,len(liste)) :\n",
    "        compteur += 1\n",
    "print(compteur)"
   ]
  },
  {
   "cell_type": "markdown",
   "metadata": {},
   "source": [
    " <div class=\"alert alert-info\">\n",
    "    \n",
    "## Exercice 18\n",
    "\n",
    "Quelle est la valeur référencée par la liste L après exécution du\n",
    "programme ci-dessous ?\n",
    "\n",
    "``` python\n",
    "L = [731, 732, 734]\n",
    "L[0], L[1] = L[1], L[0]\n",
    "M = L\n",
    "M[1] = 732\n",
    "```\n",
    "\n",
    "1.  \\[732, 731, 734\\]\n",
    "2.  \\[731, 732, 734\\]\n",
    "3.  \\[732, 732, 734\\]\n"
   ]
  },
  {
   "cell_type": "markdown",
   "metadata": {},
   "source": [
    "<div class=\"alert alert-warning\">\n",
    "__Corrigé__ : la valeur référencée par la liste L après exécution du programme est  `[732, 732, 734]`"
   ]
  },
  {
   "cell_type": "code",
   "execution_count": 14,
   "metadata": {},
   "outputs": [
    {
     "name": "stdout",
     "output_type": "stream",
     "text": [
      "[732, 732, 734]\n"
     ]
    }
   ],
   "source": [
    "L = [731, 732, 734]\n",
    "L[0], L[1] = L[1], L[0]\n",
    "M = L\n",
    "M[1] = 732\n",
    "print(M)"
   ]
  },
  {
   "cell_type": "markdown",
   "metadata": {},
   "source": [
    " <div class=\"alert alert-info\">\n",
    "    \n",
    "## Exercice 19\n",
    "\n",
    "On considère l’extrait de code suivant :\n",
    "\n",
    "``` python\n",
    "while (a < 20) or (b > 50):\n",
    "    .......\n",
    "    .......\n",
    "```\n",
    "\n",
    "Quelles conditions permettent de mettre fin à cette boucle ?\n",
    "\n",
    "1.  **Réponse 1 :** la boucle prend fin lorsque `a < 20 ou b > 50`\n",
    "\n",
    "2.  **Réponse 2 :** la boucle prend fin lorsque `a < 20 et b > 50`\n",
    "\n",
    "3.  **Réponse 3 :** la boucle prend fin lorsque `a >= 20 ou b <= 50`\n",
    "\n",
    "4.  **Réponse 4 :** la boucle prend fin lorsque `a >= 20 et b <= 50`\n"
   ]
  },
  {
   "cell_type": "markdown",
   "metadata": {},
   "source": [
    "<div class=\"alert alert-warning\">\n",
    "__Corrigé__ : La condition de sortie de boucle est la négation de la condition d'entrée de boucle, donc __réponse 4__"
   ]
  },
  {
   "cell_type": "markdown",
   "metadata": {},
   "source": [
    " <div class=\"alert alert-info\">\n",
    "    \n",
    "## Exercice 20\n",
    "\n",
    "On exécute le script suivant :\n",
    "\n",
    "``` python\n",
    "L = [12,0,8,7,3,1,5,3,8]\n",
    "\n",
    "a = [elt for elt in L if elt < 4]\n",
    "```\n",
    "\n",
    "Quelle est la valeur de a à la fin de son exécution ?\n",
    "\n",
    "Réponses :\n",
    "\n",
    "1.  **Réponse 1 :** `[12,0,8]`\n",
    "\n",
    "2.  **Réponse 2 :** `[12,0,8,7]`\n",
    "\n",
    "3.  **Réponse 3 :** `[0,3,1,3]`\n",
    "\n",
    "4.  **Réponse 4 :** `[0,3,1]`\n",
    "\n"
   ]
  },
  {
   "cell_type": "markdown",
   "metadata": {},
   "source": [
    "<div class=\"alert alert-warning\">\n",
    "__Corrigé__ : La liste en compréhension sélectionné les éléments de `L` qui sont inférieurs à 4, donc la réponse est la 3 `[0,3,1,3]`"
   ]
  },
  {
   "cell_type": "code",
   "execution_count": 15,
   "metadata": {},
   "outputs": [
    {
     "name": "stdout",
     "output_type": "stream",
     "text": [
      "[0, 3, 1, 3]\n"
     ]
    }
   ],
   "source": [
    "L = [12,0,8,7,3,1,5,3,8]\n",
    "\n",
    "a = [elt for elt in L if elt < 4]\n",
    "\n",
    "print(a)"
   ]
  },
  {
   "cell_type": "markdown",
   "metadata": {},
   "source": [
    " <div class=\"alert alert-info\">\n",
    "    \n",
    "## Exercice 21\n",
    "\n",
    "On définit : `L = [10,9,8,7,6,5,4,3,2,1]`.\n",
    "\n",
    "Quelle est la valeur de `L[L[3]]` ?\n",
    "\n",
    "Réponses :\n",
    "\n",
    "1.  **Réponse 1 :** 3\n",
    "\n",
    "2.  **Réponse 2 :** 4\n",
    "\n",
    "3.  **Réponse 3 :** 7\n"
   ]
  },
  {
   "cell_type": "markdown",
   "metadata": {},
   "source": [
    "<div class=\"alert alert-warning\">\n",
    "__Corrigé__ : `L[3]` a pour valeur 7 donc `L[L[3]]` retourne l'élément d'index 7 donc le huitième donc 3"
   ]
  },
  {
   "cell_type": "code",
   "execution_count": 16,
   "metadata": {},
   "outputs": [
    {
     "name": "stdout",
     "output_type": "stream",
     "text": [
      "3\n"
     ]
    }
   ],
   "source": [
    "L = [10,9,8,7,6,5,4,3,2,1]\n",
    "print(L[L[3]])"
   ]
  },
  {
   "cell_type": "markdown",
   "metadata": {},
   "source": [
    " <div class=\"alert alert-info\">\n",
    "    \n",
    "## Exercice 22\n",
    "\n",
    "\n",
    "On définit une grille G remplie de 0, sous la forme d'une liste de\n",
    "listes, où toutes les sous-listes ont le même nombre d'éléments.\n",
    "\n",
    "``` python\n",
    "G = [ [0, 0, 0, ..., 0],\n",
    "[0, 0, 0, ..., 0],\n",
    "[0, 0, 0, ..., 0],\n",
    "\n",
    "......\n",
    "[0, 0, 0, ..., 0]]\n",
    "```\n",
    "\n",
    "On appelle *hauteur* de la grille le nombre de sous-listes contenues\n",
    "dans G et *largeur* de la grille le nombre d’éléments dans chacune de\n",
    "ces sous-listes. Comment peut-on les obtenir ?\n",
    "\n",
    "Réponses :\n",
    "\n",
    "1.  **Réponse 1:**\n",
    "    ``` python\n",
    "    hauteur = len(G[0])\n",
    "    largeur = len(G)\n",
    "    ```\n",
    "\n",
    "2.  **Réponse 2 :**\n",
    "    ``` python\n",
    "    hauteur = len(G)\n",
    "    largeur = len(G[0])\n",
    "    ```\n",
    "\n",
    "3.  **Réponse 3 :**\n",
    "\n",
    "    ``` python\n",
    "    hauteur = len(G[0])\n",
    "    largeur = len(G[1])\n",
    "    ```\n",
    "\n",
    "4.  **Réponse 4 :**\n",
    "    ``` python\n",
    "    hauteur = len(G[1])\n",
    "    largeur = len(G[0])\n",
    "    ```"
   ]
  },
  {
   "cell_type": "markdown",
   "metadata": {},
   "source": [
    "<div class=\"alert alert-warning\">\n",
    "__Corrigé__ : La réponse est la 2."
   ]
  },
  {
   "cell_type": "markdown",
   "metadata": {},
   "source": [
    " <div class=\"alert alert-info\">\n",
    "    \n",
    "## Exercice 23\n",
    "\n",
    "Quelle est la valeur de l’expression `[[0] * 3 for i in range(2)]` ?\n",
    "\n",
    "Réponses :\n",
    "\n",
    "1.  **Réponse 1 :** `[[0,0], [0,0], [0,0]]`\n",
    "2.  **Réponse 2 :** `[[0,0,0], [0,0,0]]`\n",
    "3.  **Réponse 3 :** `[[0.000], [0.000]]`\n",
    "4.  **Réponse 4 :** `[[0.00], [0.00], [0.00]]`\n",
    "\n"
   ]
  },
  {
   "cell_type": "markdown",
   "metadata": {},
   "source": [
    "<div class=\"alert alert-warning\">\n",
    "__Corrigé__ : La réponse est la 2."
   ]
  },
  {
   "cell_type": "markdown",
   "metadata": {},
   "source": [
    " <div class=\"alert alert-info\">\n",
    "    \n",
    "## Exercice 24\n",
    "\n",
    "On exécute le script suivant :\n",
    "\n",
    "``` python\n",
    "a = [1, 2, 3]\n",
    "b = [4, 5, 6]\n",
    "c = a + b\n",
    "```\n",
    "\n",
    "Que contient la variable `c` à la fin de cette exécution ?\n",
    "\n",
    "Réponses :\n",
    "\n",
    "1.  **Réponse 1 :** `[5,7,9]`\n",
    "\n",
    "2.  **Réponse 2 :** `[1,4,2,5,3,6]`\n",
    "\n",
    "3.  **Réponse 3 :** `[1,2,3,4,5,6]`\n",
    "\n",
    "4.  **Réponse 4 :** `[1,2,3,5,7,9]`"
   ]
  },
  {
   "cell_type": "markdown",
   "metadata": {},
   "source": [
    "<div class=\"alert alert-warning\">\n",
    "__Corrigé__ : La réponse est la 3, l'opérateur `+` réalise la concaténation des deux listes."
   ]
  },
  {
   "cell_type": "markdown",
   "metadata": {},
   "source": [
    " <div class=\"alert alert-info\">\n",
    "    \n",
    "## Exercice 25\n",
    "\n",
    "On exécute le script suivant :\n",
    "\n",
    "``` python\n",
    "asso = []\n",
    "L=[['marc','marie'],['marie','jean'],\n",
    "    ['paul','marie'], ['marie','marie'],\n",
    "    ['marc','anne']]\n",
    "for c in L :\n",
    "    if c[1]=='marie':\n",
    "        asso.append(c[0])\n",
    "```\n",
    "\n",
    "Que vaut asso à la fin de l'exécution ?\n",
    "\n",
    "Réponses :\n",
    "\n",
    "1.  **Réponses 1:** `['marc', 'jean', 'paul']`\n",
    "\n",
    "2.  **Réponses 2 :** `[['marc','marie'], ['paul','marie'],\n",
    "    ['marie','marie']]`\n",
    "\n",
    "3.  **Réponses 3 :** `['marc', 'paul', 'marie']`\n",
    "\n",
    "4.  **Réponses 4 :** `['marie', 'anne']`"
   ]
  },
  {
   "cell_type": "markdown",
   "metadata": {},
   "source": [
    "<div class=\"alert alert-warning\">\n",
    "__Corrigé__ : La réponse est la 3."
   ]
  },
  {
   "cell_type": "code",
   "execution_count": 17,
   "metadata": {},
   "outputs": [
    {
     "name": "stdout",
     "output_type": "stream",
     "text": [
      "['marc', 'paul', 'marie']\n"
     ]
    }
   ],
   "source": [
    "asso = []\n",
    "L=[['marc','marie'],['marie','jean'],\n",
    "    ['paul','marie'], ['marie','marie'],\n",
    "    ['marc','anne']]\n",
    "for c in L :\n",
    "    if c[1]=='marie':\n",
    "        asso.append(c[0])\n",
    "print(asso)"
   ]
  },
  {
   "cell_type": "markdown",
   "metadata": {},
   "source": [
    " <div class=\"alert alert-info\">\n",
    "    \n",
    "## Exercice 26\n",
    "\n",
    "Quelle est la valeur de la variable n à la fin de l’exécution du script\n",
    "ci-dessous ?\n",
    "\n",
    "``` python\n",
    "n = 1\n",
    "while n != 20:\n",
    "    n = n + 2\n",
    "```\n",
    "\n",
    "Réponses :\n",
    "\n",
    "1.  **Réponse 1:** 1\n",
    "\n",
    "2.  **Réponse 2:** 20\n",
    "\n",
    "3.  **Réponse 3:** 22\n",
    "\n",
    "4.  **Réponse 4:** le programme ne termine pas, la boucle tourne\n",
    "    indéfiniment\n"
   ]
  },
  {
   "cell_type": "markdown",
   "metadata": {},
   "source": [
    "<div class=\"alert alert-warning\">\n",
    "__Corrigé__ : La réponse est la 4, la variable `n` ne prend comme valeurs que des entiers impairs donc elle n'atteindra jamais la valeur 20."
   ]
  },
  {
   "cell_type": "markdown",
   "metadata": {},
   "source": [
    " <div class=\"alert alert-info\">\n",
    "    \n",
    "## Exercice 27\n",
    "\n",
    "On définit en Python la fonction suivante :\n",
    "\n",
    "``` python\n",
    "def f(L):\n",
    "    S = []\n",
    "    for i in range(len(L)-1):\n",
    "        S.append(L[i] + L[i+1])\n",
    "    return S\n",
    "```\n",
    "\n",
    "Quelle est la liste renvoyée par `f([1, 2, 3, 4, 5, 6])` ?\n",
    "\n",
    "1.  `[3, 5, 7, 9, 11, 13]`\n",
    "2.  `[1, 3, 5, 7, 9, 11]`\n",
    "3.  `[3, 5, 7, 9, 11]`\n",
    "4.  cet appel de fonction déclenche un message d’erreur\n"
   ]
  },
  {
   "cell_type": "markdown",
   "metadata": {},
   "source": [
    "<div class=\"alert alert-warning\">\n",
    "__Corrigé__ : La réponse est la 3, la fonction retourne une liste `S` contenant les sommes de tous les couples d'éléments d'index successifs."
   ]
  },
  {
   "cell_type": "code",
   "execution_count": 18,
   "metadata": {},
   "outputs": [
    {
     "name": "stdout",
     "output_type": "stream",
     "text": [
      "[3, 5, 7, 9, 11]\n"
     ]
    }
   ],
   "source": [
    "def f(L):\n",
    "    S = []\n",
    "    for i in range(len(L)-1):\n",
    "        S.append(L[i] + L[i+1])\n",
    "    return S\n",
    "\n",
    "print(f([1, 2, 3, 4, 5, 6]))"
   ]
  },
  {
   "cell_type": "markdown",
   "metadata": {},
   "source": [
    " <div class=\"alert alert-info\">\n",
    "    \n",
    "## Exercice 28\n",
    "\n",
    "Le codage en base deux de l’entier 26 en base dix est :\n",
    "\n",
    "1.  11010\n",
    "2.  10010\n",
    "3.  11001\n",
    "4.  110010\n"
   ]
  },
  {
   "cell_type": "markdown",
   "metadata": {},
   "source": [
    "<div class=\"alert alert-warning\">\n",
    "__Corrigé__ : La réponse est la 1."
   ]
  },
  {
   "cell_type": "code",
   "execution_count": 10,
   "metadata": {},
   "outputs": [
    {
     "data": {
      "text/plain": [
       "'0b11010'"
      ]
     },
     "execution_count": 10,
     "metadata": {},
     "output_type": "execute_result"
    }
   ],
   "source": [
    "bin(26)"
   ]
  },
  {
   "cell_type": "markdown",
   "metadata": {},
   "source": [
    " <div class=\"alert alert-info\">\n",
    " \n",
    "## Exercice 29  \n",
    "\n",
    "Le résultat de la somme $\\overline{101101}^{2} + \\overline{101111}^{2}$ est :\n",
    "\n",
    "1. $\\overline{1100100}^{2}$\n",
    "2. $\\overline{1110101}^{2}$\n",
    "3. $\\overline{1011100}^{2}$\n",
    "4. $\\overline{1111100}^{2}$\n"
   ]
  },
  {
   "cell_type": "markdown",
   "metadata": {},
   "source": [
    "<div class=\"alert alert-warning\">\n",
    "__Corrigé__ : La réponse est la 3."
   ]
  },
  {
   "cell_type": "code",
   "execution_count": 12,
   "metadata": {},
   "outputs": [
    {
     "data": {
      "text/plain": [
       "92"
      ]
     },
     "execution_count": 12,
     "metadata": {},
     "output_type": "execute_result"
    }
   ],
   "source": [
    "0b101101 + 0b101111"
   ]
  },
  {
   "cell_type": "code",
   "execution_count": 13,
   "metadata": {},
   "outputs": [
    {
     "data": {
      "text/plain": [
       "'0b1011100'"
      ]
     },
     "execution_count": 13,
     "metadata": {},
     "output_type": "execute_result"
    }
   ],
   "source": [
    "bin(92)"
   ]
  },
  {
   "cell_type": "markdown",
   "metadata": {},
   "source": [
    " <div class=\"alert alert-info\">\n",
    " \n",
    "## Exercice 30\n",
    "\n",
    "\n",
    "\n",
    "Le plus grand entier qu’on peut représenter en base deux sur 8 bits a\n",
    "pour écriture décimale :\n",
    "\n",
    "1.  11111111\n",
    "2.  10000000\n",
    "3.  255\n",
    "4.  256\n"
   ]
  },
  {
   "cell_type": "markdown",
   "metadata": {},
   "source": [
    "<div class=\"alert alert-warning\">\n",
    "__Corrigé__ : L'écriture binaire du plus grand entier représentable en base deux sur 8 bits est $11111111$ et son écriture décimale est $2^{8}-1=255$."
   ]
  },
  {
   "cell_type": "markdown",
   "metadata": {},
   "source": [
    " <div class=\"alert alert-info\">\n",
    " \n",
    "## Exercice 31\n",
    "\n",
    "\n",
    "Quelle est l’écriture décimale de l’entier qui s’écrit 1010 en binaire ?\n",
    "\n",
    "Réponses :\n",
    "\n",
    "1.  5\n",
    "\n",
    "2.  10\n",
    "\n",
    "3.  20\n",
    "\n",
    "4.  22\n"
   ]
  },
  {
   "cell_type": "markdown",
   "metadata": {},
   "source": [
    "<div class=\"alert alert-warning\">\n",
    "__Corrigé__ : L'écriture binaire $1010$ correspond à l'écriture décimale  $2^{3}+2^{1}=10$."
   ]
  },
  {
   "cell_type": "markdown",
   "metadata": {},
   "source": [
    " <div class=\"alert alert-info\">\n",
    " \n",
    "## Exercice 32\n",
    "\n",
    "\n",
    "Combien d’entiers positifs ou nuls (entiers non signés) peut-on\n",
    "représenter en machine sur 32 bits ?\n",
    "\n",
    "Réponses :\n",
    "\n",
    "1.  $2^{32}-1$\n",
    "2.  $2^{32}$\n",
    "3.  $2 \\times 32$\n",
    "4.  $32^{2}$\n"
   ]
  },
  {
   "cell_type": "markdown",
   "metadata": {},
   "source": [
    "<div class=\"alert alert-warning\">\n",
    "__Corrigé__ : Sur $32$ bits, on peut représenter $2^{32}$ entiers. "
   ]
  },
  {
   "cell_type": "markdown",
   "metadata": {},
   "source": [
    " <div class=\"alert alert-info\">\n",
    " \n",
    "## Exercice 33\n",
    "\n",
    "\n",
    "\n",
    "Combien de bits faut-il au minimum pour coder le nombre décimal 4085 ?\n",
    "\n",
    "Réponses :\n",
    "\n",
    "1.  4\n",
    "2.  12\n",
    "3.  2042\n",
    "4.  2043\n"
   ]
  },
  {
   "cell_type": "markdown",
   "metadata": {},
   "source": [
    "<div class=\"alert alert-warning\">\n",
    "__Corrigé__ : $2^{11}=2048$ et $2^{12}=4096$ donc $2^{11} \\leqslant  4085 < 2^{12}$ donc il faut $12$ bits au minimum pour représenter $4085$."
   ]
  },
  {
   "cell_type": "markdown",
   "metadata": {},
   "source": [
    " <div class=\"alert alert-info\">\n",
    " \n",
    "## Exercice 34\n",
    "\n",
    "\n",
    "\n",
    "Parmi les propositions suivantes, laquelle est la représentation binaire de 761 ?\n",
    "\n",
    "Réponses :\n",
    "\n",
    "1.  11 1100 1101\n",
    "2.  11 1110 0101\n",
    "3.  10 0111 1001\n",
    "4.  10 1111 1001"
   ]
  },
  {
   "cell_type": "markdown",
   "metadata": {},
   "source": [
    "<div class=\"alert alert-warning\">\n",
    "__Corrigé__ : Réponse 4."
   ]
  },
  {
   "cell_type": "code",
   "execution_count": 19,
   "metadata": {},
   "outputs": [
    {
     "data": {
      "text/plain": [
       "'0b1011111001'"
      ]
     },
     "execution_count": 19,
     "metadata": {},
     "output_type": "execute_result"
    }
   ],
   "source": [
    "bin(761)"
   ]
  },
  {
   "cell_type": "markdown",
   "metadata": {},
   "source": [
    " <div class=\"alert alert-info\">\n",
    " \n",
    "## Exercice 35\n",
    "\n",
    "\n",
    "Le codage d’une couleur se fait à l’aide de trois nombres compris\n",
    "chacun, en écriture décimale, entre 0 et 255 (code RVB).\n",
    "\n",
    "La couleur « vert impérial » est codée, en écriture décimale, par (0,86,\n",
    "27).\n",
    "\n",
    "Le codage hexadécimal (base 16) correspondant est :\n",
    "\n",
    "Réponses :\n",
    "\n",
    "1.  (0, 134, 39)\n",
    "2.  (0, 134, 1B)\n",
    "3.  (0, 56, 1B)\n",
    "4.  (0, 56, 39)"
   ]
  },
  {
   "cell_type": "markdown",
   "metadata": {},
   "source": [
    "<div class=\"alert alert-warning\">\n",
    "__Corrigé__ : Réponse 3."
   ]
  },
  {
   "cell_type": "code",
   "execution_count": 20,
   "metadata": {},
   "outputs": [
    {
     "data": {
      "text/plain": [
       "['0x0', '0x56', '0x1b']"
      ]
     },
     "execution_count": 20,
     "metadata": {},
     "output_type": "execute_result"
    }
   ],
   "source": [
    "[hex(c) for c in (0,86,27)]"
   ]
  },
  {
   "cell_type": "markdown",
   "metadata": {},
   "source": [
    " <div class=\"alert alert-info\">\n",
    " \n",
    "## Exercice 36\n",
    "\n",
    "\n",
    "\n",
    "Quelle est l’écriture binaire du nombre entier 183 ?\n",
    "\n",
    "Réponses :\n",
    "\n",
    "1.  0100 1000\n",
    "2.  1110 1101\n",
    "3.  1011 0111\n",
    "4.  1001 0101"
   ]
  },
  {
   "cell_type": "markdown",
   "metadata": {},
   "source": [
    "<div class=\"alert alert-warning\">\n",
    "__Corrigé__ : Réponse 3."
   ]
  },
  {
   "cell_type": "code",
   "execution_count": 22,
   "metadata": {},
   "outputs": [
    {
     "data": {
      "text/plain": [
       "'0b10110111'"
      ]
     },
     "execution_count": 22,
     "metadata": {},
     "output_type": "execute_result"
    }
   ],
   "source": [
    "bin(183)"
   ]
  },
  {
   "cell_type": "markdown",
   "metadata": {},
   "source": [
    " <div class=\"alert alert-info\">\n",
    " \n",
    "## Exercice 37\n",
    "\n",
    "\n",
    "\n",
    "Le codage en base seize de l’entier\n",
    "255  est :\n",
    "\n",
    "1.  $\\overline{F1}^{16}$\n",
    "2.  $\\overline{A1}^{16}$\n",
    "3.  $\\overline{FA}^{16}$\n",
    "4.  $\\overline{FF}^{16}$"
   ]
  },
  {
   "cell_type": "markdown",
   "metadata": {},
   "source": [
    "<div class=\"alert alert-warning\">\n",
    "__Corrigé__ : Réponse 4."
   ]
  },
  {
   "cell_type": "code",
   "execution_count": 24,
   "metadata": {},
   "outputs": [
    {
     "data": {
      "text/plain": [
       "'0xff'"
      ]
     },
     "execution_count": 24,
     "metadata": {},
     "output_type": "execute_result"
    }
   ],
   "source": [
    "hex(255   )"
   ]
  },
  {
   "cell_type": "markdown",
   "metadata": {},
   "source": [
    " <div class=\"alert alert-info\">\n",
    " \n",
    "## Exercice 38\n",
    "\n",
    "\n",
    "\n",
    "L'adresse MAC de la carte Wifi d'un smartphone  est `c8:60:00:a4:89:ab` avec six octets codés en base seize.\n",
    "\n",
    "La transcription en base dix de cette adresse MAC est :\n",
    "\n",
    "1. $200:96:0:164:137:171$\n",
    "2. $20:6:0:14:17:21$\n",
    "3. $96:0:0:40:72:110$\n",
    "4. $140:6:0:74:152:186$"
   ]
  },
  {
   "cell_type": "markdown",
   "metadata": {},
   "source": [
    "<div class=\"alert alert-warning\">\n",
    "__Corrigé__ : Réponse 1."
   ]
  },
  {
   "cell_type": "code",
   "execution_count": 29,
   "metadata": {},
   "outputs": [
    {
     "data": {
      "text/plain": [
       "'200:96:0:164:137:171'"
      ]
     },
     "execution_count": 29,
     "metadata": {},
     "output_type": "execute_result"
    }
   ],
   "source": [
    "':'.join([str(int(c, 16)) for c in 'c8:60:00:a4:89:ab'.split(':')])"
   ]
  },
  {
   "cell_type": "markdown",
   "metadata": {},
   "source": [
    " <div class=\"alert alert-info\">\n",
    " \n",
    "## Exercice 39\n",
    "\n",
    "\n",
    "\n",
    "La fonction ci-dessous doit retourner la liste des chiffres en base deux\n",
    "d’un entier n par ordre décroissant des poids de gauche à droite.\n",
    "\n",
    "``` python\n",
    "def nombre2chiffres(n):\n",
    "    t = []\n",
    "    while n >= 2:\n",
    "        ..........\n",
    "        n = n // 2\n",
    "    ..............\n",
    "    t.reverse()\n",
    "    return t\n",
    "```\n",
    "\n",
    "Quelle instruction peut-on écrire en lignes 4 et 6 ?\n",
    "\n",
    "1.  `t.append(n)`\n",
    "2.  `t.append(n % 2)`\n",
    "3.  `t.append(n // 2)`\n",
    "4.  `t = t + [n % 2]`"
   ]
  },
  {
   "cell_type": "markdown",
   "metadata": {},
   "source": [
    "<div class=\"alert alert-warning\">\n",
    "__Corrigé__ : Réponse 2."
   ]
  },
  {
   "cell_type": "markdown",
   "metadata": {},
   "source": [
    " <div class=\"alert alert-info\">\n",
    " \n",
    "## Exercice 40\n",
    "\n",
    "\n",
    "\n",
    "\n",
    "1.  Représenter en binaire le nombre d’écriture décimale 49.\n",
    "2.  Représenter en base dix, le nombre dont l’écriture en base deux est $1010110$.\n",
    "3.  Déterminer le successeur en base deux des entiers :\n",
    "      - $111$\n",
    "      - $10011$\n",
    "      - $10111$\n",
    "4.  Déterminer le nombre de caractères qu’on peut coder sur un octet.\n"
   ]
  },
  {
   "cell_type": "markdown",
   "metadata": {},
   "source": [
    "<div class=\"alert alert-warning\">\n",
    "__Corrigé__ : \n",
    "\n",
    "1.  En binaire le nombre d’écriture décimale 49 s'écrit $110001$.\n",
    "2. Le nombre dont l’écriture en base deux est $1010110$ a pour écriture décimale $86$.\n",
    "3.  Déterminer le successeur en base deux des entiers :\n",
    "      - $111$ a pour successeur $1000$\n",
    "      - $10011$ a pour successeur $10100$\n",
    "      - $10111$ a pour successeur $11000$\n",
    "4.  Sur un octet, soit $8$ bits, on peut code $2^{8}=256$ caractères.\n"
   ]
  },
  {
   "cell_type": "code",
   "execution_count": 30,
   "metadata": {},
   "outputs": [
    {
     "data": {
      "text/plain": [
       "'0b110001'"
      ]
     },
     "execution_count": 30,
     "metadata": {},
     "output_type": "execute_result"
    }
   ],
   "source": [
    "bin(49)"
   ]
  },
  {
   "cell_type": "code",
   "execution_count": 31,
   "metadata": {},
   "outputs": [
    {
     "data": {
      "text/plain": [
       "86"
      ]
     },
     "execution_count": 31,
     "metadata": {},
     "output_type": "execute_result"
    }
   ],
   "source": [
    "0b1010110"
   ]
  },
  {
   "cell_type": "markdown",
   "metadata": {},
   "source": [
    " <div class=\"alert alert-info\">\n",
    " \n",
    "## Exercice 41\n",
    "\n",
    "\n",
    "\n",
    "On souhaite convertir 25 de base 10 en base 2.\n",
    "On obtient en binaire :\n",
    "\n",
    "Réponses :\n",
    "\n",
    "1.    11001\n",
    "2.    10110\n",
    "3.    10011\n",
    "4.    11000"
   ]
  },
  {
   "cell_type": "markdown",
   "metadata": {},
   "source": [
    "<div class=\"alert alert-warning\">\n",
    "__Corrigé__ : Réponse 1\n"
   ]
  },
  {
   "cell_type": "code",
   "execution_count": 32,
   "metadata": {},
   "outputs": [
    {
     "data": {
      "text/plain": [
       "'0b11001'"
      ]
     },
     "execution_count": 32,
     "metadata": {},
     "output_type": "execute_result"
    }
   ],
   "source": [
    "bin(25)"
   ]
  },
  {
   "cell_type": "markdown",
   "metadata": {},
   "source": [
    " <div class=\"alert alert-info\">\n",
    " \n",
    "## Exercice 42\n",
    "\n",
    "\n",
    "Quelle est la valeur affichée par l’exécution du test suivant ?\n",
    "\n",
    "``` python\n",
    "In [1]: 0.1 + 0.2 == 0.3              \n",
    "                                                                                                                                                                         \n",
    "Out[1]: False\n",
    "```\n",
    "\n",
    "Réponses :\n",
    "\n",
    "1.  `True`\n",
    "2.  `False`\n",
    "3.  0.3"
   ]
  },
  {
   "cell_type": "markdown",
   "metadata": {},
   "source": [
    "<div class=\"alert alert-warning\">\n",
    "__Corrigé__ : Réponse 22. Les décimaux `0.1`, `0.2` et `0.3` sont représentés de façon approchée"
   ]
  },
  {
   "cell_type": "code",
   "execution_count": 33,
   "metadata": {},
   "outputs": [],
   "source": [
    "import decimal"
   ]
  },
  {
   "cell_type": "code",
   "execution_count": 40,
   "metadata": {},
   "outputs": [
    {
     "data": {
      "text/plain": [
       "Decimal('0.1000000000000000055511151231257827021181583404541015625')"
      ]
     },
     "execution_count": 40,
     "metadata": {},
     "output_type": "execute_result"
    }
   ],
   "source": [
    "decimal.Decimal.from_float(0.1)"
   ]
  },
  {
   "cell_type": "code",
   "execution_count": 41,
   "metadata": {},
   "outputs": [
    {
     "data": {
      "text/plain": [
       "Decimal('0.200000000000000011102230246251565404236316680908203125')"
      ]
     },
     "execution_count": 41,
     "metadata": {},
     "output_type": "execute_result"
    }
   ],
   "source": [
    "decimal.Decimal.from_float(0.2)"
   ]
  },
  {
   "cell_type": "code",
   "execution_count": 42,
   "metadata": {},
   "outputs": [
    {
     "data": {
      "text/plain": [
       "Decimal('0.299999999999999988897769753748434595763683319091796875')"
      ]
     },
     "execution_count": 42,
     "metadata": {},
     "output_type": "execute_result"
    }
   ],
   "source": [
    "decimal.Decimal.from_float(0.3)"
   ]
  },
  {
   "cell_type": "markdown",
   "metadata": {},
   "source": [
    " <div class=\"alert alert-info\">\n",
    " \n",
    "## Exercice 43\n",
    "\n",
    "\n",
    "\n",
    "Combien de bits sont nécessaires pour représenter 15 en binaire ?\n",
    "\n",
    "Réponses :\n",
    "\n",
    "1.  2\n",
    "2.  3\n",
    "3.  4\n",
    "4.  5\n",
    "\n"
   ]
  },
  {
   "cell_type": "markdown",
   "metadata": {},
   "source": [
    "<div class=\"alert alert-warning\">\n",
    "__Corrigé__ :  $2^{3} \\leqslant 15 < 2^{4}$ donc il faut $4$ bits pour représenter le décimal $15$ en binaire."
   ]
  },
  {
   "cell_type": "markdown",
   "metadata": {},
   "source": [
    " <div class=\"alert alert-info\">\n",
    " \n",
    "## Exercice 44\n",
    "\n",
    "\n",
    "Quelle est la valeur affichée a l’exécution du programme Python suivant\n",
    "?\n",
    "\n",
    "``` python\n",
    "x = 1 \n",
    "for i in range(11): \n",
    "    x = x * 2 \n",
    "print(x)\n",
    "```\n",
    "\n",
    "Réponses :\n",
    "\n",
    "1.  1024\n",
    "2.  2048\n",
    "3.  23\n",
    "4.  $2^{2^{11}}$"
   ]
  },
  {
   "cell_type": "markdown",
   "metadata": {},
   "source": [
    "<div class=\"alert alert-warning\">\n",
    "__Corrigé__ :  $2^{3} \\leqslant 15 < 2^{4}$ donc il faut $4$ bits pour représenter le décimal $15$ en binaire."
   ]
  },
  {
   "cell_type": "markdown",
   "metadata": {},
   "source": [
    " <div class=\"alert alert-info\">\n",
    " \n",
    "## Exercice 45\n",
    "\n",
    "\n",
    "\n",
    "\n",
    "Quelle est la valeur affchée a l’exécution du programme Python suivant \n",
    "?\n",
    "\n",
    "``` python\n",
    "x = 2 \n",
    "for i in range(10): \n",
    "    x = x ** 2 \n",
    "print(x)\n",
    "```\n",
    "\n",
    "Réponses :\n",
    "\n",
    "1.  1024\n",
    "2.  2048\n",
    "3.  $2^{2^{10}}$\n",
    "4.  $2^{2^{11}}$"
   ]
  },
  {
   "cell_type": "markdown",
   "metadata": {},
   "source": [
    "<div class=\"alert alert-warning\">\n",
    "__Corrigé__ : Réponse 3 $2^{2^{10}}$"
   ]
  },
  {
   "cell_type": "code",
   "execution_count": 44,
   "metadata": {},
   "outputs": [
    {
     "name": "stdout",
     "output_type": "stream",
     "text": [
      "True\n"
     ]
    }
   ],
   "source": [
    "x = 2 \n",
    "for i in range(10): \n",
    "    x = x ** 2 \n",
    "print(x == 2 ** (2 ** 10))"
   ]
  },
  {
   "cell_type": "markdown",
   "metadata": {},
   "source": [
    " <div class=\"alert alert-info\">\n",
    " \n",
    "## Exercice 46\n",
    "\n",
    "\n",
    "\n",
    "\n",
    "1.  Convertir 3970 en base 6.\n",
    "2.  Convertir en base dix l’entier naturel dont l’écriture en base six  est 4321.\n",
    "3.  Écrire en Python une fonction `base6(L)` qui renvoie la valeur\n",
    "    entière correspondant à la liste des chiffres de l’écriture en base     6.\n",
    "\n",
    "Exemple : `base6([1, 3, 2])` doit renvoyer 56 car $1 \\times 6^{2} + 3 \\times 6 + 2 = 56$"
   ]
  },
  {
   "cell_type": "markdown",
   "metadata": {},
   "source": [
    "<div class=\"alert alert-warning\">\n",
    "__Corrigé__ : \n",
    "\n",
    "1.  Le décimal 3970 s'écrit 30214 en base 6.\n",
    "2.  L'entier dont  l'écriture en base six  est 4321, s'écrit 985 en base dix.\n",
    "3.  Voir ci-dessous."
   ]
  },
  {
   "cell_type": "code",
   "execution_count": 47,
   "metadata": {},
   "outputs": [],
   "source": [
    "def base10To6(n):\n",
    "    \"\"\"Convertit un décimal en base 6\"\"\"\n",
    "    dec = []\n",
    "    while n >= 6:\n",
    "        dec.append(n % 6)\n",
    "        n = n // 6\n",
    "    dec.append(n % 6)\n",
    "    return dec[::-1]"
   ]
  },
  {
   "cell_type": "code",
   "execution_count": 48,
   "metadata": {},
   "outputs": [
    {
     "data": {
      "text/plain": [
       "[4, 3, 2, 1]"
      ]
     },
     "execution_count": 48,
     "metadata": {},
     "output_type": "execute_result"
    }
   ],
   "source": [
    "base10To6(985)"
   ]
  },
  {
   "cell_type": "code",
   "execution_count": 49,
   "metadata": {},
   "outputs": [
    {
     "data": {
      "text/plain": [
       "[3, 0, 2, 1, 4]"
      ]
     },
     "execution_count": 49,
     "metadata": {},
     "output_type": "execute_result"
    }
   ],
   "source": [
    "base10To6(3970)"
   ]
  },
  {
   "cell_type": "code",
   "execution_count": 45,
   "metadata": {},
   "outputs": [],
   "source": [
    "def base6(L):\n",
    "    n = 0\n",
    "    for c in L:\n",
    "        n = 6 * n + c\n",
    "    return n"
   ]
  },
  {
   "cell_type": "code",
   "execution_count": 46,
   "metadata": {},
   "outputs": [
    {
     "data": {
      "text/plain": [
       "985"
      ]
     },
     "execution_count": 46,
     "metadata": {},
     "output_type": "execute_result"
    }
   ],
   "source": [
    "base6([4,3,2,1])"
   ]
  },
  {
   "cell_type": "markdown",
   "metadata": {},
   "source": [
    " <div class=\"alert alert-info\">\n",
    " \n",
    "## Exercice 47\n",
    "\n",
    "\n",
    "1. Pour déterminer la liste des chiffres en base dix d'un entier naturel, un élève a écrit la fonction ci-dessous :\n",
    "    ~~~python\n",
    "    def liste_chiffres(n):\n",
    "        L = [n % 10]\n",
    "        while n > 0:\n",
    "            n = n // 10\n",
    "            L.insert(0, n % 10)\n",
    "        return L\n",
    "    ~~~\n",
    "\n",
    "    Malheureusement sa fonction ne retourne pas le résultat attendu pour l'entier $730$ :\n",
    "\n",
    "    ~~~python\n",
    "    >>> liste_chiffres(730)\n",
    "    [0, 7, 3, 0]\n",
    "    ~~~\n",
    "\n",
    "    Proposer une version corrigée de la fonction `liste_chiffres`.\n",
    "\n",
    "2. Compléter la fonction `somme_chiffres_base2(n)` pour qu'elle  retourne la somme des chiffres en base deux de l'entier `n` passé en paramètre. \n",
    "\n",
    "    ~~~python\n",
    "    def somme_chiffres_base2(n):\n",
    "        s = 0\n",
    "        while n > 0:\n",
    "            s = s + n % 2\n",
    "            ..............\n",
    "        return s\n",
    "    ~~~\n",
    "\n",
    "3. Déterminer une valeur possible de la variable `secret` telle que :\n",
    "\n",
    "    ~~~python\n",
    "    >>> somme_chiffres_base2(secret)\n",
    "    734\n",
    "    ~~~\n",
    "\n",
    "4. Écrire une fonction `maximum_chiffre(n)` qui retourne le plus grand chiffre de l'écriture en base dix de l'entier naturel  `n`  passé en paramètre. "
   ]
  },
  {
   "cell_type": "markdown",
   "metadata": {},
   "source": [
    "<div class=\"alert alert-warning\">\n",
    "__Corrigé__ : \n",
    "\n",
    "1. Voir ci-dessous.\n",
    "2. Voir ci-dessous.\n",
    "3. Il suffit de prendre le nombre avec $734$ fois le chiffre $1$ dans son écriture binaire qui est $2^{734}-1$ en décimal."
   ]
  },
  {
   "cell_type": "code",
   "execution_count": 51,
   "metadata": {},
   "outputs": [],
   "source": [
    "def liste_chiffres(n): \n",
    "        L = [n % 10]\n",
    "        while n >= 10:\n",
    "            n = n // 10 \n",
    "            L.insert(0, n % 10)\n",
    "        return L"
   ]
  },
  {
   "cell_type": "code",
   "execution_count": 52,
   "metadata": {},
   "outputs": [
    {
     "data": {
      "text/plain": [
       "[7, 3, 0]"
      ]
     },
     "execution_count": 52,
     "metadata": {},
     "output_type": "execute_result"
    }
   ],
   "source": [
    "liste_chiffres(730)"
   ]
  },
  {
   "cell_type": "code",
   "execution_count": 53,
   "metadata": {},
   "outputs": [],
   "source": [
    "def somme_chiffres_base2(n):\n",
    "     s = 0\n",
    "     while n > 0:\n",
    "         s = s + n % 2\n",
    "         n = n // 2\n",
    "     return s\n"
   ]
  },
  {
   "cell_type": "code",
   "execution_count": 54,
   "metadata": {},
   "outputs": [
    {
     "data": {
      "text/plain": [
       "734"
      ]
     },
     "execution_count": 54,
     "metadata": {},
     "output_type": "execute_result"
    }
   ],
   "source": [
    "somme_chiffres_base2(2 ** 734 - 1)"
   ]
  },
  {
   "cell_type": "code",
   "execution_count": 57,
   "metadata": {},
   "outputs": [],
   "source": [
    "def maximum_chiffre(n):\n",
    "    \"\"\"Plus grand chiffre en base 10\"\"\"\n",
    "    cmax = 0\n",
    "    while n > 0:\n",
    "        c = n % 10\n",
    "        if c > cmax:\n",
    "            cmax = c\n",
    "        n = n // 10\n",
    "    return cmax    "
   ]
  },
  {
   "cell_type": "code",
   "execution_count": 58,
   "metadata": {},
   "outputs": [
    {
     "data": {
      "text/plain": [
       "7"
      ]
     },
     "execution_count": 58,
     "metadata": {},
     "output_type": "execute_result"
    }
   ],
   "source": [
    "maximum_chiffre(40756)"
   ]
  },
  {
   "cell_type": "markdown",
   "metadata": {},
   "source": [
    " <div class=\"alert alert-info\">\n",
    " \n",
    "## Exercice 48\n",
    "\n",
    "\n",
    "\n",
    "Le nombre de chiffres en base $2$ d'un entier naturel $n$ est :\n",
    "\n",
    "* $1$ si $n$ est égal à $0$ ;\n",
    "* l'unique entier $p$ tel que $2^{p-1} \\leqslant n < 2^{p}$ si $n$ supérieur à $0$.\n",
    "\n",
    "Compléter la fonction ci-dessous pour qu'elle retourne le nombre de chiffres en base $2$ de l'entier `n` passé en paramètres. \n",
    "\n",
    "~~~python\n",
    "def nbchiffres_base2(n):\n",
    "\tif n == 0:\n",
    "\t\treturn 1\n",
    "    nbchiffre = 1\n",
    "    puissance = 1\n",
    "    while ..............:\n",
    "        .........................\n",
    "        .........................\n",
    "    return ......................\n",
    "~~~"
   ]
  },
  {
   "cell_type": "markdown",
   "metadata": {},
   "source": [
    "<div class=\"alert alert-warning\">\n",
    "__Corrigé__ : voir ci-dessous."
   ]
  },
  {
   "cell_type": "code",
   "execution_count": 66,
   "metadata": {},
   "outputs": [],
   "source": [
    "def nbchiffres_base2(n):\n",
    "    if n == 0:\n",
    "        return 1\n",
    "    nbchiffre = 1\n",
    "    puissance = 1\n",
    "    while puissance <= n:\n",
    "        puissance = puissance * 2\n",
    "        nbchiffre = nbchiffre + 1\n",
    "    return nbchiffre - 1"
   ]
  },
  {
   "cell_type": "code",
   "execution_count": 67,
   "metadata": {},
   "outputs": [
    {
     "data": {
      "text/plain": [
       "[(0, 1), (1, 1), (2, 2), (3, 2), (4, 3), (5, 3), (6, 3), (7, 3), (8, 4)]"
      ]
     },
     "execution_count": 67,
     "metadata": {},
     "output_type": "execute_result"
    }
   ],
   "source": [
    "[(n,nbchiffres_base2(n)) for n in range(0, 9)]"
   ]
  },
  {
   "cell_type": "markdown",
   "metadata": {},
   "source": [
    " <div class=\"alert alert-info\">\n",
    " \n",
    "## Exercice 49\n",
    "\n",
    "\n",
    "\n",
    "En 1945, John Von Neumann a décrit un modèle d’architecture qui est\n",
    "encore valable pour les ordinateurs actuels. Quelles sont les entités de ce modèle et comment communiquent-elles ?"
   ]
  },
  {
   "cell_type": "markdown",
   "metadata": {},
   "source": [
    "<div class=\"alert alert-warning\">\n",
    "__Corrigé__ : \n",
    "\n",
    "Le modèle de Von Neumann est constitué de quatre entités :\n",
    "\n",
    "* l'unité centrale composée de l'unité de calcul (unité arithmétique et logique) et de l'unité de commande\n",
    "* la mémoire\n",
    "* les périphériques\n",
    "\n",
    "Ces entités communiquent par des liaisons  appelées bus.\n",
    "\n",
    "![\"Modèle de Von Neumann\"](Von_Neumann_architecture_fr.svg.png)"
   ]
  },
  {
   "cell_type": "markdown",
   "metadata": {},
   "source": [
    " <div class=\"alert alert-info\">\n",
    " \n",
    "## Exercice 50\n",
    "\n",
    "\n",
    "\n",
    "Parmi les quatre expressions suivantes, laquelle s'évalue en True ?\n",
    "\n",
    "Réponses :\n",
    "\n",
    "1.  **Réponse 1 :** `False and (True and False)`\n",
    "\n",
    "2.  **Réponse 2 :** `False or (True and False)`\n",
    "\n",
    "3.  **Réponse 3 :** `True and (True and False)`\n",
    "\n",
    "4.  **Réponse 4 :** `True or (True and False)`\n"
   ]
  },
  {
   "cell_type": "markdown",
   "metadata": {},
   "source": [
    "<div class=\"alert alert-warning\">\n",
    "__Corrigé__ : La réponse est la 4."
   ]
  },
  {
   "cell_type": "code",
   "execution_count": 17,
   "metadata": {},
   "outputs": [
    {
     "name": "stdout",
     "output_type": "stream",
     "text": [
      "Valeur booléenne de  False and (True and False)  =  False\n",
      "Valeur booléenne de  False or (True and False)  =  False\n",
      "Valeur booléenne de  True and (True and False)  =  False\n",
      "Valeur booléenne de  True or (True and False)  =  True\n"
     ]
    }
   ],
   "source": [
    "for exp in ['False and (True and False)', 'False or (True and False)','True and (True and False)','True or (True and False)']:\n",
    "    print(\"Valeur booléenne de \", exp, \" = \", eval(exp))"
   ]
  },
  {
   "cell_type": "markdown",
   "metadata": {},
   "source": [
    " <div class=\"alert alert-info\">\n",
    "\n",
    "T est un tableau de nombres entiers non vide. Que représente la valeur\n",
    "de s renvoyée par cette fonction ?\n",
    "\n",
    "``` python\n",
    "def mystere(T):\n",
    "    s = 0\n",
    "    for k in T:\n",
    "        if k % 2 == 0:\n",
    "            s = s+k\n",
    "    return s\n",
    "```\n",
    "\n",
    "Réponses :\n",
    "\n",
    "1.  **Réponse 1 :** la somme des valeurs du tableau T\n",
    "\n",
    "2.  **Réponse 2 :** la somme des valeurs positives du tableau T\n",
    "\n",
    "3.  **Réponse 3 :** la somme des valeurs impaires du tableau T\n",
    "\n",
    "4.  **Réponse 4 :** la somme des valeurs paires du tableau T"
   ]
  },
  {
   "cell_type": "markdown",
   "metadata": {},
   "source": [
    "<div class=\"alert alert-warning\">\n",
    "__Corrigé__ : La réponse est la 4."
   ]
  },
  {
   "cell_type": "code",
   "execution_count": 21,
   "metadata": {},
   "outputs": [],
   "source": [
    "def mystere(T):\n",
    "    s = 0\n",
    "    for k in T:\n",
    "        if k % 2 == 0:\n",
    "            s = s+k\n",
    "    return s\n",
    "\n",
    "assert mystere([1, 2, 5, 4]) == 6, \"mystere([1, 2,5, 4]) doit être égal à 6\""
   ]
  },
  {
   "cell_type": "markdown",
   "metadata": {},
   "source": [
    " <div class=\"alert alert-info\">\n",
    " \n",
    "## Exercice 51\n",
    "\n",
    "\n",
    "\n",
    "Sachant que l'expression `not(a or b)` a la valeur `True`, quelles peuvent\n",
    "être les valeurs des variables booléennes a et b ?\n",
    "\n",
    "Réponses :\n",
    "\n",
    "1. `True` et `True`\n",
    "2. `False` et `True`\n",
    "3. `True` et `False`\n",
    "4. `False` et `False`"
   ]
  },
  {
   "cell_type": "markdown",
   "metadata": {},
   "source": [
    "<div class=\"alert alert-warning\">\n",
    "__Corrigé__ : La réponse est la 4. Si `not(a or b)` a la valeur `True` alors `a or b` a la valeur `False` et ceci n'est possible que si `a` et `b` ont la valeur `False`."
   ]
  },
  {
   "cell_type": "markdown",
   "metadata": {},
   "source": [
    " <div class=\"alert alert-info\">\n",
    " \n",
    "## Exercice 52\n",
    "\n",
    "\n",
    "\n",
    "Sachant que l'expression `not(a or b)` a la valeur `True`, quelles peuvent\n",
    "être les valeurs des variables booléennes a et b ?\n",
    "\n",
    "Réponses :\n",
    "\n",
    "1. `True` et `True`\n",
    "2. `False` et `True`\n",
    "3. `True` et `False`\n",
    "4. `False` et `False`"
   ]
  },
  {
   "cell_type": "markdown",
   "metadata": {},
   "source": [
    "<div class=\"alert alert-warning\">\n",
    "__Corrigé__ : La réponse est la 4. Si `not(a or b)` a la valeur `True` alors `a or b` a la valeur `False` et ceci n'est possible que si `a` et `b` ont la valeur `False`."
   ]
  },
  {
   "cell_type": "markdown",
   "metadata": {},
   "source": [
    " <div class=\"alert alert-info\">\n",
    " \n",
    "## Exercice 52\n",
    "\n",
    "\n",
    "A quelle expression logique correspond cette table de vérité ?\n",
    "\n",
    "| A | B | f(A, B) |\n",
    "| :-: | - | ------- |\n",
    "| 0 | 0 | 1       |\n",
    "| 0 | 1 | 1       |\n",
    "| 1 | 0 | 1       |\n",
    "| 1 | 1 | 0       |\n"
   ]
  },
  {
   "cell_type": "markdown",
   "metadata": {},
   "source": [
    "<div class=\"alert alert-warning\">\n",
    "__Corrigé__ :  f(A, B) = NON(A ET B)"
   ]
  },
  {
   "cell_type": "markdown",
   "metadata": {},
   "source": [
    " <div class=\"alert alert-info\">\n",
    " \n",
    "## Exercice 53\n",
    "\n",
    "\n",
    "A quelle expression logique correspond cette table de vérité ?\n",
    "\n",
    "| A | B | f(A, B) |\n",
    "| :-: | - | ------- |\n",
    "| 0 | 0 | 0       |\n",
    "| 0 | 1 | 0       |\n",
    "| 1 | 0 | 0       |\n",
    "| 1 | 1 | 1       |"
   ]
  },
  {
   "cell_type": "markdown",
   "metadata": {},
   "source": [
    "<div class=\"alert alert-warning\">\n",
    "__Corrigé__ :  f(A, B) = A ET B"
   ]
  },
  {
   "cell_type": "markdown",
   "metadata": {},
   "source": [
    " <div class=\"alert alert-info\">\n",
    " \n",
    "## Exercice 54\n",
    "\n",
    "\n",
    "A quelle expression logique correspond cette table de vérité ?\n",
    "\n",
    "| A | B | f(A, B) |\n",
    "| :-: | - | ------- |\n",
    "| 0 | 0 | 0       |\n",
    "| 0 | 1 | 1       |\n",
    "| 1 | 0 | 1       |\n",
    "| 1 | 1 | 1       |"
   ]
  },
  {
   "cell_type": "markdown",
   "metadata": {},
   "source": [
    "<div class=\"alert alert-warning\">\n",
    "__Corrigé__ :  f(A, B) = A OU B"
   ]
  },
  {
   "cell_type": "markdown",
   "metadata": {},
   "source": [
    " <div class=\"alert alert-info\">\n",
    " \n",
    "## Exercice 55\n",
    "\n",
    "\n",
    "A quelle expression logique correspond cette table de vérité ?\n",
    "\n",
    "| A | B | f(A, B) |\n",
    "| :-: | - | ------- |\n",
    "| 0 | 0 | 0       |\n",
    "| 0 | 1 | 1       |\n",
    "| 1 | 0 | 1       |\n",
    "| 1 | 1 | 0       |"
   ]
  },
  {
   "cell_type": "markdown",
   "metadata": {},
   "source": [
    "<div class=\"alert alert-warning\">\n",
    "__Corrigé__ :  f(A, B) = (NON(A) ET B) OU (A ET NON(B))"
   ]
  },
  {
   "cell_type": "markdown",
   "metadata": {},
   "source": [
    " <div class=\"alert alert-info\">\n",
    " \n",
    "## Exercice 56\n",
    "\n",
    "\n",
    "Choisir une expression booléenne pour la variable S qui satisfait la\n",
    "table de vérité suivante.\n",
    "\n",
    "| A | B | S |\n",
    "| :- | :- | :- |\n",
    "| 0 | 0 | 1 |\n",
    "| 0 | 1 | 0 |\n",
    "| 1 | 0 | 1 |\n",
    "| 1 | 1 | 1 |\n",
    "\n",
    "Réponse :\n",
    "\n",
    "1.  A ou (non B)\n",
    "2.  (non A) ou B\n",
    "3.  (non A) ou (non B)\n",
    "4.  non (A ou B)"
   ]
  },
  {
   "cell_type": "markdown",
   "metadata": {},
   "source": [
    "<div class=\"alert alert-warning\">\n",
    "__Corrigé__ :  f(A, B) = (NON(A) ET B) OU (A ET NON(B))"
   ]
  },
  {
   "cell_type": "markdown",
   "metadata": {},
   "source": [
    " <div class=\"alert alert-info\">\n",
    " \n",
    "## Exercice 57\n",
    "\n",
    "\n",
    "T est un tableau de nombres entiers non vide. Que représente la valeur\n",
    "de s renvoyée par cette fonction ?\n",
    "\n",
    "``` python\n",
    "def mystere(T):\n",
    "    s = 0\n",
    "    for k in T:\n",
    "        if k % 2 == 0:\n",
    "            s = s+k\n",
    "    return s\n",
    "```\n",
    "\n",
    "\n",
    "Réponses :\n",
    "\n",
    "1.  **Réponse 1 :** la somme des valeurs du tableau T\n",
    "\n",
    "2.  **Réponse 2 :** la somme des valeurs positives du tableau T\n",
    "\n",
    "3.  **Réponse 3 :** la somme des valeurs impaires du tableau T\n",
    "\n",
    "4.  **Réponse 4 :** la somme des valeurs paires du tableau T"
   ]
  },
  {
   "cell_type": "markdown",
   "metadata": {},
   "source": [
    "<div class=\"alert alert-warning\">\n",
    "__Corrigé__ :   Réponse 4"
   ]
  },
  {
   "cell_type": "code",
   "execution_count": 68,
   "metadata": {},
   "outputs": [],
   "source": [
    "def mystere(T):\n",
    "    s = 0\n",
    "    for k in T:\n",
    "        if k % 2 == 0:\n",
    "            s = s+k\n",
    "    return s"
   ]
  },
  {
   "cell_type": "code",
   "execution_count": 69,
   "metadata": {},
   "outputs": [
    {
     "data": {
      "text/plain": [
       "6"
      ]
     },
     "execution_count": 69,
     "metadata": {},
     "output_type": "execute_result"
    }
   ],
   "source": [
    "mystere([0,1,2,3,4])"
   ]
  },
  {
   "cell_type": "markdown",
   "metadata": {},
   "source": [
    " <div class=\"alert alert-info\">\n",
    " \n",
    "## Exercice 58\n",
    "\n",
    "Soit $n$ un entier naturel. Sa factorielle est le produit des nombres\n",
    "entiers strictement positifs qui sont plus petits ou égaux à $n$. Par\n",
    "exemple la factorielle de 4 vaut $1 \\times 2 \\times 3 \\times 4 = 24$.\n",
    "\n",
    "Quelle est la fonction correcte parmi les suivantes ?\n",
    "\n",
    "Réponses :\n",
    "\n",
    "1. __Réponse 1 :__ \n",
    "    ~~~python\n",
    "    def factorielle(n):\n",
    "        i = 0\n",
    "        fact = 1\n",
    "        while i <= n:\n",
    "            fact = fact * i\n",
    "            i = i + 1\n",
    "        return fact\n",
    "    ~~~\n",
    "\n",
    "2. __Réponse 2 :__ \n",
    "    ~~~python\n",
    "    def factorielle(n):\n",
    "        i = 1\n",
    "        fact = 1\n",
    "        while i < n:\n",
    "            fact = fact * i\n",
    "            i = i + 1\n",
    "        return fact\n",
    "    ~~~\n",
    "\n",
    "3. __Réponse 3 :__  \n",
    "    ~~~python\n",
    "    def factorielle(n):\n",
    "        i = 0\n",
    "        fact = 1\n",
    "        while i < n:\n",
    "            i = i + 1\n",
    "            fact = fact * i\n",
    "        return fact\n",
    "    ~~~\n",
    "\n",
    "4. __Réponse 4 :__\n",
    "    ~~~python\n",
    "    def factorielle(n):\n",
    "        i = 0\n",
    "        fact = 1\n",
    "        while i <= n:\n",
    "            i = i + 1\n",
    "            fact = fact * i\n",
    "        return fact\n",
    "    ~~~"
   ]
  },
  {
   "cell_type": "markdown",
   "metadata": {},
   "source": [
    "<div class=\"alert alert-warning\">\n",
    "__Corrigé__ :   Réponse 3"
   ]
  },
  {
   "cell_type": "code",
   "execution_count": 71,
   "metadata": {},
   "outputs": [
    {
     "data": {
      "text/plain": [
       "[True, True, True, True, True, True, True, True, True, True]"
      ]
     },
     "execution_count": 71,
     "metadata": {},
     "output_type": "execute_result"
    }
   ],
   "source": [
    "from math import factorial\n",
    "\n",
    "def factorielle(n):\n",
    "     i = 0\n",
    "     fact = 1\n",
    "     while i < n:\n",
    "         i = i + 1\n",
    "         fact = fact * i\n",
    "     return fact\n",
    "\n",
    "[factorial(n) == factorielle(n) for n in range(0, 10)]"
   ]
  },
  {
   "cell_type": "markdown",
   "metadata": {},
   "source": [
    " <div class=\"alert alert-info\">\n",
    " \n",
    "## Exercice 59\n",
    "\n",
    "Écrire une fonction `min2(a, b)` qui retourne le minimum de deux nombres passés en\n",
    "paramètre, sans utiliser la fonction `min` du module `builtins`."
   ]
  },
  {
   "cell_type": "markdown",
   "metadata": {},
   "source": [
    "<div class=\"alert alert-warning\">\n",
    "__Corrigé__ :   Ci-dessous"
   ]
  },
  {
   "cell_type": "code",
   "execution_count": 72,
   "metadata": {},
   "outputs": [],
   "source": [
    "def min2(a, b):\n",
    "    if a < b:\n",
    "        return a\n",
    "    else:\n",
    "        return b"
   ]
  },
  {
   "cell_type": "markdown",
   "metadata": {},
   "source": [
    " <div class=\"alert alert-info\">\n",
    " \n",
    "## Exercice 60\n",
    "\n",
    "En voulant programmer une fonction qui calcule la valeur minimale d'une liste d'entiers, on a écrit :\n",
    "\n",
    "~~~python\n",
    "def minimum(L):\n",
    "    mini = 0\n",
    "    for e in L:\n",
    "        if e < mini:\n",
    "            mini = e\n",
    "    return mini\n",
    "~~~\n",
    "\n",
    "Cette fonction a été mal programmée. Pour quelle liste ne donnera-t-elle\n",
    "pas le résultat attendu, c'est-à-dire son minimum ?\n",
    "\n",
    "Réponses :\n",
    "\n",
    "1. __Réponse 1 :__  `[-1,-8,12,2,23]`\n",
    "2. __Réponse 2:__   `[0,18,12,2,3]`\n",
    "3. __Réponse 3:__   `[-1,-1,12,12,23]`\n",
    "4. __Réponse 4:__   `[1,8,12,2,23]`"
   ]
  },
  {
   "cell_type": "markdown",
   "metadata": {},
   "source": [
    "<div class=\"alert alert-warning\">\n",
    "__Corrigé__ :   Pour une liste d'éléments tous strictement positifs, comme celle de la réponse 4, la fonction retournera 0. Il aurait fallu initialiser `mini` avec `L[0]`."
   ]
  },
  {
   "cell_type": "markdown",
   "metadata": {},
   "source": [
    " <div class=\"alert alert-info\">\n",
    " \n",
    "## Exercice 61\n",
    "\n",
    "Écrire une fonction `min_liste(L)` qui retourne le minimum d’une liste de nombres passée\n",
    "en paramètre."
   ]
  },
  {
   "cell_type": "markdown",
   "metadata": {},
   "source": [
    "<div class=\"alert alert-warning\">\n",
    "__Corrigé__ :   voir ci-dessous."
   ]
  },
  {
   "cell_type": "code",
   "execution_count": 73,
   "metadata": {},
   "outputs": [],
   "source": [
    "def min_liste(L):\n",
    "    mini = L[0]\n",
    "    for k in range(1, len(L)):\n",
    "        if L[k] < mini :\n",
    "            mini = L[k]\n",
    "    return mini  "
   ]
  },
  {
   "cell_type": "markdown",
   "metadata": {},
   "source": [
    " <div class=\"alert alert-info\">\n",
    " \n",
    "## Exercice 62\n",
    "\n",
    "Quelle est la valeur de element à la fin de l’exécution du code suivant\n",
    ":\n",
    "\n",
    "``` python\n",
    "L = [1,2,3,4,1,2,3,4,0,2]\n",
    "element = L[0]\n",
    "for k in L:\n",
    "    if k > element:\n",
    "        element = k\n",
    "```\n",
    "\n",
    "1.  **Réponse 1 :** 0\n",
    "2.  **Réponse 2:** 1\n",
    "3.  **Réponse 3:** 4\n",
    "4.  **Réponse 4:** 10\n"
   ]
  },
  {
   "cell_type": "markdown",
   "metadata": {},
   "source": [
    "<div class=\"alert alert-warning\">\n",
    "__Corrigé__ :  la réponse est 4, le maximum de la liste `L`."
   ]
  },
  {
   "cell_type": "markdown",
   "metadata": {},
   "source": [
    " <div class=\"alert alert-info\">\n",
    " \n",
    "## Exercice 63\n",
    "\n",
    "Un élève a écrit la fonction ci-dessus pour déterminer si le premier\n",
    "paramètre n est dans la liste L passée en second paramètre. Le\n",
    "professeur lui indique que son code comporte des erreurs. Proposer une\n",
    "version corrigée de cette fonction.\n",
    "\n",
    "``` python\n",
    "def element_dans_liste(n, L):\n",
    "    for k in range(len(L)):\n",
    "        if e == n:\n",
    "            return True\n",
    "        else:\n",
    "            return False\n",
    "```"
   ]
  },
  {
   "cell_type": "markdown",
   "metadata": {},
   "source": [
    "<div class=\"alert alert-warning\">\n",
    "__Corrigé__ :  voir ci-dessous."
   ]
  },
  {
   "cell_type": "code",
   "execution_count": null,
   "metadata": {},
   "outputs": [],
   "source": [
    "def element_dans_liste(n, L):\n",
    "    for k in range(len(L)):\n",
    "        if e == n:\n",
    "            return True\n",
    "        else:\n",
    "            return False"
   ]
  },
  {
   "cell_type": "markdown",
   "metadata": {},
   "source": [
    " <div class=\"alert alert-info\">\n",
    " \n",
    "## Exercice 64\n",
    "\n",
    "\n",
    "Pour chacune des listes ci-dessous, déterminer si l’algorithme le plus\n",
    "adapté pour qu’une machine y recherche une valeur est l’algorithme de\n",
    "recherche séquentielle ou l’algorithme de recherche dichotomique.\n",
    "\n",
    "1.  Liste A :\n",
    "    `[4, 6, 15, 20, 21, 26, 31, 41, 42, 50, 69, 87, 88, 92, 97]`\n",
    "2.  Liste B :\n",
    "    `[41, 97, 91, 59, 7, 45, 3, 96, 26, 32, 18, 11, 67, 74, 54]`\n"
   ]
  },
  {
   "cell_type": "markdown",
   "metadata": {},
   "source": [
    "<div class=\"alert alert-warning\">\n",
    "__Corrigé__ : \n",
    "\n",
    "* La liste A est triée dans l'ordre croissant donc on peut lui appliquer une recherche dichotomique qui est plus efficace que la recherche séquentielle\n",
    "* la liste B n'est pas ordonnée donc on ne peut pas lui appliquer une recherche dichotomique mais uniquement une recherche séquentielle"
   ]
  },
  {
   "cell_type": "markdown",
   "metadata": {},
   "source": [
    " <div class=\"alert alert-info\">\n",
    " \n",
    "## Exercice 65\n",
    "\n",
    "\n",
    "Compléter le code de la fonction `recherche_dicho_dec(x, L)` qui prend\n",
    "en paramètres un nombre `x` et une liste de nombres `L` triée dans\n",
    "l’ordre décroissant. Elle doit retourner `True` si `x` appartient à L\n",
    "et False sinon.\n",
    "\n",
    "``` python\n",
    "def recherche_dicho_dec(x, L):\n",
    "    a, b = 0, len(L) - 1\n",
    "    while a <= b:\n",
    "        m = (a + b) // 2\n",
    "        if L[m] > x:\n",
    "            ..................\n",
    "        elif L[m] < x:\n",
    "            ................\n",
    "        else:\n",
    "            .................\n",
    "    .........................\n",
    "```"
   ]
  },
  {
   "cell_type": "markdown",
   "metadata": {},
   "source": [
    "<div class=\"alert alert-warning\">\n",
    "__Corrigé__ :  voir ci-dessous"
   ]
  },
  {
   "cell_type": "code",
   "execution_count": 74,
   "metadata": {},
   "outputs": [],
   "source": [
    "def recherche_dicho_dec(x, L):\n",
    "    a, b = 0, len(L) - 1\n",
    "    while a <= b:\n",
    "        m = (a + b) // 2\n",
    "        if L[m] > x:\n",
    "            b = m - 1\n",
    "        elif L[m] < x:\n",
    "            a = m + 1\n",
    "        else:\n",
    "            return True\n",
    "    return False"
   ]
  },
  {
   "cell_type": "markdown",
   "metadata": {},
   "source": [
    " <div class=\"alert alert-info\">\n",
    " \n",
    "## Exercice 66\n",
    "\n",
    "\n",
    "*Auteur Sylvie Genre*\n",
    "\n",
    "La fonction suivante doit calculer la moyenne d’un tableau de nombres,\n",
    "passé en paramètre. Avec quelles expressions faut-il remplacer les\n",
    "points de suspension pour que la fonction soit correcte ?\n",
    "\n",
    "``` python\n",
    "def moyenne(tableau):\n",
    "    total = ...\n",
    "    for valeur in tableau:\n",
    "        total = total + valeur\n",
    "    return total / ...\n",
    "```\n",
    "\n",
    "Réponses :\n",
    "\n",
    "1.  **Réponse 1 :** 1 et `(len(tableau) + 1)`\n",
    "2.  **Réponse 2:** 0 et `(len(tableau) + 1)`\n",
    "3.  **Réponse 3:** 0 et `len(tableau)`"
   ]
  },
  {
   "cell_type": "markdown",
   "metadata": {},
   "source": [
    "<div class=\"alert alert-warning\">\n",
    "__Corrigé__ :  Réponse 3"
   ]
  },
  {
   "cell_type": "markdown",
   "metadata": {},
   "source": [
    " <div class=\"alert alert-info\">\n",
    " \n",
    "## Exercice 67\n",
    "\n",
    "\n",
    "On considère le code incomplet suivant qui recherche le maximum dans une\n",
    "liste.\n",
    "\n",
    "``` python\n",
    "liste = [5,12,15,3,15,17,29,1]\n",
    "iMax = 0\n",
    "for i in range(1,len(liste)):\n",
    "    .........\n",
    "iMax = i\n",
    "print (liste[iMax])\n",
    "```\n",
    "\n",
    "Par quoi faut-il remplacer la ligne pointillée ?\n",
    "\n",
    "Réponses :\n",
    "\n",
    "1.  **Réponse 1 :** `if i > iMax:`\n",
    "2.  **Réponse 2:** `if liste[i] > liste[iMax]:`\n",
    "3.  **Réponse 3:** `if liste[i] > iMax:`\n",
    "4.  **Réponse 4:** `if i > liste[iMax]:`\n"
   ]
  },
  {
   "cell_type": "markdown",
   "metadata": {},
   "source": [
    "<div class=\"alert alert-warning\">\n",
    "__Corrigé__ :  Réponse 32"
   ]
  },
  {
   "cell_type": "markdown",
   "metadata": {},
   "source": [
    " <div class=\"alert alert-info\">\n",
    " \n",
    "## Exercice 68\n",
    "\n",
    "\n",
    "Le protocole qui permet à un client de faire une requête de page Web auprès d'un serveur Web s'appelle :\n",
    "\n",
    "Réponses :\n",
    "\n",
    "1. Internet Protocol\n",
    "2. HTML\n",
    "3. HTTP\n",
    "4. SMTP\n",
    "5. WWW"
   ]
  },
  {
   "cell_type": "markdown",
   "metadata": {},
   "source": [
    "<div class=\"alert alert-warning\">\n",
    "__Corrigé__ :  Réponse 3  HTTP pour Hypertext Transfer Protocol"
   ]
  },
  {
   "cell_type": "markdown",
   "metadata": {},
   "source": [
    " <div class=\"alert alert-info\">\n",
    " \n",
    "## Exercice 69\n",
    "\n",
    "\n",
    "Si la page demandée n'est pas disponible, le serveur Web renvoie au client un code d'erreur : \n",
    "\n",
    "Réponses :\n",
    "\n",
    "1. 404\n",
    "   \n",
    "2. 504\n",
    "   \n",
    "3. 403\n",
    "   \n",
    "4. 503"
   ]
  },
  {
   "cell_type": "markdown",
   "metadata": {},
   "source": [
    "<div class=\"alert alert-warning\">\n",
    "__Corrigé__ :  Réponse 1  Erreur 404"
   ]
  },
  {
   "cell_type": "markdown",
   "metadata": {},
   "source": [
    " <div class=\"alert alert-info\">\n",
    " \n",
    "## Exercice 70\n",
    "\n",
    "\n",
    "L'inventeur du World Wide Web au CERN est   : \n",
    "\n",
    "Réponses :\n",
    "\n",
    "1. Tim Berners-Lee\n",
    "   \n",
    "2. Ted Nelson\n",
    "   \n",
    "3. Louis Pouzin\n",
    "   \n",
    "4. Vinton Cerf"
   ]
  },
  {
   "cell_type": "markdown",
   "metadata": {},
   "source": [
    "<div class=\"alert alert-warning\">\n",
    "__Corrigé__ :  Réponse 1  Tim Berners-Lee"
   ]
  },
  {
   "cell_type": "markdown",
   "metadata": {},
   "source": [
    " <div class=\"alert alert-info\">\n",
    " \n",
    "## Exercice 71\n",
    "\n",
    "\n",
    "Dans le fichier source d'une page Web, le code qui permet de créer un lien hypertexte vers la page [https://www.w3schools.com/](https://www.w3schools.com/) est :\n",
    "\n",
    "Réponses :\n",
    "\n",
    "1. `<a href=\"https://www.w3schools.com/\">https://www.w3schools.com/</a>`\n",
    "\n",
    "2. `<a href=\"lien hypertexte\">https://www.w3schools.com/</a>`\n",
    "\n",
    "3. `<a href=\"https://www.w3schools.com/\">lien hypertexte</a>`\n",
    "   \n",
    "2. `<href a=\"https://www.w3schools.com/\">lien hypertexte</href>`"
   ]
  },
  {
   "cell_type": "markdown",
   "metadata": {},
   "source": [
    "<div class=\"alert alert-warning\">\n",
    "__Corrigé__ :  Réponse 3"
   ]
  },
  {
   "cell_type": "markdown",
   "metadata": {},
   "source": [
    " <div class=\"alert alert-info\">\n",
    " \n",
    "## Exercice 72\n",
    "\n",
    "Pour créer un lien vers la page d'accueil de Wikipédia, que devra-t-on\n",
    "écrire dans une page Web ?\n",
    "\n",
    "__Réponses :__\n",
    "\n",
    "1. __Réponse 1 :__ `<a target=\"http://fr.wikipedia.org\">Wikipédia</a>`\n",
    "\n",
    "2. __Réponse 2 :__  `<a href=\"http://fr.wikipedia.org\">`\n",
    "\n",
    "3. __Réponse 3 :__  `<a href=\"http://fr.wikipedia.org\">Wikipédia</a>`\n",
    "\n",
    "4. __Réponse 4 :__  `<link src=\"http://fr.wikipedia.org\">Wikipédia</link>`"
   ]
  },
  {
   "cell_type": "markdown",
   "metadata": {},
   "source": [
    "<div class=\"alert alert-warning\">\n",
    "__Corrigé__ :  Réponse 3"
   ]
  }
 ],
 "metadata": {
  "kernelspec": {
   "display_name": "Python 3",
   "language": "python",
   "name": "python3"
  },
  "language_info": {
   "codemirror_mode": {
    "name": "ipython",
    "version": 3
   },
   "file_extension": ".py",
   "mimetype": "text/x-python",
   "name": "python",
   "nbconvert_exporter": "python",
   "pygments_lexer": "ipython3",
   "version": "3.6.9"
  }
 },
 "nbformat": 4,
 "nbformat_minor": 2
}
