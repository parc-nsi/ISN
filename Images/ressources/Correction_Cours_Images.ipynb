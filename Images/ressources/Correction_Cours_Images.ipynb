{
 "cells": [
  {
   "cell_type": "markdown",
   "metadata": {},
   "source": [
    "## Exercice 2  : _Images bitmap au format PBM_"
   ]
  },
  {
   "cell_type": "markdown",
   "metadata": {},
   "source": [
    "###  Une première solution"
   ]
  },
  {
   "cell_type": "code",
   "execution_count": 25,
   "metadata": {},
   "outputs": [],
   "source": [
    "L, H = 500, 500\n",
    "f = open('bandes.pbm', 'w')\n",
    "f.write('P1\\n')\n",
    "f.write(str(L) + ' ' + str(H) + '\\n')\n",
    "for lig in range(H):\n",
    "    for col in range(L):\n",
    "        if (lig // 50 + col // 50)%2 == 0 and lig % 50 + col % 50 <= 49 \\\n",
    "        or (lig // 50 + col // 50)%2 == 1 and lig % 50 + col % 50 > 49 :\n",
    "            f.write('0') #blanc\n",
    "        else:\n",
    "            f.write('1') #noir           \n",
    "    f.write('\\n')\n",
    "f.close()"
   ]
  },
  {
   "cell_type": "markdown",
   "metadata": {},
   "source": [
    "### Une solution plus compacte"
   ]
  },
  {
   "cell_type": "code",
   "execution_count": 26,
   "metadata": {},
   "outputs": [],
   "source": [
    "L, H = 500, 500\n",
    "f = open('bandes.pbm', 'w')\n",
    "f.write('P1\\n')\n",
    "f.write(str(L) + ' ' + str(H) + '\\n')\n",
    "for lig in range(H):\n",
    "    for col in range(L):\n",
    "        if ((lig + col) // 50)%2 == 1:\n",
    "            f.write('1') #noir\n",
    "        else:\n",
    "            f.write('0') #blanc          \n",
    "    f.write('\\n')\n",
    "f.close()"
   ]
  },
  {
   "cell_type": "code",
   "execution_count": 36,
   "metadata": {},
   "outputs": [],
   "source": [
    "#affichage avec wand module de Python de binding pour ImageMagick\n",
    "def conversion(imagesource,imagebut, formatbut):\n",
    "    import wand\n",
    "    from wand.image import Image\n",
    "    from wand.display import display\n",
    "    #on convertit l'image inversée en PNG avec wand\n",
    "    impbm = wand.image.Image(filename = imagesource)\n",
    "    impng = impbm.convert(formatbut)\n",
    "    impng.save(filename = imagebut)\n",
    "    \n",
    "conversion('bandes.pbm', 'bandes-pbm.png','png')"
   ]
  },
  {
   "cell_type": "markdown",
   "metadata": {},
   "source": [
    "![](bandes-pbm.png)"
   ]
  },
  {
   "cell_type": "markdown",
   "metadata": {},
   "source": [
    "## Exercice 3  : _Images bitmap au format PGM_"
   ]
  },
  {
   "cell_type": "code",
   "execution_count": 28,
   "metadata": {},
   "outputs": [],
   "source": [
    "def inverser_couleurs_pbm(source, but):\n",
    "    \"\"\"Lit le fichier pbm source et le recopie dans le fichier pgm\n",
    "    but en inversant les couleurs\"\"\"\n",
    "    #ouverture de fichiers en lecture pour source et écriture pour but\n",
    "    f = open(source, 'r')\n",
    "    g = open(but, 'w')\n",
    "    #on recopie l'en-tête (les deux premières lignes)\n",
    "    for k in range(2):\n",
    "        lig = f.readline()\n",
    "        g.write(lig)\n",
    "    #pour les lignes codant les pixels on inverse chaque valeur de pixel\n",
    "    for lig in f:\n",
    "        for caractere in lig:\n",
    "            if caractere == '0':\n",
    "                g.write('1')\n",
    "            elif caractere == '1':\n",
    "                g.write('0')\n",
    "            else:\n",
    "                g.write(caractere)\n",
    "    g.close()\n",
    "    f.close()"
   ]
  },
  {
   "cell_type": "code",
   "execution_count": 29,
   "metadata": {},
   "outputs": [],
   "source": [
    "inverser_couleurs_pbm('damier.pbm', 'damier-inverse.pbm')"
   ]
  },
  {
   "cell_type": "code",
   "execution_count": 30,
   "metadata": {},
   "outputs": [],
   "source": [
    "conversion('damier-inverse.pbm',  'damier-inverse.png', 'png')"
   ]
  },
  {
   "cell_type": "markdown",
   "metadata": {},
   "source": [
    "![](damier-inverse.png)"
   ]
  },
  {
   "cell_type": "markdown",
   "metadata": {},
   "source": [
    "## Exercice 3 _Images en niveaux de gris au format PGM_"
   ]
  },
  {
   "cell_type": "code",
   "execution_count": 31,
   "metadata": {},
   "outputs": [],
   "source": [
    "def rechercher_pixel_ppm(source, lig, col):\n",
    "    \"\"\"Retourne la valeur du pixel en ligne lig et colonne col \n",
    "    dans le fichier image source au format PGM\"\"\"\n",
    "    f = open(source, 'r')\n",
    "    for k in range(3 + lig + 1):\n",
    "        f.readline()\n",
    "    liste_pixels = f.readline().split()\n",
    "    f.close()\n",
    "    return int(liste_pixels[col])\n",
    "    \n",
    "def flip_ppm(source, but):\n",
    "    \"\"\"Retourne un fichier but au format PGM obtenu en appliquant une symétrie \n",
    "    d'axe vertical (flip) à l'image du fichier source au format PGM\"\"\"\n",
    "    #ouverture de fichiers en lecture pour source et écriture pour but\n",
    "    f = open(source, 'r')\n",
    "    g = open(but, 'w')\n",
    "    #on recopie l'en-tête (les trois premières lignes)\n",
    "    for k in range(3):\n",
    "        lig = f.readline()\n",
    "        g.write(lig)\n",
    "    for lig in f:\n",
    "        liste_pixels = lig.split()\n",
    "        g.write(' '.join(liste_pixels[::-1]) + '\\n')\n",
    "    g.close()\n",
    "    f.close()\n",
    "    \n",
    "def flop_ppm(source, but):\n",
    "    \"\"\"Retourne un fichier but au format PGM obtenu en appliquant une symétrie \n",
    "    d'axe horizontal (flop) à l'image du fichier source au format PGM\"\"\"\n",
    "    #ouverture de fichiers en lecture pour source et écriture pour but\n",
    "    f = open(source, 'r')\n",
    "    g = open(but, 'w')\n",
    "    #on recopie l'en-tête (les trois premières lignes)\n",
    "    for k in range(3):\n",
    "        lig = f.readline()\n",
    "        g.write(lig)\n",
    "    liste_lignes = f.readlines()\n",
    "    for lig in reversed(liste_lignes):\n",
    "        g.write(lig)\n",
    "    g.close()\n",
    "    f.close()"
   ]
  },
  {
   "cell_type": "code",
   "execution_count": 32,
   "metadata": {},
   "outputs": [],
   "source": [
    "flip_ppm('lena.ppm', 'lena-flip.ppm')\n",
    "flop_ppm('lena.ppm', 'lena-flop.ppm')"
   ]
  },
  {
   "cell_type": "code",
   "execution_count": 33,
   "metadata": {},
   "outputs": [],
   "source": [
    "conversion('lena.ppm', 'lena.png', 'png')\n",
    "conversion('lena-flip.ppm', 'lena-flip.png', 'png')\n",
    "conversion('lena-flop.ppm', 'lena-flop.png', 'png')"
   ]
  },
  {
   "cell_type": "markdown",
   "metadata": {},
   "source": [
    "### lena.png\n",
    "\n",
    "![](lena.png)\n",
    "\n",
    "### lena-flip.png\n",
    "\n",
    "![](lena-flip.png)\n",
    "\n",
    "### lena-flop.png\n",
    "\n",
    "![](lena-flop.png)"
   ]
  },
  {
   "cell_type": "markdown",
   "metadata": {},
   "source": [
    "## Exercice 3 Fichiers binaires et images bitmap"
   ]
  },
  {
   "cell_type": "markdown",
   "metadata": {},
   "source": [
    "Un premier exemple d'introduction"
   ]
  },
  {
   "cell_type": "code",
   "execution_count": 1,
   "metadata": {},
   "outputs": [
    {
     "name": "stdout",
     "output_type": "stream",
     "text": [
      "(512, 512) PNG L\n",
      "129\n",
      "[162 162 164 162 161 157 163 161 164 160 163 160 153 161 159 154 154 155\n",
      " 160 158]\n",
      "53\n"
     ]
    }
   ],
   "source": [
    "from PIL import Image\n",
    "import numpy\n",
    "\n",
    "\n",
    "#on ouvre l'image\n",
    "im = Image.open('lenagray.png')\n",
    "\n",
    "#on affiche les dimensions, le format de fichier et le mode de l'image (binaire, niveaux de gris (L), RGB)\n",
    "print(im.size,im.format, im.mode)\n",
    "\n",
    "#on transforme l'image en tableau numpy à 2 dimensions  de pixels    \n",
    "tab = numpy.asarray(im)\n",
    "\n",
    "#on affiche le pixel en première ligne et dernière colonne\n",
    "print(tab[0][511])\n",
    "\n",
    "#on affiche les vingt premiers pixels de la première ligne\n",
    "print(tab[0][:20])\n",
    "\n",
    "#on affiche le pixel en dernière ligne et première colonne\n",
    "print(tab[511][0])\n",
    "\n",
    "#un flop\n",
    "\n",
    "#on crée un tableau 2 de mêmes dimensions que tab et rempli de 0\n",
    "#Attention à bien créer un tableau numpy et à préciser le type 'uint8' qui correspond à un octer par pixel\n",
    "nblig, nbcol = len(tab), len(tab[0])\n",
    "tab2 = numpy.array([ [0] * nbcol for _ in range(nblig) ], dtype ='uint8')\n",
    "\n",
    "#on recopie tab dans tab 2 mais en inversant l'ordre des lignes  (flop)\n",
    "for lig in range(0, nblig):\n",
    "    for col in range(0, nbcol):\n",
    "        tab2[lig][col] = tab[nblig - 1 - lig][col]\n",
    "        \n",
    "#on transforme tab2 en image\n",
    "im2 = Image.fromarray(tab2)\n",
    "#on enregistre cette image sur le disque\n",
    "im2.save(\"lenagray-flop.png\")\n",
    "\n",
    "#Un flip \n",
    "\n",
    "#on crée un tableau 2 de mêmes dimensions que tab et rempli de 0\n",
    "#Attention à bien créer un tableau numpy et à préciser le type 'uint8' qui correspond à un octer par pixel\n",
    "nblig, nbcol = len(tab), len(tab[0])\n",
    "tab3 = numpy.array([ [0] * nbcol for _ in range(nblig) ], dtype ='uint8')\n",
    "\n",
    "#on recopie tab dans tab 2 mais en inversant l'ordre des lignes  (flop)\n",
    "for lig in range(0, nblig):\n",
    "    for col in range(0, nbcol):\n",
    "        tab3[lig][col] = tab[lig][nbcol - 1 - col]\n",
    "        \n",
    "#on transforme tab2 en image\n",
    "im3 = Image.fromarray(tab3)\n",
    "#on enregistre cette image sur le disque\n",
    "im3.save(\"lenagray-flip.png\")\n",
    "\n",
    "#passons au négatif\n",
    "def negatif_gris(source, but):\n",
    "    \"\"\"Enregistre sur le disque un négatif de l'image source en niveaux de gris\"\"\"\n",
    "    imsource= Image.open(source)\n",
    "    tab = numpy.asarray(imsource)\n",
    "    nbcol, nblig = len(tab[0]), len(tab)\n",
    "    tab2 = numpy.array([ [0] * nbcol for _ in range(nblig) ], dtype ='uint8')    \n",
    "    for lig in range(nblig):\n",
    "        for col in range(nbcol):\n",
    "            tab2[lig][col] = 255 - tab[lig][col]\n",
    "    imbut = Image.fromarray(tab2)\n",
    "    imbut.save(but)\n",
    "\n",
    "negatif_gris('lenagray.png', 'lenagray-negatif.png')"
   ]
  },
  {
   "cell_type": "markdown",
   "metadata": {},
   "source": [
    "Transformation du photomaton"
   ]
  },
  {
   "cell_type": "code",
   "execution_count": 34,
   "metadata": {},
   "outputs": [],
   "source": [
    "## Imports des modules\n",
    "\n",
    "from PIL import Image\n",
    "import numpy\n",
    "\n",
    "\n",
    "##Exercice 3 Question 1\n",
    "\n",
    "def transformation(i, j, n):\n",
    "    \"\"\"Retourne les coordonnées (colonne, ligne) de l'image du pixel de \n",
    "    coordonnées (i, j) par la transformation du photomaton\"\"\"\n",
    "    if i % 2 == 0:\n",
    "        if j % 2 == 0:\n",
    "            return (i // 2, j // 2)\n",
    "        else:\n",
    "            return (i // 2, (j + n) // 2)\n",
    "    else:\n",
    "        if j % 2 == 0:\n",
    "            return ((i + n) // 2, j // 2)\n",
    "        else:\n",
    "            return ((i + n) // 2, (j + n) // 2)\n",
    "            \n",
    "##Exercice 3 Question 2\n",
    "\n",
    "\n",
    "def copie(tableau):\n",
    "    \"\"\"Retourne la copie profonde d'un tableau à deux dimensions\"\"\"\n",
    "    return numpy.array([[tableau[j][i] for i in range(len(tableau[j]))] \n",
    "    for j in range(len(tableau))], dtype = 'uint8')\n",
    "            \n",
    "\n",
    "def photomaton(tableau):\n",
    "    \"\"\"Retourne le tableau calculé obtenu après application de la transformation\n",
    "    du photomaton au tableau passé en paramètre\"\"\"\n",
    "    tableau2 = copie(tableau)\n",
    "    n = len(tableau)\n",
    "    for i in range(n):\n",
    "        for j in range(n):\n",
    "            (i2, j2) = transformation(i, j, n)\n",
    "            tableau2[i2][j2] = tableau[i][j]\n",
    "    return tableau2\n",
    "    \n",
    "##Exercice 3 Question 3\n",
    "\n",
    "def photomaton_iterer(source, k):\n",
    "    im = Image.open(source)\n",
    "    nom, extension = source.split('.')\n",
    "    tab = numpy.asarray(im)\n",
    "    for iteration in range(1, k + 1):\n",
    "        tab = photomaton(tab)\n",
    "        im = Image.fromarray(tab)\n",
    "        im.save(nom + '-photomaton-iteration-' + str(iteration) + '.' + extension)"
   ]
  },
  {
   "cell_type": "code",
   "execution_count": 35,
   "metadata": {},
   "outputs": [],
   "source": [
    "photomaton_iterer('lenagray-256.png', 8)"
   ]
  },
  {
   "cell_type": "markdown",
   "metadata": {},
   "source": [
    "### Itération 1\n",
    "\n",
    "![](lenagray-256-photomaton-iteration-1.png)\n",
    "\n",
    "### Itération 2\n",
    "\n",
    "![](lenagray-256-photomaton-iteration-2.png)\n",
    "\n",
    "### Itération 3\n",
    "\n",
    "![](lenagray-256-photomaton-iteration-3.png)\n",
    "\n",
    "### Itération 4\n",
    "\n",
    "![](lenagray-256-photomaton-iteration-4.png)\n",
    "\n",
    "### Itération 5\n",
    "\n",
    "![](lenagray-256-photomaton-iteration-5.png)\n",
    "\n",
    "### Itération 6\n",
    "\n",
    "![](lenagray-256-photomaton-iteration-6.png)\n",
    "\n",
    "### Itération 7\n",
    "\n",
    "![](lenagray-256-photomaton-iteration-7.png)\n",
    "\n",
    "### Itération 8\n",
    "\n",
    "![](lenagray-256-photomaton-iteration-8.png)\n"
   ]
  }
 ],
 "metadata": {
  "kernelspec": {
   "display_name": "Python 3",
   "language": "python",
   "name": "python3"
  },
  "language_info": {
   "codemirror_mode": {
    "name": "ipython",
    "version": 3
   },
   "file_extension": ".py",
   "mimetype": "text/x-python",
   "name": "python",
   "nbconvert_exporter": "python",
   "pygments_lexer": "ipython3",
   "version": "3.6.9"
  }
 },
 "nbformat": 4,
 "nbformat_minor": 2
}
